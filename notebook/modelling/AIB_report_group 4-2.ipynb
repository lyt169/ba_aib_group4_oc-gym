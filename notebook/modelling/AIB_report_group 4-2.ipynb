{
 "cells": [
  {
   "cell_type": "markdown",
   "metadata": {},
   "source": [
    "## Customer Churn Rate Analysis and Prediction for OC&Gym Gym Clubs Using Data from 2009 to 2019\n"
   ]
  },
  {
   "cell_type": "markdown",
   "metadata": {},
   "source": [
    "#### Group four members:\n",
    "- Yitong Liu | 01625757\n",
    "- Faiz Fablillah | 01525542\n",
    "- Mingming Zhu | 01548939\n",
    "- Mukund Premkumar | 01605996\n",
    "- Isabella Li | 01547310"
   ]
  },
  {
   "cell_type": "markdown",
   "metadata": {},
   "source": [
    "### Summary\n"
   ]
  },
  {
   "cell_type": "markdown",
   "metadata": {},
   "source": [
    "The objective of this project is to analyze customer churn for OC&Gym gym club’s membership across its entire operation. The analysis will be used to help reduce the customer churn and subsequently sustain desired revenue. The procedure we took was initially coming up with some hypothesis about the data and then testing those using data analysis. In the end we were able to arrive with several key insights based on which we produced actionable insights about the business. In addition, we also performed prediction of the number of customers churnning in one month and three months time based on modelling. "
   ]
  },
  {
   "cell_type": "markdown",
   "metadata": {},
   "source": [
    "### Introduction"
   ]
  },
  {
   "cell_type": "markdown",
   "metadata": {},
   "source": [
    "This report analyses churn rates and revenue of a large London based gym franchise known as OC&Gym. The gym has been expanding significantly over the last 10 years but recently slowed expansion and to boost revenue the gym has increased prices. We have analysed visitation and customer data from 2009 to 2019 to find insights in order to minimise customer churn. The analysis process began with making 3 hypotheses about customer behaviour and churn.\n",
    "\n",
    "1) The first hypothesis was that the following attributes would be related to the customer churn rate.\n",
    "\n",
    "- Gender\n",
    "- Age of customer\n",
    "- Subscription Type of customer\n",
    "- How regularly a customer attended the gym\n",
    "- At what times (peak vs non peak) a customer attends the gym\n",
    "\n",
    "\n",
    "2) Our second hypothesis was that there would be a strong seasonal effect to the revenue  and we would see significant changes around the time the pricing strategy was implemented.\n",
    "\n",
    "3) Our third hypothesis was that there will be a correlation between the characteristics (size, population, average  income, affluence) of a London borough and the revenue earned from the gym in that borough.\n",
    "\n",
    "We then performed data cleaning and took various cuts of the data, based on which we prepared graphs and performed statistical analysis to find actionable insights. In addition to this we attempted to prepare a machine learning model which would try and predict the duration a customer would join the gym for.  This would enable the gym to find customers who are likely to leave and target them with deals/discounts to prevent them leaving. In the end we were able to suggest a range of improvements to the gyms operations and pricing strategy."
   ]
  },
  {
   "cell_type": "markdown",
   "metadata": {},
   "source": [
    "### Technologies and techniques"
   ]
  },
  {
   "cell_type": "markdown",
   "metadata": {},
   "source": [
    "#### I. Time-series analysis\n",
    "\n",
    "**Please note that the time-series scripts took too long to run (over an hour) and only worked if you ran them block by block.  We are submiting a seperate ipynb and html file called time_series and have pasted the graphs as images into this notebook**\n",
    "\n",
    "The area of exploration performed under time-series analysis was finding the churn of customers for each month, initially for the entire data set but later after splitting the data based on different characteristics to see if different customer groups responded to the price change differently in terms of both revenue and churn rate. \n",
    "\n",
    "Churn rate was defined as (number of customers who left during the month)/(number of customers at the start of the month). If a customer was to join and leave in the same month then we also increase the numerator and denominator by 1 ie. they count as a churned customer.\n",
    "\n",
    "A key challenge that we faced was that the business was constantly expanding the number of clubs.  It would not be fair to compare the revenue of the gym when it only had one club open as opposed to when it had 5 clubs. Therefore we standardised the revenue by dividing the total monthly revenue by the total number of stores that were open in that month. Here on we will refer to that as standardised revenue.\n",
    "\n",
    "In order to perform this analysis we first calculated the number of clubs open in each month.\n",
    "\n",
    "Then we built a function which takes in the subscriptions data as a list of lists and a list containing each month of each year we want to analyse, in the format Month-Year eg. “Jan-11”."
   ]
  },
  {
   "cell_type": "markdown",
   "metadata": {},
   "source": [
    "We also built another function that returns the revenue for each month by taking in as input.\n",
    "- A dataframe containing cleaned visit data\n",
    "- A dataframe containing the number of stores in each month\n",
    "- A list containing each month we want to analyse. \n",
    "- A list of lists containing the subscription information of customers we want to analyse.\n",
    "\n",
    "Finally we just input all the data as well as cuts of the data such as all male or all female into the function and plotted the outputs to see relevant trends.\n"
   ]
  },
  {
   "cell_type": "markdown",
   "metadata": {},
   "source": [
    "#### Ii. Statistical Techniques.\n",
    "We started with defining the attributes that can be either found in dataset or new attributes that were derived from formula, for instance simple calculation that gave us percentage or average of some attributes created during the cleaning phase. The basis of the formula and calculation was referring to our hypothesis that we have defined in the earlier stage. We then perform data mining using statistical techniques of linear regression where we performed estimation of our defined variables’ value and also provide a description of the relationship between our independent and dependant variables. From regression models, we find patterns for all values of the variables by testing them out. \n",
    "We extended our analysis by performing a directed data mining technique of decision trees. This step recursively split data into smaller and smaller cells.We also used random forest model to perform our analysis to prevent the overfitting and high variance problem that a single decision tree may incur.\n",
    "\n"
   ]
  },
  {
   "cell_type": "markdown",
   "metadata": {},
   "source": [
    "### Cleaning and preparing the data"
   ]
  },
  {
   "cell_type": "code",
   "execution_count": 51,
   "metadata": {},
   "outputs": [],
   "source": [
    "import pandas as pd\n",
    "import numpy as np\n",
    "import matplotlib.pyplot as plt\n",
    "import os\n",
    "import datetime as dt\n",
    "import csv"
   ]
  },
  {
   "cell_type": "code",
   "execution_count": 52,
   "metadata": {},
   "outputs": [],
   "source": [
    "# go back to grand parent level directory\n",
    "path = os.path.abspath(os.getcwd() + \"/../../\")"
   ]
  },
  {
   "cell_type": "markdown",
   "metadata": {},
   "source": [
    "### Import raw and processed data"
   ]
  },
  {
   "cell_type": "markdown",
   "metadata": {},
   "source": [
    "-----------------------------\n",
    "#### Import client and competitor pricing data"
   ]
  },
  {
   "cell_type": "code",
   "execution_count": 53,
   "metadata": {},
   "outputs": [
    {
     "data": {
      "text/html": [
       "<div>\n",
       "<style scoped>\n",
       "    .dataframe tbody tr th:only-of-type {\n",
       "        vertical-align: middle;\n",
       "    }\n",
       "\n",
       "    .dataframe tbody tr th {\n",
       "        vertical-align: top;\n",
       "    }\n",
       "\n",
       "    .dataframe thead th {\n",
       "        text-align: right;\n",
       "    }\n",
       "</style>\n",
       "<table border=\"1\" class=\"dataframe\">\n",
       "  <thead>\n",
       "    <tr style=\"text-align: right;\">\n",
       "      <th></th>\n",
       "      <th>Year</th>\n",
       "      <th>Flexible</th>\n",
       "      <th>Standard</th>\n",
       "      <th>Joinee</th>\n",
       "      <th>Dayass</th>\n",
       "    </tr>\n",
       "  </thead>\n",
       "  <tbody>\n",
       "    <tr>\n",
       "      <th>0</th>\n",
       "      <td>2009</td>\n",
       "      <td>25.99</td>\n",
       "      <td>20.99</td>\n",
       "      <td>5</td>\n",
       "      <td>6</td>\n",
       "    </tr>\n",
       "    <tr>\n",
       "      <th>1</th>\n",
       "      <td>2010</td>\n",
       "      <td>25.99</td>\n",
       "      <td>20.99</td>\n",
       "      <td>5</td>\n",
       "      <td>6</td>\n",
       "    </tr>\n",
       "    <tr>\n",
       "      <th>2</th>\n",
       "      <td>2011</td>\n",
       "      <td>25.99</td>\n",
       "      <td>20.99</td>\n",
       "      <td>5</td>\n",
       "      <td>6</td>\n",
       "    </tr>\n",
       "    <tr>\n",
       "      <th>3</th>\n",
       "      <td>2012</td>\n",
       "      <td>25.99</td>\n",
       "      <td>20.99</td>\n",
       "      <td>5</td>\n",
       "      <td>6</td>\n",
       "    </tr>\n",
       "    <tr>\n",
       "      <th>4</th>\n",
       "      <td>2013</td>\n",
       "      <td>25.99</td>\n",
       "      <td>20.99</td>\n",
       "      <td>5</td>\n",
       "      <td>6</td>\n",
       "    </tr>\n",
       "    <tr>\n",
       "      <th>5</th>\n",
       "      <td>2014</td>\n",
       "      <td>25.99</td>\n",
       "      <td>20.99</td>\n",
       "      <td>5</td>\n",
       "      <td>6</td>\n",
       "    </tr>\n",
       "    <tr>\n",
       "      <th>6</th>\n",
       "      <td>2015</td>\n",
       "      <td>25.99</td>\n",
       "      <td>20.99</td>\n",
       "      <td>5</td>\n",
       "      <td>6</td>\n",
       "    </tr>\n",
       "    <tr>\n",
       "      <th>7</th>\n",
       "      <td>2016</td>\n",
       "      <td>30.99</td>\n",
       "      <td>26.99</td>\n",
       "      <td>5</td>\n",
       "      <td>6</td>\n",
       "    </tr>\n",
       "    <tr>\n",
       "      <th>8</th>\n",
       "      <td>2017</td>\n",
       "      <td>30.99</td>\n",
       "      <td>26.99</td>\n",
       "      <td>5</td>\n",
       "      <td>6</td>\n",
       "    </tr>\n",
       "    <tr>\n",
       "      <th>9</th>\n",
       "      <td>2018</td>\n",
       "      <td>30.99</td>\n",
       "      <td>26.99</td>\n",
       "      <td>5</td>\n",
       "      <td>6</td>\n",
       "    </tr>\n",
       "  </tbody>\n",
       "</table>\n",
       "</div>"
      ],
      "text/plain": [
       "   Year  Flexible  Standard  Joinee  Dayass\n",
       "0  2009     25.99     20.99       5       6\n",
       "1  2010     25.99     20.99       5       6\n",
       "2  2011     25.99     20.99       5       6\n",
       "3  2012     25.99     20.99       5       6\n",
       "4  2013     25.99     20.99       5       6\n",
       "5  2014     25.99     20.99       5       6\n",
       "6  2015     25.99     20.99       5       6\n",
       "7  2016     30.99     26.99       5       6\n",
       "8  2017     30.99     26.99       5       6\n",
       "9  2018     30.99     26.99       5       6"
      ]
     },
     "execution_count": 53,
     "metadata": {},
     "output_type": "execute_result"
    }
   ],
   "source": [
    "# import client data\n",
    "client_price = pd.read_csv(os.path.join(path,'data/processed/client_price.csv'))\n",
    "client_price"
   ]
  },
  {
   "cell_type": "code",
   "execution_count": 54,
   "metadata": {},
   "outputs": [
    {
     "data": {
      "text/html": [
       "<div>\n",
       "<style scoped>\n",
       "    .dataframe tbody tr th:only-of-type {\n",
       "        vertical-align: middle;\n",
       "    }\n",
       "\n",
       "    .dataframe tbody tr th {\n",
       "        vertical-align: top;\n",
       "    }\n",
       "\n",
       "    .dataframe thead th {\n",
       "        text-align: right;\n",
       "    }\n",
       "</style>\n",
       "<table border=\"1\" class=\"dataframe\">\n",
       "  <thead>\n",
       "    <tr style=\"text-align: right;\">\n",
       "      <th></th>\n",
       "      <th>Year</th>\n",
       "      <th>Flexible</th>\n",
       "      <th>Standard</th>\n",
       "      <th>Joinee</th>\n",
       "    </tr>\n",
       "  </thead>\n",
       "  <tbody>\n",
       "    <tr>\n",
       "      <th>0</th>\n",
       "      <td>2009</td>\n",
       "      <td>35.99</td>\n",
       "      <td>30.99</td>\n",
       "      <td>8</td>\n",
       "    </tr>\n",
       "    <tr>\n",
       "      <th>1</th>\n",
       "      <td>2010</td>\n",
       "      <td>35.99</td>\n",
       "      <td>30.99</td>\n",
       "      <td>8</td>\n",
       "    </tr>\n",
       "  </tbody>\n",
       "</table>\n",
       "</div>"
      ],
      "text/plain": [
       "   Year  Flexible  Standard  Joinee\n",
       "0  2009     35.99     30.99       8\n",
       "1  2010     35.99     30.99       8"
      ]
     },
     "execution_count": 54,
     "metadata": {},
     "output_type": "execute_result"
    }
   ],
   "source": [
    "# import competitor data\n",
    "competitor_price = pd.read_csv(os.path.join(path,'data/processed/competitor_price.csv'))\n",
    "competitor_price.head(2)"
   ]
  },
  {
   "cell_type": "markdown",
   "metadata": {},
   "source": [
    "------------------------\n",
    "### Create a customer visit database using visitationdataPART1.csv and visitationdataPART2.csv"
   ]
  },
  {
   "cell_type": "code",
   "execution_count": 55,
   "metadata": {},
   "outputs": [],
   "source": [
    "# import visit data\n",
    "\n",
    "def visit():\n",
    "    visit_1 = pd.read_csv(os.path.join(path,'data/raw/visitationdataPART1.csv'))\n",
    "    visit_2 = pd.read_csv(os.path.join(path,'data/raw/visitationdataPART2.csv'))\n",
    "    visit_db = pd.concat([visit_1, visit_2])\n",
    "    \n",
    "    # combine columns to create date + time onject\n",
    "    visit_db['timestamp'] = visit_db['visitdate']+' '+visit_db['TimeofVisit']\n",
    "    visit_db['timestamp'] = pd.to_datetime(visit_db['timestamp'])\n",
    "    visit_db['is_peak'] = [1 if x else 0 for x in visit_db['peakvisits']]\n",
    "\n",
    "    visit_db = visit_db.drop(columns=['peakvisits', 'visitdate', 'TimeofVisit'])\n",
    "    visit_db = visit_db.rename(columns={\"CustomerID\": \"id\"})\n",
    "    \n",
    "    print(f'{len(visit_db)} visits found and imported')\n",
    "    return visit_db"
   ]
  },
  {
   "cell_type": "code",
   "execution_count": 59,
   "metadata": {},
   "outputs": [
    {
     "ename": "FileNotFoundError",
     "evalue": "[Errno 2] File b'C:\\\\Users\\\\Isabella\\\\Desktop\\\\Analytics in business\\\\coursework 1\\\\ba_aib_group4_oc-gym-master\\\\ba_aib_group4_oc-gym-master\\\\data/raw/visitationdataPART1.csv' does not exist: b'C:\\\\Users\\\\Isabella\\\\Desktop\\\\Analytics in business\\\\coursework 1\\\\ba_aib_group4_oc-gym-master\\\\ba_aib_group4_oc-gym-master\\\\data/raw/visitationdataPART1.csv'",
     "output_type": "error",
     "traceback": [
      "\u001b[1;31m---------------------------------------------------------------------------\u001b[0m",
      "\u001b[1;31mFileNotFoundError\u001b[0m                         Traceback (most recent call last)",
      "\u001b[1;32m<ipython-input-59-b2125160f1d9>\u001b[0m in \u001b[0;36m<module>\u001b[1;34m\u001b[0m\n\u001b[1;32m----> 1\u001b[1;33m \u001b[0mvisit_db\u001b[0m \u001b[1;33m=\u001b[0m \u001b[0mvisit\u001b[0m\u001b[1;33m(\u001b[0m\u001b[1;33m)\u001b[0m\u001b[1;33m\u001b[0m\u001b[1;33m\u001b[0m\u001b[0m\n\u001b[0m\u001b[0;32m      2\u001b[0m \u001b[0mvisit_db\u001b[0m\u001b[1;33m.\u001b[0m\u001b[0mhead\u001b[0m\u001b[1;33m(\u001b[0m\u001b[1;36m2\u001b[0m\u001b[1;33m)\u001b[0m\u001b[1;33m\u001b[0m\u001b[1;33m\u001b[0m\u001b[0m\n",
      "\u001b[1;32m<ipython-input-55-014abafa6b44>\u001b[0m in \u001b[0;36mvisit\u001b[1;34m()\u001b[0m\n\u001b[0;32m      2\u001b[0m \u001b[1;33m\u001b[0m\u001b[0m\n\u001b[0;32m      3\u001b[0m \u001b[1;32mdef\u001b[0m \u001b[0mvisit\u001b[0m\u001b[1;33m(\u001b[0m\u001b[1;33m)\u001b[0m\u001b[1;33m:\u001b[0m\u001b[1;33m\u001b[0m\u001b[1;33m\u001b[0m\u001b[0m\n\u001b[1;32m----> 4\u001b[1;33m     \u001b[0mvisit_1\u001b[0m \u001b[1;33m=\u001b[0m \u001b[0mpd\u001b[0m\u001b[1;33m.\u001b[0m\u001b[0mread_csv\u001b[0m\u001b[1;33m(\u001b[0m\u001b[0mos\u001b[0m\u001b[1;33m.\u001b[0m\u001b[0mpath\u001b[0m\u001b[1;33m.\u001b[0m\u001b[0mjoin\u001b[0m\u001b[1;33m(\u001b[0m\u001b[0mpath\u001b[0m\u001b[1;33m,\u001b[0m\u001b[1;34m'data/raw/visitationdataPART1.csv'\u001b[0m\u001b[1;33m)\u001b[0m\u001b[1;33m)\u001b[0m\u001b[1;33m\u001b[0m\u001b[1;33m\u001b[0m\u001b[0m\n\u001b[0m\u001b[0;32m      5\u001b[0m     \u001b[0mvisit_2\u001b[0m \u001b[1;33m=\u001b[0m \u001b[0mpd\u001b[0m\u001b[1;33m.\u001b[0m\u001b[0mread_csv\u001b[0m\u001b[1;33m(\u001b[0m\u001b[0mos\u001b[0m\u001b[1;33m.\u001b[0m\u001b[0mpath\u001b[0m\u001b[1;33m.\u001b[0m\u001b[0mjoin\u001b[0m\u001b[1;33m(\u001b[0m\u001b[0mpath\u001b[0m\u001b[1;33m,\u001b[0m\u001b[1;34m'data/raw/visitationdataPART2.csv'\u001b[0m\u001b[1;33m)\u001b[0m\u001b[1;33m)\u001b[0m\u001b[1;33m\u001b[0m\u001b[1;33m\u001b[0m\u001b[0m\n\u001b[0;32m      6\u001b[0m     \u001b[0mvisit_db\u001b[0m \u001b[1;33m=\u001b[0m \u001b[0mpd\u001b[0m\u001b[1;33m.\u001b[0m\u001b[0mconcat\u001b[0m\u001b[1;33m(\u001b[0m\u001b[1;33m[\u001b[0m\u001b[0mvisit_1\u001b[0m\u001b[1;33m,\u001b[0m \u001b[0mvisit_2\u001b[0m\u001b[1;33m]\u001b[0m\u001b[1;33m)\u001b[0m\u001b[1;33m\u001b[0m\u001b[1;33m\u001b[0m\u001b[0m\n",
      "\u001b[1;32m~\\Anaconda3\\lib\\site-packages\\pandas\\io\\parsers.py\u001b[0m in \u001b[0;36mparser_f\u001b[1;34m(filepath_or_buffer, sep, delimiter, header, names, index_col, usecols, squeeze, prefix, mangle_dupe_cols, dtype, engine, converters, true_values, false_values, skipinitialspace, skiprows, skipfooter, nrows, na_values, keep_default_na, na_filter, verbose, skip_blank_lines, parse_dates, infer_datetime_format, keep_date_col, date_parser, dayfirst, iterator, chunksize, compression, thousands, decimal, lineterminator, quotechar, quoting, doublequote, escapechar, comment, encoding, dialect, tupleize_cols, error_bad_lines, warn_bad_lines, delim_whitespace, low_memory, memory_map, float_precision)\u001b[0m\n\u001b[0;32m    700\u001b[0m                     skip_blank_lines=skip_blank_lines)\n\u001b[0;32m    701\u001b[0m \u001b[1;33m\u001b[0m\u001b[0m\n\u001b[1;32m--> 702\u001b[1;33m         \u001b[1;32mreturn\u001b[0m \u001b[0m_read\u001b[0m\u001b[1;33m(\u001b[0m\u001b[0mfilepath_or_buffer\u001b[0m\u001b[1;33m,\u001b[0m \u001b[0mkwds\u001b[0m\u001b[1;33m)\u001b[0m\u001b[1;33m\u001b[0m\u001b[1;33m\u001b[0m\u001b[0m\n\u001b[0m\u001b[0;32m    703\u001b[0m \u001b[1;33m\u001b[0m\u001b[0m\n\u001b[0;32m    704\u001b[0m     \u001b[0mparser_f\u001b[0m\u001b[1;33m.\u001b[0m\u001b[0m__name__\u001b[0m \u001b[1;33m=\u001b[0m \u001b[0mname\u001b[0m\u001b[1;33m\u001b[0m\u001b[1;33m\u001b[0m\u001b[0m\n",
      "\u001b[1;32m~\\Anaconda3\\lib\\site-packages\\pandas\\io\\parsers.py\u001b[0m in \u001b[0;36m_read\u001b[1;34m(filepath_or_buffer, kwds)\u001b[0m\n\u001b[0;32m    427\u001b[0m \u001b[1;33m\u001b[0m\u001b[0m\n\u001b[0;32m    428\u001b[0m     \u001b[1;31m# Create the parser.\u001b[0m\u001b[1;33m\u001b[0m\u001b[1;33m\u001b[0m\u001b[1;33m\u001b[0m\u001b[0m\n\u001b[1;32m--> 429\u001b[1;33m     \u001b[0mparser\u001b[0m \u001b[1;33m=\u001b[0m \u001b[0mTextFileReader\u001b[0m\u001b[1;33m(\u001b[0m\u001b[0mfilepath_or_buffer\u001b[0m\u001b[1;33m,\u001b[0m \u001b[1;33m**\u001b[0m\u001b[0mkwds\u001b[0m\u001b[1;33m)\u001b[0m\u001b[1;33m\u001b[0m\u001b[1;33m\u001b[0m\u001b[0m\n\u001b[0m\u001b[0;32m    430\u001b[0m \u001b[1;33m\u001b[0m\u001b[0m\n\u001b[0;32m    431\u001b[0m     \u001b[1;32mif\u001b[0m \u001b[0mchunksize\u001b[0m \u001b[1;32mor\u001b[0m \u001b[0miterator\u001b[0m\u001b[1;33m:\u001b[0m\u001b[1;33m\u001b[0m\u001b[1;33m\u001b[0m\u001b[0m\n",
      "\u001b[1;32m~\\Anaconda3\\lib\\site-packages\\pandas\\io\\parsers.py\u001b[0m in \u001b[0;36m__init__\u001b[1;34m(self, f, engine, **kwds)\u001b[0m\n\u001b[0;32m    893\u001b[0m             \u001b[0mself\u001b[0m\u001b[1;33m.\u001b[0m\u001b[0moptions\u001b[0m\u001b[1;33m[\u001b[0m\u001b[1;34m'has_index_names'\u001b[0m\u001b[1;33m]\u001b[0m \u001b[1;33m=\u001b[0m \u001b[0mkwds\u001b[0m\u001b[1;33m[\u001b[0m\u001b[1;34m'has_index_names'\u001b[0m\u001b[1;33m]\u001b[0m\u001b[1;33m\u001b[0m\u001b[1;33m\u001b[0m\u001b[0m\n\u001b[0;32m    894\u001b[0m \u001b[1;33m\u001b[0m\u001b[0m\n\u001b[1;32m--> 895\u001b[1;33m         \u001b[0mself\u001b[0m\u001b[1;33m.\u001b[0m\u001b[0m_make_engine\u001b[0m\u001b[1;33m(\u001b[0m\u001b[0mself\u001b[0m\u001b[1;33m.\u001b[0m\u001b[0mengine\u001b[0m\u001b[1;33m)\u001b[0m\u001b[1;33m\u001b[0m\u001b[1;33m\u001b[0m\u001b[0m\n\u001b[0m\u001b[0;32m    896\u001b[0m \u001b[1;33m\u001b[0m\u001b[0m\n\u001b[0;32m    897\u001b[0m     \u001b[1;32mdef\u001b[0m \u001b[0mclose\u001b[0m\u001b[1;33m(\u001b[0m\u001b[0mself\u001b[0m\u001b[1;33m)\u001b[0m\u001b[1;33m:\u001b[0m\u001b[1;33m\u001b[0m\u001b[1;33m\u001b[0m\u001b[0m\n",
      "\u001b[1;32m~\\Anaconda3\\lib\\site-packages\\pandas\\io\\parsers.py\u001b[0m in \u001b[0;36m_make_engine\u001b[1;34m(self, engine)\u001b[0m\n\u001b[0;32m   1120\u001b[0m     \u001b[1;32mdef\u001b[0m \u001b[0m_make_engine\u001b[0m\u001b[1;33m(\u001b[0m\u001b[0mself\u001b[0m\u001b[1;33m,\u001b[0m \u001b[0mengine\u001b[0m\u001b[1;33m=\u001b[0m\u001b[1;34m'c'\u001b[0m\u001b[1;33m)\u001b[0m\u001b[1;33m:\u001b[0m\u001b[1;33m\u001b[0m\u001b[1;33m\u001b[0m\u001b[0m\n\u001b[0;32m   1121\u001b[0m         \u001b[1;32mif\u001b[0m \u001b[0mengine\u001b[0m \u001b[1;33m==\u001b[0m \u001b[1;34m'c'\u001b[0m\u001b[1;33m:\u001b[0m\u001b[1;33m\u001b[0m\u001b[1;33m\u001b[0m\u001b[0m\n\u001b[1;32m-> 1122\u001b[1;33m             \u001b[0mself\u001b[0m\u001b[1;33m.\u001b[0m\u001b[0m_engine\u001b[0m \u001b[1;33m=\u001b[0m \u001b[0mCParserWrapper\u001b[0m\u001b[1;33m(\u001b[0m\u001b[0mself\u001b[0m\u001b[1;33m.\u001b[0m\u001b[0mf\u001b[0m\u001b[1;33m,\u001b[0m \u001b[1;33m**\u001b[0m\u001b[0mself\u001b[0m\u001b[1;33m.\u001b[0m\u001b[0moptions\u001b[0m\u001b[1;33m)\u001b[0m\u001b[1;33m\u001b[0m\u001b[1;33m\u001b[0m\u001b[0m\n\u001b[0m\u001b[0;32m   1123\u001b[0m         \u001b[1;32melse\u001b[0m\u001b[1;33m:\u001b[0m\u001b[1;33m\u001b[0m\u001b[1;33m\u001b[0m\u001b[0m\n\u001b[0;32m   1124\u001b[0m             \u001b[1;32mif\u001b[0m \u001b[0mengine\u001b[0m \u001b[1;33m==\u001b[0m \u001b[1;34m'python'\u001b[0m\u001b[1;33m:\u001b[0m\u001b[1;33m\u001b[0m\u001b[1;33m\u001b[0m\u001b[0m\n",
      "\u001b[1;32m~\\Anaconda3\\lib\\site-packages\\pandas\\io\\parsers.py\u001b[0m in \u001b[0;36m__init__\u001b[1;34m(self, src, **kwds)\u001b[0m\n\u001b[0;32m   1851\u001b[0m         \u001b[0mkwds\u001b[0m\u001b[1;33m[\u001b[0m\u001b[1;34m'usecols'\u001b[0m\u001b[1;33m]\u001b[0m \u001b[1;33m=\u001b[0m \u001b[0mself\u001b[0m\u001b[1;33m.\u001b[0m\u001b[0musecols\u001b[0m\u001b[1;33m\u001b[0m\u001b[1;33m\u001b[0m\u001b[0m\n\u001b[0;32m   1852\u001b[0m \u001b[1;33m\u001b[0m\u001b[0m\n\u001b[1;32m-> 1853\u001b[1;33m         \u001b[0mself\u001b[0m\u001b[1;33m.\u001b[0m\u001b[0m_reader\u001b[0m \u001b[1;33m=\u001b[0m \u001b[0mparsers\u001b[0m\u001b[1;33m.\u001b[0m\u001b[0mTextReader\u001b[0m\u001b[1;33m(\u001b[0m\u001b[0msrc\u001b[0m\u001b[1;33m,\u001b[0m \u001b[1;33m**\u001b[0m\u001b[0mkwds\u001b[0m\u001b[1;33m)\u001b[0m\u001b[1;33m\u001b[0m\u001b[1;33m\u001b[0m\u001b[0m\n\u001b[0m\u001b[0;32m   1854\u001b[0m         \u001b[0mself\u001b[0m\u001b[1;33m.\u001b[0m\u001b[0munnamed_cols\u001b[0m \u001b[1;33m=\u001b[0m \u001b[0mself\u001b[0m\u001b[1;33m.\u001b[0m\u001b[0m_reader\u001b[0m\u001b[1;33m.\u001b[0m\u001b[0munnamed_cols\u001b[0m\u001b[1;33m\u001b[0m\u001b[1;33m\u001b[0m\u001b[0m\n\u001b[0;32m   1855\u001b[0m \u001b[1;33m\u001b[0m\u001b[0m\n",
      "\u001b[1;32mpandas/_libs/parsers.pyx\u001b[0m in \u001b[0;36mpandas._libs.parsers.TextReader.__cinit__\u001b[1;34m()\u001b[0m\n",
      "\u001b[1;32mpandas/_libs/parsers.pyx\u001b[0m in \u001b[0;36mpandas._libs.parsers.TextReader._setup_parser_source\u001b[1;34m()\u001b[0m\n",
      "\u001b[1;31mFileNotFoundError\u001b[0m: [Errno 2] File b'C:\\\\Users\\\\Isabella\\\\Desktop\\\\Analytics in business\\\\coursework 1\\\\ba_aib_group4_oc-gym-master\\\\ba_aib_group4_oc-gym-master\\\\data/raw/visitationdataPART1.csv' does not exist: b'C:\\\\Users\\\\Isabella\\\\Desktop\\\\Analytics in business\\\\coursework 1\\\\ba_aib_group4_oc-gym-master\\\\ba_aib_group4_oc-gym-master\\\\data/raw/visitationdataPART1.csv'"
     ]
    }
   ],
   "source": [
    "visit_db = visit()\n",
    "visit_db.head(2)"
   ]
  },
  {
   "cell_type": "code",
   "execution_count": null,
   "metadata": {},
   "outputs": [],
   "source": [
    "# round up to next day to find the cutoff time\n",
    "from pandas.tseries.offsets import MonthEnd\n",
    "as_of_date = visit_db['timestamp'].max().round('D')+ MonthEnd(1)\n",
    "as_of_date"
   ]
  },
  {
   "cell_type": "markdown",
   "metadata": {},
   "source": [
    "\n",
    "------------------------\n",
    "###  Create a customer subscription database using subcriptiondataFINAL.csv"
   ]
  },
  {
   "cell_type": "code",
   "execution_count": 57,
   "metadata": {},
   "outputs": [],
   "source": [
    "def membership():\n",
    "    #### membership database ####\n",
    "    # import subscription data and create a membership database\n",
    "    membership_list = []\n",
    "        \n",
    "    with open(os.path.join(path,'data/raw/subscriptionsdataFINAL.csv')) as subscription_file:    \n",
    "        read_csv = csv.reader(subscription_file, delimiter=',')  \n",
    "        next(read_csv, None)    # skip the headers\n",
    "                \n",
    "        # a pct score based on % of total population ranked below a certain class.\n",
    "        # information source: National Readership Survey\n",
    "        # http://www.nrs.co.uk/nrs-print/lifestyle-and-classification-data/social-grade/\n",
    "        affluence_rank = {'A' : 0.96,     # upper middle\n",
    "                           'B' : 0.73,    # middle\n",
    "                           'C1': 0.45,    # lower middle\n",
    "                           'C2': 0.25,    # skilled working\n",
    "                           'DE': 0}       # lower working and non-working\n",
    "        \n",
    "        for r in read_csv:\n",
    "            club = r[0]\n",
    "            join_mth = dt.datetime.strptime(r[1], '%b-%y')\n",
    "            s_cls = affluence_rank[r[2]]\n",
    "            is_male = (1 if r[3] == 'Male' else 0)\n",
    "            is_std = (1 if r[4] == 'Standard' else 0)                     \n",
    "            id = int(r[6])\n",
    "\n",
    "            # calculate age at joining the gym. add extra year if joining in July or later.\n",
    "            join_age = join_mth.year - int(r[7]) + (1 if join_mth.month >= 7 else 0)\n",
    "            \n",
    "            # fix end_dates\n",
    "            if r[5] != '#N/A':\n",
    "                end_mth = dt.datetime.strptime(r[5], '%b-%y')\n",
    "                is_active = 0\n",
    "                end_date = end_mth + dt.timedelta(days=31)    # calculate <1 month as 1 month \n",
    "                \n",
    "                ######## check whether left due to price hike #####\n",
    "                is_left_Dec15 = 1 if end_mth == dt.datetime(2015, 12 ,1) else 0\n",
    "\n",
    "            else:\n",
    "                end_mth = np.nan\n",
    "                is_active = 1\n",
    "                end_date = as_of_date + dt.timedelta(days=1)    # calculate last date as of 1-Feb\n",
    "                is_left_Dec15 = 0\n",
    "                \n",
    "            ######## MORE summary data ########\n",
    "            # membership duration in months\n",
    "            m_dur = (end_date.year - join_mth.year) * 12 + end_date.month - join_mth.month\n",
    "            \n",
    "            # member revenue to 2015\n",
    "            if join_mth < dt.datetime(2015,12,31):\n",
    "                cutoff = min(end_date, dt.datetime(2016,1,1))\n",
    "                m_to_15 = (cutoff.year - join_mth.year) * 12 + cutoff.month - join_mth.month\n",
    "            else:\n",
    "                m_to_15 = 0\n",
    "                \n",
    "            rev_to_15 = m_to_15 * (20.99 if is_std == 1 else 25.99)\n",
    "            \n",
    "            # member revenue fr 2016\n",
    "            m_fr_16 = m_dur if join_mth > dt.datetime(2015,12,31) else 0  \n",
    "            rev_fr_16 = m_fr_16 * (26.99 if is_std == 1 else 30.99)\n",
    "            \n",
    "            # concat all member information\n",
    "            member_info = [id, is_male, join_age, s_cls, club, join_mth, end_mth, is_std, \n",
    "                            m_dur, is_left_Dec15, is_active, end_date, rev_to_15, rev_fr_16, rev_to_15 + rev_fr_16,]\n",
    "            membership_list.append(member_info)\n",
    "    \n",
    "    column_name = ['id', 'is_male', 'join_age', 's_class_rank', 'club', 'join_mth', 'end_mth','is_std',\n",
    "                   'mth_active', 'is_left_Dec15', 'is_active', 'last_active_date', 'rev_to_15', 'rev_fr_16', 'rev_to_date']\n",
    "    \n",
    "    membership_db = pd.DataFrame(membership_list, columns=column_name)\n",
    "    \n",
    "    print(f'{len(membership_db)} members found and imported')\n",
    "    return membership_db"
   ]
  },
  {
   "cell_type": "code",
   "execution_count": 58,
   "metadata": {},
   "outputs": [
    {
     "ename": "FileNotFoundError",
     "evalue": "[Errno 2] No such file or directory: 'C:\\\\Users\\\\Isabella\\\\Desktop\\\\Analytics in business\\\\coursework 1\\\\ba_aib_group4_oc-gym-master\\\\ba_aib_group4_oc-gym-master\\\\data/raw/subscriptionsdataFINAL.csv'",
     "output_type": "error",
     "traceback": [
      "\u001b[1;31m---------------------------------------------------------------------------\u001b[0m",
      "\u001b[1;31mFileNotFoundError\u001b[0m                         Traceback (most recent call last)",
      "\u001b[1;32m<ipython-input-58-b999f01d254a>\u001b[0m in \u001b[0;36m<module>\u001b[1;34m\u001b[0m\n\u001b[1;32m----> 1\u001b[1;33m \u001b[0mmembership_db\u001b[0m \u001b[1;33m=\u001b[0m \u001b[0mmembership\u001b[0m\u001b[1;33m(\u001b[0m\u001b[1;33m)\u001b[0m\u001b[1;33m\u001b[0m\u001b[1;33m\u001b[0m\u001b[0m\n\u001b[0m\u001b[0;32m      2\u001b[0m \u001b[0mmembership_db\u001b[0m\u001b[1;33m.\u001b[0m\u001b[0mhead\u001b[0m\u001b[1;33m(\u001b[0m\u001b[1;36m2\u001b[0m\u001b[1;33m)\u001b[0m\u001b[1;33m\u001b[0m\u001b[1;33m\u001b[0m\u001b[0m\n",
      "\u001b[1;32m<ipython-input-57-59fda95158c9>\u001b[0m in \u001b[0;36mmembership\u001b[1;34m()\u001b[0m\n\u001b[0;32m      4\u001b[0m     \u001b[0mmembership_list\u001b[0m \u001b[1;33m=\u001b[0m \u001b[1;33m[\u001b[0m\u001b[1;33m]\u001b[0m\u001b[1;33m\u001b[0m\u001b[1;33m\u001b[0m\u001b[0m\n\u001b[0;32m      5\u001b[0m \u001b[1;33m\u001b[0m\u001b[0m\n\u001b[1;32m----> 6\u001b[1;33m     \u001b[1;32mwith\u001b[0m \u001b[0mopen\u001b[0m\u001b[1;33m(\u001b[0m\u001b[0mos\u001b[0m\u001b[1;33m.\u001b[0m\u001b[0mpath\u001b[0m\u001b[1;33m.\u001b[0m\u001b[0mjoin\u001b[0m\u001b[1;33m(\u001b[0m\u001b[0mpath\u001b[0m\u001b[1;33m,\u001b[0m\u001b[1;34m'data/raw/subscriptionsdataFINAL.csv'\u001b[0m\u001b[1;33m)\u001b[0m\u001b[1;33m)\u001b[0m \u001b[1;32mas\u001b[0m \u001b[0msubscription_file\u001b[0m\u001b[1;33m:\u001b[0m\u001b[1;33m\u001b[0m\u001b[1;33m\u001b[0m\u001b[0m\n\u001b[0m\u001b[0;32m      7\u001b[0m         \u001b[0mread_csv\u001b[0m \u001b[1;33m=\u001b[0m \u001b[0mcsv\u001b[0m\u001b[1;33m.\u001b[0m\u001b[0mreader\u001b[0m\u001b[1;33m(\u001b[0m\u001b[0msubscription_file\u001b[0m\u001b[1;33m,\u001b[0m \u001b[0mdelimiter\u001b[0m\u001b[1;33m=\u001b[0m\u001b[1;34m','\u001b[0m\u001b[1;33m)\u001b[0m\u001b[1;33m\u001b[0m\u001b[1;33m\u001b[0m\u001b[0m\n\u001b[0;32m      8\u001b[0m         \u001b[0mnext\u001b[0m\u001b[1;33m(\u001b[0m\u001b[0mread_csv\u001b[0m\u001b[1;33m,\u001b[0m \u001b[1;32mNone\u001b[0m\u001b[1;33m)\u001b[0m    \u001b[1;31m# skip the headers\u001b[0m\u001b[1;33m\u001b[0m\u001b[1;33m\u001b[0m\u001b[0m\n",
      "\u001b[1;31mFileNotFoundError\u001b[0m: [Errno 2] No such file or directory: 'C:\\\\Users\\\\Isabella\\\\Desktop\\\\Analytics in business\\\\coursework 1\\\\ba_aib_group4_oc-gym-master\\\\ba_aib_group4_oc-gym-master\\\\data/raw/subscriptionsdataFINAL.csv'"
     ]
    }
   ],
   "source": [
    "membership_db = membership()\n",
    "membership_db.head(2)"
   ]
  },
  {
   "cell_type": "markdown",
   "metadata": {},
   "source": [
    "\n",
    "------------------------\n",
    "### Summerise visit data and add useful attributes to membership database"
   ]
  },
  {
   "cell_type": "markdown",
   "metadata": {},
   "source": [
    "#### Create some summary stats by customer_id\n",
    "- first visit\n",
    "- last visit\n",
    "- total visit\n",
    "- total peak hour visit"
   ]
  },
  {
   "cell_type": "code",
   "execution_count": 62,
   "metadata": {},
   "outputs": [
    {
     "ename": "NameError",
     "evalue": "name 'visit_db' is not defined",
     "output_type": "error",
     "traceback": [
      "\u001b[1;31m---------------------------------------------------------------------------\u001b[0m",
      "\u001b[1;31mNameError\u001b[0m                                 Traceback (most recent call last)",
      "\u001b[1;32m<ipython-input-62-463f3ae6327c>\u001b[0m in \u001b[0;36m<module>\u001b[1;34m\u001b[0m\n\u001b[1;32m----> 1\u001b[1;33m \u001b[0mfirst_visit\u001b[0m \u001b[1;33m=\u001b[0m \u001b[0mvisit_db\u001b[0m\u001b[1;33m.\u001b[0m\u001b[0mgroupby\u001b[0m\u001b[1;33m(\u001b[0m\u001b[1;34m'id'\u001b[0m\u001b[1;33m)\u001b[0m\u001b[1;33m.\u001b[0m\u001b[0mnth\u001b[0m\u001b[1;33m(\u001b[0m\u001b[1;36m0\u001b[0m\u001b[1;33m)\u001b[0m\u001b[1;33m[\u001b[0m\u001b[1;34m'timestamp'\u001b[0m\u001b[1;33m]\u001b[0m\u001b[1;33m.\u001b[0m\u001b[0mrename\u001b[0m\u001b[1;33m(\u001b[0m\u001b[1;34m'first_visit'\u001b[0m\u001b[1;33m)\u001b[0m\u001b[1;33m.\u001b[0m\u001b[0mto_frame\u001b[0m\u001b[1;33m(\u001b[0m\u001b[1;33m)\u001b[0m\u001b[1;33m.\u001b[0m\u001b[0mreset_index\u001b[0m\u001b[1;33m(\u001b[0m\u001b[1;33m)\u001b[0m\u001b[1;33m\u001b[0m\u001b[1;33m\u001b[0m\u001b[0m\n\u001b[0m\u001b[0;32m      2\u001b[0m \u001b[0mlast_visit\u001b[0m \u001b[1;33m=\u001b[0m \u001b[0mvisit_db\u001b[0m\u001b[1;33m.\u001b[0m\u001b[0mgroupby\u001b[0m\u001b[1;33m(\u001b[0m\u001b[1;34m'id'\u001b[0m\u001b[1;33m)\u001b[0m\u001b[1;33m.\u001b[0m\u001b[0mnth\u001b[0m\u001b[1;33m(\u001b[0m\u001b[1;33m-\u001b[0m\u001b[1;36m1\u001b[0m\u001b[1;33m)\u001b[0m\u001b[1;33m[\u001b[0m\u001b[1;34m'timestamp'\u001b[0m\u001b[1;33m]\u001b[0m\u001b[1;33m.\u001b[0m\u001b[0mrename\u001b[0m\u001b[1;33m(\u001b[0m\u001b[1;34m'last_visit'\u001b[0m\u001b[1;33m)\u001b[0m\u001b[1;33m.\u001b[0m\u001b[0mto_frame\u001b[0m\u001b[1;33m(\u001b[0m\u001b[1;33m)\u001b[0m\u001b[1;33m.\u001b[0m\u001b[0mreset_index\u001b[0m\u001b[1;33m(\u001b[0m\u001b[1;33m)\u001b[0m\u001b[1;33m\u001b[0m\u001b[1;33m\u001b[0m\u001b[0m\n\u001b[0;32m      3\u001b[0m \u001b[0mtotal_visit\u001b[0m \u001b[1;33m=\u001b[0m \u001b[0mvisit_db\u001b[0m\u001b[1;33m.\u001b[0m\u001b[0mgroupby\u001b[0m\u001b[1;33m(\u001b[0m\u001b[1;34m'id'\u001b[0m\u001b[1;33m)\u001b[0m\u001b[1;33m[\u001b[0m\u001b[1;34m'timestamp'\u001b[0m\u001b[1;33m]\u001b[0m\u001b[1;33m.\u001b[0m\u001b[0mcount\u001b[0m\u001b[1;33m(\u001b[0m\u001b[1;33m)\u001b[0m\u001b[1;33m.\u001b[0m\u001b[0mrename\u001b[0m\u001b[1;33m(\u001b[0m\u001b[1;34m'total_visit'\u001b[0m\u001b[1;33m)\u001b[0m\u001b[1;33m.\u001b[0m\u001b[0mto_frame\u001b[0m\u001b[1;33m(\u001b[0m\u001b[1;33m)\u001b[0m\u001b[1;33m.\u001b[0m\u001b[0mreset_index\u001b[0m\u001b[1;33m(\u001b[0m\u001b[1;33m)\u001b[0m\u001b[1;33m\u001b[0m\u001b[1;33m\u001b[0m\u001b[0m\n\u001b[0;32m      4\u001b[0m \u001b[0mtotal_peak_hour_visit\u001b[0m \u001b[1;33m=\u001b[0m \u001b[0mvisit_db\u001b[0m\u001b[1;33m.\u001b[0m\u001b[0mgroupby\u001b[0m\u001b[1;33m(\u001b[0m\u001b[1;34m'id'\u001b[0m\u001b[1;33m)\u001b[0m\u001b[1;33m[\u001b[0m\u001b[1;34m'is_peak'\u001b[0m\u001b[1;33m]\u001b[0m\u001b[1;33m.\u001b[0m\u001b[0msum\u001b[0m\u001b[1;33m(\u001b[0m\u001b[1;33m)\u001b[0m\u001b[1;33m.\u001b[0m\u001b[0mrename\u001b[0m\u001b[1;33m(\u001b[0m\u001b[1;34m'total_peak'\u001b[0m\u001b[1;33m)\u001b[0m\u001b[1;33m.\u001b[0m\u001b[0mto_frame\u001b[0m\u001b[1;33m(\u001b[0m\u001b[1;33m)\u001b[0m\u001b[1;33m.\u001b[0m\u001b[0mreset_index\u001b[0m\u001b[1;33m(\u001b[0m\u001b[1;33m)\u001b[0m\u001b[1;33m\u001b[0m\u001b[1;33m\u001b[0m\u001b[0m\n",
      "\u001b[1;31mNameError\u001b[0m: name 'visit_db' is not defined"
     ]
    }
   ],
   "source": [
    "first_visit = visit_db.groupby('id').nth(0)['timestamp'].rename('first_visit').to_frame().reset_index()\n",
    "last_visit = visit_db.groupby('id').nth(-1)['timestamp'].rename('last_visit').to_frame().reset_index()\n",
    "total_visit = visit_db.groupby('id')['timestamp'].count().rename('total_visit').to_frame().reset_index()\n",
    "total_peak_hour_visit = visit_db.groupby('id')['is_peak'].sum().rename('total_peak').to_frame().reset_index()"
   ]
  },
  {
   "cell_type": "code",
   "execution_count": null,
   "metadata": {},
   "outputs": [],
   "source": [
    "# merge data onto membership_db\n",
    "membership_db = membership_db.merge(first_visit, how='left', left_on=['id'], right_on = ['id'])\n",
    "membership_db = membership_db.merge(last_visit, how='left', left_on=['id'], right_on = ['id'])\n",
    "membership_db = membership_db.merge(total_visit, how='left', left_on=['id'], right_on = ['id'])\n",
    "membership_db = membership_db.merge(total_peak_hour_visit, how='left', left_on=['id'], right_on = ['id'])"
   ]
  },
  {
   "cell_type": "code",
   "execution_count": null,
   "metadata": {},
   "outputs": [],
   "source": [
    "# fill in nans\n",
    "membership_db['total_visit'] = membership_db['total_visit'].fillna(0).astype(int)\n",
    "membership_db['total_peak'] = membership_db['total_peak'].fillna(0).astype(int)\n",
    "\n",
    "days = membership_db['last_active_date'] - membership_db['join_mth']\n",
    "membership_db['pct_gym_usage'] = membership_db['total_visit'].divide(days.dt.days)\n",
    "membership_db['pct_peak'] = membership_db['total_peak'].divide(membership_db['total_visit'])\n",
    "\n",
    "membership_db.loc[~np.isfinite(membership_db['pct_gym_usage']), 'pct_gym_usage'] = 0\n",
    "membership_db.loc[~np.isfinite(membership_db['pct_peak']), 'pct_peak'] = 0"
   ]
  },
  {
   "cell_type": "code",
   "execution_count": null,
   "metadata": {},
   "outputs": [],
   "source": [
    "membership_db = membership_db.drop(columns=['last_active_date'])\n",
    "membership_db.head(2)"
   ]
  },
  {
   "cell_type": "markdown",
   "metadata": {},
   "source": [
    "### Create some summary stats by gym\n",
    "- gym total revenue up to dec 2015\n",
    "- gym total revenue from Jan 2016\n",
    "- Number of people left in Dec 2015 before price rise\n",
    "- gym's revenue contribution"
   ]
  },
  {
   "cell_type": "code",
   "execution_count": 60,
   "metadata": {},
   "outputs": [
    {
     "data": {
      "text/html": [
       "<div>\n",
       "<style scoped>\n",
       "    .dataframe tbody tr th:only-of-type {\n",
       "        vertical-align: middle;\n",
       "    }\n",
       "\n",
       "    .dataframe tbody tr th {\n",
       "        vertical-align: top;\n",
       "    }\n",
       "\n",
       "    .dataframe thead th {\n",
       "        text-align: right;\n",
       "    }\n",
       "</style>\n",
       "<table border=\"1\" class=\"dataframe\">\n",
       "  <thead>\n",
       "    <tr style=\"text-align: right;\">\n",
       "      <th></th>\n",
       "      <th>club</th>\n",
       "      <th>rev_to_15</th>\n",
       "      <th>rev_fr_16</th>\n",
       "      <th>rev_to_date</th>\n",
       "      <th>rev_%</th>\n",
       "      <th>member_left_Dec15</th>\n",
       "    </tr>\n",
       "  </thead>\n",
       "  <tbody>\n",
       "    <tr>\n",
       "      <th>0</th>\n",
       "      <td>Hounslow</td>\n",
       "      <td>3.745534e+06</td>\n",
       "      <td>1976655.44</td>\n",
       "      <td>5.722190e+06</td>\n",
       "      <td>0.056200</td>\n",
       "      <td>873</td>\n",
       "    </tr>\n",
       "    <tr>\n",
       "      <th>1</th>\n",
       "      <td>Greenwich</td>\n",
       "      <td>3.558127e+06</td>\n",
       "      <td>1881685.01</td>\n",
       "      <td>5.439812e+06</td>\n",
       "      <td>0.053427</td>\n",
       "      <td>794</td>\n",
       "    </tr>\n",
       "    <tr>\n",
       "      <th>2</th>\n",
       "      <td>Havering</td>\n",
       "      <td>2.959284e+06</td>\n",
       "      <td>2359068.66</td>\n",
       "      <td>5.318353e+06</td>\n",
       "      <td>0.052234</td>\n",
       "      <td>980</td>\n",
       "    </tr>\n",
       "    <tr>\n",
       "      <th>3</th>\n",
       "      <td>Richmond upon Thames</td>\n",
       "      <td>3.358700e+06</td>\n",
       "      <td>1658391.26</td>\n",
       "      <td>5.017091e+06</td>\n",
       "      <td>0.049275</td>\n",
       "      <td>756</td>\n",
       "    </tr>\n",
       "    <tr>\n",
       "      <th>4</th>\n",
       "      <td>Harrow</td>\n",
       "      <td>2.908353e+06</td>\n",
       "      <td>1949868.69</td>\n",
       "      <td>4.858221e+06</td>\n",
       "      <td>0.047715</td>\n",
       "      <td>845</td>\n",
       "    </tr>\n",
       "  </tbody>\n",
       "</table>\n",
       "</div>"
      ],
      "text/plain": [
       "                   club     rev_to_15   rev_fr_16   rev_to_date     rev_%  \\\n",
       "0              Hounslow  3.745534e+06  1976655.44  5.722190e+06  0.056200   \n",
       "1             Greenwich  3.558127e+06  1881685.01  5.439812e+06  0.053427   \n",
       "2              Havering  2.959284e+06  2359068.66  5.318353e+06  0.052234   \n",
       "3  Richmond upon Thames  3.358700e+06  1658391.26  5.017091e+06  0.049275   \n",
       "4                Harrow  2.908353e+06  1949868.69  4.858221e+06  0.047715   \n",
       "\n",
       "   member_left_Dec15  \n",
       "0                873  \n",
       "1                794  \n",
       "2                980  \n",
       "3                756  \n",
       "4                845  "
      ]
     },
     "execution_count": 60,
     "metadata": {},
     "output_type": "execute_result"
    }
   ],
   "source": [
    "club_rev = membership_db.groupby('club').sum()[['rev_to_15', 'rev_fr_16', 'rev_to_date']].sort_values(by=['rev_to_date'], ascending=False)\n",
    "club_rev['rev_%'] = club_rev['rev_to_date']/club_rev['rev_to_date'].sum()\n",
    "\n",
    "member_loss_dec15 = membership_db.groupby('club')['is_left_Dec15'].sum().rename('member_left_Dec15').to_frame().reset_index()\n",
    "member_loss_all = membership_db.groupby('club')['is_left_Dec15'].sum().rename('member_left').to_frame().reset_index()\n",
    "member_loss_all = membership_db.groupby('club')['is_left_Dec15'].sum().rename('member_left_Dec15').to_frame().reset_index()\n",
    "club_rev = club_rev.merge(member_loss_dec15, how='left', left_on=['club'], right_on = ['club'])\n",
    "\n",
    "#club_rev['loss_%'] = club_rev['rev_to_date']/club_rev['rev_to_date'].sum()\n",
    "club_rev.head()\n"
   ]
  },
  {
   "cell_type": "markdown",
   "metadata": {},
   "source": [
    "### Club environment "
   ]
  },
  {
   "cell_type": "code",
   "execution_count": 61,
   "metadata": {},
   "outputs": [
    {
     "ename": "NameError",
     "evalue": "name 'visit_db' is not defined",
     "output_type": "error",
     "traceback": [
      "\u001b[1;31m---------------------------------------------------------------------------\u001b[0m",
      "\u001b[1;31mNameError\u001b[0m                                 Traceback (most recent call last)",
      "\u001b[1;32m<ipython-input-61-7ac20ef2db4e>\u001b[0m in \u001b[0;36m<module>\u001b[1;34m\u001b[0m\n\u001b[1;32m----> 1\u001b[1;33m \u001b[0mmthly_visits\u001b[0m \u001b[1;33m=\u001b[0m \u001b[0mvisit_db\u001b[0m\u001b[1;33m.\u001b[0m\u001b[0mgroupby\u001b[0m\u001b[1;33m(\u001b[0m\u001b[1;33m[\u001b[0m\u001b[0mvisit_db\u001b[0m\u001b[1;33m.\u001b[0m\u001b[0mtimestamp\u001b[0m\u001b[1;33m,\u001b[0m \u001b[0mvisit_db\u001b[0m\u001b[1;33m.\u001b[0m\u001b[0mid\u001b[0m\u001b[1;33m]\u001b[0m\u001b[1;33m)\u001b[0m\u001b[1;33m.\u001b[0m\u001b[0mcount\u001b[0m\u001b[1;33m(\u001b[0m\u001b[1;33m)\u001b[0m\u001b[1;33m\u001b[0m\u001b[1;33m\u001b[0m\u001b[0m\n\u001b[0m\u001b[0;32m      2\u001b[0m \u001b[0mmthly_visits\u001b[0m\u001b[1;33m.\u001b[0m\u001b[0mhead\u001b[0m\u001b[1;33m(\u001b[0m\u001b[1;33m)\u001b[0m\u001b[1;33m\u001b[0m\u001b[1;33m\u001b[0m\u001b[0m\n",
      "\u001b[1;31mNameError\u001b[0m: name 'visit_db' is not defined"
     ]
    }
   ],
   "source": [
    "mthly_visits = visit_db.groupby([visit_db.timestamp, visit_db.id]).count()\n",
    "mthly_visits.head()"
   ]
  },
  {
   "cell_type": "code",
   "execution_count": null,
   "metadata": {},
   "outputs": [],
   "source": [
    "mthly_visits_1 = mthly_visits.reset_index()\n",
    "mthly_visits_1['year_mth'] = [dt.datetime(t.year, t.month, 1) for t in mthly_visits_1['timestamp']]\n"
   ]
  },
  {
   "cell_type": "code",
   "execution_count": null,
   "metadata": {},
   "outputs": [],
   "source": [
    "mthly_visits_1.head()"
   ]
  },
  {
   "cell_type": "code",
   "execution_count": null,
   "metadata": {},
   "outputs": [],
   "source": [
    "mthly_visits_2 = mthly_visits_1[['id','is_peak','year_mth']].merge(membership_db[['id','clu"
   ]
  },
  {
   "cell_type": "code",
   "execution_count": null,
   "metadata": {},
   "outputs": [],
   "source": [
    "mthly_visits_2.head()"
   ]
  },
  {
   "cell_type": "markdown",
   "metadata": {},
   "source": [
    "#### calculate avg monthly active member"
   ]
  },
  {
   "cell_type": "code",
   "execution_count": null,
   "metadata": {},
   "outputs": [],
   "source": [
    "gym_cap = mthly_visits_2.groupby(['club','year_mth'])['id'].nunique().rename('active_member').to_frame().reset_index()\n",
    "gym_cap = gym_cap.groupby(['club'])['active_member'].mean().rename('avg_mthly_active_member').to_frame().reset_index()\n",
    "gym_cap.head()"
   ]
  },
  {
   "cell_type": "markdown",
   "metadata": {},
   "source": [
    "#### calculate average monthly visits"
   ]
  },
  {
   "cell_type": "code",
   "execution_count": null,
   "metadata": {},
   "outputs": [],
   "source": [
    "gym_visit = mthly_visits_2.groupby(['club','year_mth'])['is_peak'].count().rename('visits').to_frame().reset_index()\n",
    "gym_visit = gym_visit.groupby(['club'])['visits'].mean().rename('gym_mthly_visit').to_frame().reset_index()\n",
    "gym_visit.head()"
   ]
  },
  {
   "cell_type": "code",
   "execution_count": null,
   "metadata": {},
   "outputs": [],
   "source": [
    "club_rev = club_rev.merge(gym_cap, how='left', left_on=['club'], right_on = ['club'])\n",
    "club_rev = club_rev.merge(gym_visit, how='left', left_on=['club'], right_on = ['club'])\n",
    "club_rev.head()"
   ]
  },
  {
   "cell_type": "markdown",
   "metadata": {},
   "source": [
    "#### Attached to membership"
   ]
  },
  {
   "cell_type": "code",
   "execution_count": null,
   "metadata": {},
   "outputs": [],
   "source": [
    "membership_db = membership_db.merge(club_rev[['club','rev_%','gym_mthly_visit']], how='left', left_on=['club'], right_on = ['club'])\n",
    "membership_db['is_age_below_40'] = [1 if t <= 40 else 0 for t in membership_db['join_age']]\n",
    "membership_db['is_age_above_40'] = [1 if t > 40 else 0 for t in membership_db['join_age']]\n",
    "membership_db.head(2)"
   ]
  },
  {
   "cell_type": "markdown",
   "metadata": {},
   "source": [
    "### Export to CSV"
   ]
  },
  {
   "cell_type": "code",
   "execution_count": null,
   "metadata": {},
   "outputs": [],
   "source": [
    "membership_db.to_csv(os.path.join(path,'data/processed/membership_clean.csv'), index=False)   \n",
    "membership_db.head(2)"
   ]
  },
  {
   "cell_type": "markdown",
   "metadata": {},
   "source": [
    "### Results"
   ]
  },
  {
   "cell_type": "markdown",
   "metadata": {},
   "source": [
    "### Results hypothesis 1"
   ]
  },
  {
   "cell_type": "markdown",
   "metadata": {},
   "source": [
    "Our first hypothesis assumed that several attributes would be related to churn. The below section explores what we found for each attribute."
   ]
  },
  {
   "cell_type": "markdown",
   "metadata": {},
   "source": [
    "### Gender"
   ]
  },
  {
   "cell_type": "markdown",
   "metadata": {},
   "source": [
    "#### Analysis"
   ]
  },
  {
   "cell_type": "markdown",
   "metadata": {},
   "source": [
    "[to insert graph/table]"
   ]
  },
  {
   "cell_type": "markdown",
   "metadata": {},
   "source": [
    "#### Findings"
   ]
  },
  {
   "cell_type": "markdown",
   "metadata": {},
   "source": [
    "The above graph compares the revenue and churn rates between males and females. We can see that both genders follow a very similar pattern but females have consistently had a higher churn rate and have contributed less towards revenue. The gym should take steps to help motivate women and keep them attending."
   ]
  },
  {
   "cell_type": "markdown",
   "metadata": {},
   "source": [
    "#### Suggestions/Limitations"
   ]
  },
  {
   "cell_type": "markdown",
   "metadata": {},
   "source": [
    "The gym could offer a free diet/training plan advice as a group session for all women once a month where they get advice specific to female body types. This could help them make more progress and hence gain motivation and not drop their gym subscription."
   ]
  },
  {
   "cell_type": "markdown",
   "metadata": {},
   "source": [
    "### Subscription Type of customer"
   ]
  },
  {
   "cell_type": "markdown",
   "metadata": {},
   "source": [
    "#### Analysis"
   ]
  },
  {
   "cell_type": "markdown",
   "metadata": {},
   "source": [
    "[to insert graph/table]"
   ]
  },
  {
   "cell_type": "markdown",
   "metadata": {},
   "source": [
    "#### Findings"
   ]
  },
  {
   "cell_type": "markdown",
   "metadata": {},
   "source": [
    "From the above graph we can see that contribution to revenue has been greater from the standard gym package as opposed to the flexible package. Standardised revenue from the standard package took a more significant drop after the price hike but has since consistent grown and is now higher than before the price change. Additionally, the churn rate from the standard customers is significantly lower.\n"
   ]
  },
  {
   "cell_type": "markdown",
   "metadata": {},
   "source": [
    "#### Suggestions/Limitations"
   ]
  },
  {
   "cell_type": "markdown",
   "metadata": {},
   "source": [
    "Overall the business needs to try and sell more standard packages, a strategy for this could be to alter the pricing strategy to waive the 6 pound joining fee for standard customers when they join."
   ]
  },
  {
   "cell_type": "markdown",
   "metadata": {},
   "source": [
    "### At what times (peak vs non peak) a customer attends the gym"
   ]
  },
  {
   "cell_type": "markdown",
   "metadata": {},
   "source": [
    "#### Analysis"
   ]
  },
  {
   "cell_type": "markdown",
   "metadata": {},
   "source": [
    "[to insert graph/table]"
   ]
  },
  {
   "cell_type": "markdown",
   "metadata": {},
   "source": [
    "#### Findings\n",
    "The above graph shows the average duration of gym membership for customers who visit primarily during peak hours as opposed to during non peak hours. The graph shows that there is only a miniscule difference between their average duration and hence is not a significant factor in determining churn."
   ]
  },
  {
   "cell_type": "markdown",
   "metadata": {},
   "source": [
    "### Age at time of joining"
   ]
  },
  {
   "cell_type": "markdown",
   "metadata": {},
   "source": [
    "#### Analysis"
   ]
  },
  {
   "cell_type": "markdown",
   "metadata": {},
   "source": [
    "[to insert graph/table]"
   ]
  },
  {
   "cell_type": "markdown",
   "metadata": {},
   "source": [
    "#### Findings\n",
    "The above scatterplot shows the distribution of the number of months people of different joining ages are active at the gym. We can see a clear trend that people who join at around age 38 are more likely to stay longer. This average duration of gym membership reduces significantly as the age of the customer increases beyond 45 years."
   ]
  },
  {
   "cell_type": "markdown",
   "metadata": {},
   "source": [
    "#### Suggestions/Limitations\n",
    "Overall the business needs to try and sell more standard packages, a strategy for this could be to alter the pricing strategy to waive the 6 pound joining fee for standard customers when they join."
   ]
  },
  {
   "cell_type": "markdown",
   "metadata": {},
   "source": [
    "### How regularly a customers attended the gym"
   ]
  },
  {
   "cell_type": "markdown",
   "metadata": {},
   "source": [
    "#### Analysis\n",
    "[to insert graph/table]"
   ]
  },
  {
   "cell_type": "markdown",
   "metadata": {},
   "source": [
    "#### Findings\n",
    "The graph shows the relationship between the total number of visits to a gym within a month and the average duration of gym memberships within the gym. We can see  mild correlation, where the average durations are decreasing as the number of visits decrease. So to maintain a lower churn rate, gyms need to ensure that their members visit more often"
   ]
  },
  {
   "cell_type": "markdown",
   "metadata": {},
   "source": [
    "### Results hypothesis 2 "
   ]
  },
  {
   "cell_type": "markdown",
   "metadata": {},
   "source": [
    "Our second hypothesis was that there would be a strong seasonal effect to the revenue and churn rate. Additionally revenue and churn rate would be negatively impacted by the price increase in 2016."
   ]
  },
  {
   "cell_type": "markdown",
   "metadata": {},
   "source": [
    "## Seasonal effect on revenue and impact of the price increase"
   ]
  },
  {
   "cell_type": "markdown",
   "metadata": {},
   "source": [
    "#### Analysis\n",
    "[to insert graph/table]"
   ]
  },
  {
   "cell_type": "markdown",
   "metadata": {},
   "source": [
    "#### Findings\n"
   ]
  },
  {
   "cell_type": "markdown",
   "metadata": {},
   "source": [
    "The above graph shows the change in revenue and churn rate over time for all customers. There is a huge upword spike in churn rate right before Jan 2016, which is because many customers wanted to leave before the new pricing. In addition to this, we can see a significant drop in standardised revenue right after the spike. However, the revenue does increase again to the amount it was before the price change. The churn rate also restores to a similar level. So overall the price change has not had a long term negative impact on the business.  Therefore our hypothesis was only partially correct.  Although the price hike impacted both churn and revenue, neither of them were impacted long term.\n",
    "\n",
    "Now looking at the seasonal impacts of the data, we can see that from about 2014 onwards, there is a significant decrease in revenue each year during February. This is likely because people often take on new year resolutions or get given gym memberships as Christmas gifts but often give up soon.\n",
    "\n"
   ]
  },
  {
   "cell_type": "markdown",
   "metadata": {},
   "source": [
    "#### Suggestions/Limitations\n",
    "We suggest offering free diet/training information sessions during January in order to educate people so they see results from their training and choose to continue exercising."
   ]
  },
  {
   "cell_type": "markdown",
   "metadata": {},
   "source": [
    "### Results additional findings\n",
    "While exploring the data we discovered additional findings which were not a part of the original hypothesis."
   ]
  },
  {
   "cell_type": "markdown",
   "metadata": {},
   "source": [
    "#### Analysis\n",
    "[to insert graph/table]"
   ]
  },
  {
   "cell_type": "markdown",
   "metadata": {},
   "source": [
    "#### Findings\n",
    "The below graph shows the distribution of how long members continued their gym subscription. We can see that the majority of participants, quit within the first 5 months and very few stayed beyond 10."
   ]
  },
  {
   "cell_type": "markdown",
   "metadata": {},
   "source": [
    "### Suggestions/Limitations\n",
    "The gym could update their pricing strategy to include a yearly contract at a cheaper rate. This will force customers to stay with the gym for an entire year."
   ]
  },
  {
   "cell_type": "markdown",
   "metadata": {},
   "source": [
    "### Prediction on individual churn (bonus question)"
   ]
  },
  {
   "cell_type": "markdown",
   "metadata": {},
   "source": [
    "### Analysis"
   ]
  },
  {
   "cell_type": "markdown",
   "metadata": {},
   "source": [
    "### 1. Choose the independent variables and the dependent variables for modelling  "
   ]
  },
  {
   "cell_type": "code",
   "execution_count": 2,
   "metadata": {},
   "outputs": [
    {
     "data": {
      "text/html": [
       "<div>\n",
       "<style scoped>\n",
       "    .dataframe tbody tr th:only-of-type {\n",
       "        vertical-align: middle;\n",
       "    }\n",
       "\n",
       "    .dataframe tbody tr th {\n",
       "        vertical-align: top;\n",
       "    }\n",
       "\n",
       "    .dataframe thead th {\n",
       "        text-align: right;\n",
       "    }\n",
       "</style>\n",
       "<table border=\"1\" class=\"dataframe\">\n",
       "  <thead>\n",
       "    <tr style=\"text-align: right;\">\n",
       "      <th></th>\n",
       "      <th>id</th>\n",
       "      <th>is_male</th>\n",
       "      <th>join_age</th>\n",
       "      <th>s_class_rank</th>\n",
       "      <th>club</th>\n",
       "      <th>join_mth</th>\n",
       "      <th>end_mth</th>\n",
       "      <th>is_std</th>\n",
       "      <th>mth_active</th>\n",
       "      <th>is_left_Dec15</th>\n",
       "      <th>...</th>\n",
       "      <th>rev_to_date</th>\n",
       "      <th>first_visit</th>\n",
       "      <th>last_visit</th>\n",
       "      <th>total_visit</th>\n",
       "      <th>total_peak</th>\n",
       "      <th>pct_gym_usage</th>\n",
       "      <th>pct_peak</th>\n",
       "      <th>rev_%</th>\n",
       "      <th>gym_mthly_visit</th>\n",
       "      <th>is_age_below_40</th>\n",
       "    </tr>\n",
       "  </thead>\n",
       "  <tbody>\n",
       "    <tr>\n",
       "      <th>0</th>\n",
       "      <td>1</td>\n",
       "      <td>1</td>\n",
       "      <td>20</td>\n",
       "      <td>0.45</td>\n",
       "      <td>Enfield</td>\n",
       "      <td>2011-12-01</td>\n",
       "      <td>2011-12-01</td>\n",
       "      <td>1</td>\n",
       "      <td>1</td>\n",
       "      <td>0</td>\n",
       "      <td>...</td>\n",
       "      <td>20.99</td>\n",
       "      <td>2011-12-01 08:00:00</td>\n",
       "      <td>2011-12-27 18:45:00</td>\n",
       "      <td>20</td>\n",
       "      <td>9</td>\n",
       "      <td>0.645161</td>\n",
       "      <td>0.450000</td>\n",
       "      <td>0.040164</td>\n",
       "      <td>27020.523364</td>\n",
       "      <td>1</td>\n",
       "    </tr>\n",
       "    <tr>\n",
       "      <th>1</th>\n",
       "      <td>2</td>\n",
       "      <td>0</td>\n",
       "      <td>46</td>\n",
       "      <td>0.96</td>\n",
       "      <td>Greenwich</td>\n",
       "      <td>2018-06-01</td>\n",
       "      <td>NaN</td>\n",
       "      <td>1</td>\n",
       "      <td>8</td>\n",
       "      <td>0</td>\n",
       "      <td>...</td>\n",
       "      <td>215.92</td>\n",
       "      <td>2018-06-01 17:30:00</td>\n",
       "      <td>2019-01-08 18:30:00</td>\n",
       "      <td>74</td>\n",
       "      <td>41</td>\n",
       "      <td>0.302041</td>\n",
       "      <td>0.554054</td>\n",
       "      <td>0.053427</td>\n",
       "      <td>33372.886957</td>\n",
       "      <td>0</td>\n",
       "    </tr>\n",
       "    <tr>\n",
       "      <th>2</th>\n",
       "      <td>3</td>\n",
       "      <td>0</td>\n",
       "      <td>33</td>\n",
       "      <td>0.73</td>\n",
       "      <td>Islington</td>\n",
       "      <td>2018-03-01</td>\n",
       "      <td>2018-10-01</td>\n",
       "      <td>1</td>\n",
       "      <td>8</td>\n",
       "      <td>0</td>\n",
       "      <td>...</td>\n",
       "      <td>215.92</td>\n",
       "      <td>2018-03-03 19:00:00</td>\n",
       "      <td>2018-10-26 07:45:00</td>\n",
       "      <td>165</td>\n",
       "      <td>110</td>\n",
       "      <td>0.673469</td>\n",
       "      <td>0.666667</td>\n",
       "      <td>0.045245</td>\n",
       "      <td>34594.000000</td>\n",
       "      <td>1</td>\n",
       "    </tr>\n",
       "    <tr>\n",
       "      <th>3</th>\n",
       "      <td>4</td>\n",
       "      <td>0</td>\n",
       "      <td>44</td>\n",
       "      <td>0.45</td>\n",
       "      <td>Hounslow</td>\n",
       "      <td>2015-10-01</td>\n",
       "      <td>2015-12-01</td>\n",
       "      <td>1</td>\n",
       "      <td>3</td>\n",
       "      <td>1</td>\n",
       "      <td>...</td>\n",
       "      <td>62.97</td>\n",
       "      <td>2015-10-02 09:00:00</td>\n",
       "      <td>2015-12-28 19:30:00</td>\n",
       "      <td>52</td>\n",
       "      <td>32</td>\n",
       "      <td>0.565217</td>\n",
       "      <td>0.615385</td>\n",
       "      <td>0.056200</td>\n",
       "      <td>34880.376068</td>\n",
       "      <td>0</td>\n",
       "    </tr>\n",
       "    <tr>\n",
       "      <th>4</th>\n",
       "      <td>5</td>\n",
       "      <td>1</td>\n",
       "      <td>33</td>\n",
       "      <td>0.25</td>\n",
       "      <td>Barnet</td>\n",
       "      <td>2015-05-01</td>\n",
       "      <td>2015-12-01</td>\n",
       "      <td>1</td>\n",
       "      <td>8</td>\n",
       "      <td>1</td>\n",
       "      <td>...</td>\n",
       "      <td>167.92</td>\n",
       "      <td>2015-05-03 19:15:00</td>\n",
       "      <td>2015-12-27 17:15:00</td>\n",
       "      <td>93</td>\n",
       "      <td>63</td>\n",
       "      <td>0.379592</td>\n",
       "      <td>0.677419</td>\n",
       "      <td>0.044240</td>\n",
       "      <td>33058.270833</td>\n",
       "      <td>1</td>\n",
       "    </tr>\n",
       "  </tbody>\n",
       "</table>\n",
       "<p>5 rows × 23 columns</p>\n",
       "</div>"
      ],
      "text/plain": [
       "   id  is_male  join_age  s_class_rank       club    join_mth     end_mth  \\\n",
       "0   1        1        20          0.45    Enfield  2011-12-01  2011-12-01   \n",
       "1   2        0        46          0.96  Greenwich  2018-06-01         NaN   \n",
       "2   3        0        33          0.73  Islington  2018-03-01  2018-10-01   \n",
       "3   4        0        44          0.45   Hounslow  2015-10-01  2015-12-01   \n",
       "4   5        1        33          0.25     Barnet  2015-05-01  2015-12-01   \n",
       "\n",
       "   is_std  mth_active  is_left_Dec15  ...  rev_to_date          first_visit  \\\n",
       "0       1           1              0  ...        20.99  2011-12-01 08:00:00   \n",
       "1       1           8              0  ...       215.92  2018-06-01 17:30:00   \n",
       "2       1           8              0  ...       215.92  2018-03-03 19:00:00   \n",
       "3       1           3              1  ...        62.97  2015-10-02 09:00:00   \n",
       "4       1           8              1  ...       167.92  2015-05-03 19:15:00   \n",
       "\n",
       "            last_visit  total_visit total_peak pct_gym_usage  pct_peak  \\\n",
       "0  2011-12-27 18:45:00           20          9      0.645161  0.450000   \n",
       "1  2019-01-08 18:30:00           74         41      0.302041  0.554054   \n",
       "2  2018-10-26 07:45:00          165        110      0.673469  0.666667   \n",
       "3  2015-12-28 19:30:00           52         32      0.565217  0.615385   \n",
       "4  2015-12-27 17:15:00           93         63      0.379592  0.677419   \n",
       "\n",
       "      rev_%  gym_mthly_visit  is_age_below_40  \n",
       "0  0.040164     27020.523364                1  \n",
       "1  0.053427     33372.886957                0  \n",
       "2  0.045245     34594.000000                1  \n",
       "3  0.056200     34880.376068                0  \n",
       "4  0.044240     33058.270833                1  \n",
       "\n",
       "[5 rows x 23 columns]"
      ]
     },
     "execution_count": 2,
     "metadata": {},
     "output_type": "execute_result"
    }
   ],
   "source": [
    "# import cleaned membership data\n",
    "membership_db = pd.read_csv(os.path.join(path,'data/processed/membership_clean.csv'))\n",
    "membership_db.head()"
   ]
  },
  {
   "cell_type": "markdown",
   "metadata": {},
   "source": [
    "### The following table explains the definition of each attribute that may be used in the following analysis"
   ]
  },
  {
   "cell_type": "code",
   "execution_count": 15,
   "metadata": {},
   "outputs": [
    {
     "data": {
      "text/html": [
       "<div>\n",
       "<style scoped>\n",
       "    .dataframe tbody tr th:only-of-type {\n",
       "        vertical-align: middle;\n",
       "    }\n",
       "\n",
       "    .dataframe tbody tr th {\n",
       "        vertical-align: top;\n",
       "    }\n",
       "\n",
       "    .dataframe thead th {\n",
       "        text-align: right;\n",
       "    }\n",
       "</style>\n",
       "<table border=\"1\" class=\"dataframe\">\n",
       "  <thead>\n",
       "    <tr style=\"text-align: right;\">\n",
       "      <th></th>\n",
       "      <th>Unnamed: 0</th>\n",
       "      <th>row 1</th>\n",
       "      <th>row 2</th>\n",
       "      <th>dtype</th>\n",
       "      <th>definition</th>\n",
       "    </tr>\n",
       "  </thead>\n",
       "  <tbody>\n",
       "    <tr>\n",
       "      <th>0</th>\n",
       "      <td>id</td>\n",
       "      <td>1</td>\n",
       "      <td>2</td>\n",
       "      <td>int</td>\n",
       "      <td>customer id</td>\n",
       "    </tr>\n",
       "    <tr>\n",
       "      <th>1</th>\n",
       "      <td>is_male</td>\n",
       "      <td>1</td>\n",
       "      <td>0</td>\n",
       "      <td>bin</td>\n",
       "      <td>1 = male, 0 = female</td>\n",
       "    </tr>\n",
       "    <tr>\n",
       "      <th>2</th>\n",
       "      <td>join_age</td>\n",
       "      <td>20</td>\n",
       "      <td>46</td>\n",
       "      <td>int</td>\n",
       "      <td>age at joining time</td>\n",
       "    </tr>\n",
       "    <tr>\n",
       "      <th>3</th>\n",
       "      <td>s_class_rank</td>\n",
       "      <td>0.45</td>\n",
       "      <td>0.96</td>\n",
       "      <td>float</td>\n",
       "      <td>% of population ranked below this member's soc...</td>\n",
       "    </tr>\n",
       "    <tr>\n",
       "      <th>4</th>\n",
       "      <td>club</td>\n",
       "      <td>Enfield</td>\n",
       "      <td>Greenwich</td>\n",
       "      <td>str</td>\n",
       "      <td>gym location</td>\n",
       "    </tr>\n",
       "    <tr>\n",
       "      <th>5</th>\n",
       "      <td>join_mth</td>\n",
       "      <td>1/12/2011</td>\n",
       "      <td>1/06/2018</td>\n",
       "      <td>datetime</td>\n",
       "      <td>join month-year (day uncertain)</td>\n",
       "    </tr>\n",
       "    <tr>\n",
       "      <th>6</th>\n",
       "      <td>end_mth</td>\n",
       "      <td>1/12/2011</td>\n",
       "      <td>NaT</td>\n",
       "      <td>datetime</td>\n",
       "      <td>end month-year (day uncertain)</td>\n",
       "    </tr>\n",
       "    <tr>\n",
       "      <th>7</th>\n",
       "      <td>is_std</td>\n",
       "      <td>1</td>\n",
       "      <td>1</td>\n",
       "      <td>int</td>\n",
       "      <td>1 for standard, 0 for flexible</td>\n",
       "    </tr>\n",
       "    <tr>\n",
       "      <th>8</th>\n",
       "      <td>mth_active</td>\n",
       "      <td>1</td>\n",
       "      <td>8</td>\n",
       "      <td>bin</td>\n",
       "      <td>For active membership, duration = as_of_date -...</td>\n",
       "    </tr>\n",
       "    <tr>\n",
       "      <th>9</th>\n",
       "      <td>is_left_Dec15</td>\n",
       "      <td>0</td>\n",
       "      <td>NaN</td>\n",
       "      <td>bin</td>\n",
       "      <td>1 for member left in Dec 2015, before the pric...</td>\n",
       "    </tr>\n",
       "    <tr>\n",
       "      <th>10</th>\n",
       "      <td>is_active</td>\n",
       "      <td>1</td>\n",
       "      <td>0</td>\n",
       "      <td>bin</td>\n",
       "      <td>1 for active membership, 0 for ceased</td>\n",
       "    </tr>\n",
       "    <tr>\n",
       "      <th>11</th>\n",
       "      <td>rev_to_15</td>\n",
       "      <td>20.99</td>\n",
       "      <td>0</td>\n",
       "      <td>float</td>\n",
       "      <td>monthly fee paid by member up to end of 2015</td>\n",
       "    </tr>\n",
       "    <tr>\n",
       "      <th>12</th>\n",
       "      <td>rev_fr_16</td>\n",
       "      <td>0</td>\n",
       "      <td>215.92</td>\n",
       "      <td>float</td>\n",
       "      <td>monthly fee paid by member from begining of 2016</td>\n",
       "    </tr>\n",
       "    <tr>\n",
       "      <th>13</th>\n",
       "      <td>rev_to_date</td>\n",
       "      <td>20.99</td>\n",
       "      <td>215.92</td>\n",
       "      <td>float</td>\n",
       "      <td>total monthly fees paid by member to date</td>\n",
       "    </tr>\n",
       "    <tr>\n",
       "      <th>14</th>\n",
       "      <td>first_visit</td>\n",
       "      <td>1/12/2011 8:00</td>\n",
       "      <td>1/06/2018 17:30</td>\n",
       "      <td>datetime</td>\n",
       "      <td>timestamp for first visit</td>\n",
       "    </tr>\n",
       "    <tr>\n",
       "      <th>15</th>\n",
       "      <td>last_visit</td>\n",
       "      <td>27/12/2011 18:45</td>\n",
       "      <td>8/01/2019 18:30</td>\n",
       "      <td>datetime</td>\n",
       "      <td>timestamp for last visit</td>\n",
       "    </tr>\n",
       "    <tr>\n",
       "      <th>16</th>\n",
       "      <td>total_visit</td>\n",
       "      <td>20</td>\n",
       "      <td>74</td>\n",
       "      <td>int</td>\n",
       "      <td>number of days visited</td>\n",
       "    </tr>\n",
       "    <tr>\n",
       "      <th>17</th>\n",
       "      <td>total_peak</td>\n",
       "      <td>9</td>\n",
       "      <td>41</td>\n",
       "      <td>int</td>\n",
       "      <td>number of days visited during peak hour</td>\n",
       "    </tr>\n",
       "    <tr>\n",
       "      <th>18</th>\n",
       "      <td>pct_gym_usage</td>\n",
       "      <td>0.645161</td>\n",
       "      <td>0.302041</td>\n",
       "      <td>float</td>\n",
       "      <td>total_visit / number of days as gym member</td>\n",
       "    </tr>\n",
       "    <tr>\n",
       "      <th>19</th>\n",
       "      <td>pct_peak</td>\n",
       "      <td>0.45</td>\n",
       "      <td>0.554054</td>\n",
       "      <td>float</td>\n",
       "      <td>total_peak / total_visit</td>\n",
       "    </tr>\n",
       "    <tr>\n",
       "      <th>20</th>\n",
       "      <td>rev_%</td>\n",
       "      <td>0.040164</td>\n",
       "      <td>0.053427</td>\n",
       "      <td>float</td>\n",
       "      <td>gym's revenue contribution:    total revenue f...</td>\n",
       "    </tr>\n",
       "    <tr>\n",
       "      <th>21</th>\n",
       "      <td>gym_mthly_visit</td>\n",
       "      <td>27020.52336</td>\n",
       "      <td>33372.88696</td>\n",
       "      <td>NaN</td>\n",
       "      <td>The amount of visits that person's gym receive...</td>\n",
       "    </tr>\n",
       "    <tr>\n",
       "      <th>22</th>\n",
       "      <td>is_age_below_40</td>\n",
       "      <td>1</td>\n",
       "      <td>0</td>\n",
       "      <td>NaN</td>\n",
       "      <td>if the person's age is below 40</td>\n",
       "    </tr>\n",
       "  </tbody>\n",
       "</table>\n",
       "</div>"
      ],
      "text/plain": [
       "         Unnamed: 0             row 1            row 2     dtype  \\\n",
       "0                id                 1                2       int   \n",
       "1           is_male                 1                0       bin   \n",
       "2          join_age                20               46       int   \n",
       "3      s_class_rank              0.45             0.96     float   \n",
       "4              club           Enfield        Greenwich       str   \n",
       "5          join_mth         1/12/2011        1/06/2018  datetime   \n",
       "6           end_mth         1/12/2011              NaT  datetime   \n",
       "7            is_std                 1                1       int   \n",
       "8        mth_active                 1                8       bin   \n",
       "9     is_left_Dec15                 0              NaN       bin   \n",
       "10        is_active                 1                0       bin   \n",
       "11        rev_to_15             20.99                0     float   \n",
       "12        rev_fr_16                 0           215.92     float   \n",
       "13      rev_to_date             20.99           215.92     float   \n",
       "14      first_visit    1/12/2011 8:00  1/06/2018 17:30  datetime   \n",
       "15       last_visit  27/12/2011 18:45  8/01/2019 18:30  datetime   \n",
       "16      total_visit                20               74       int   \n",
       "17       total_peak                 9               41       int   \n",
       "18    pct_gym_usage          0.645161         0.302041     float   \n",
       "19         pct_peak              0.45         0.554054     float   \n",
       "20            rev_%          0.040164         0.053427     float   \n",
       "21  gym_mthly_visit       27020.52336      33372.88696       NaN   \n",
       "22  is_age_below_40                 1                0       NaN   \n",
       "\n",
       "                                           definition  \n",
       "0                                         customer id  \n",
       "1                                1 = male, 0 = female  \n",
       "2                                 age at joining time  \n",
       "3   % of population ranked below this member's soc...  \n",
       "4                                        gym location  \n",
       "5                     join month-year (day uncertain)  \n",
       "6                      end month-year (day uncertain)  \n",
       "7                      1 for standard, 0 for flexible  \n",
       "8   For active membership, duration = as_of_date -...  \n",
       "9   1 for member left in Dec 2015, before the pric...  \n",
       "10              1 for active membership, 0 for ceased  \n",
       "11       monthly fee paid by member up to end of 2015  \n",
       "12   monthly fee paid by member from begining of 2016  \n",
       "13          total monthly fees paid by member to date  \n",
       "14                          timestamp for first visit  \n",
       "15                           timestamp for last visit  \n",
       "16                             number of days visited  \n",
       "17            number of days visited during peak hour  \n",
       "18         total_visit / number of days as gym member  \n",
       "19                           total_peak / total_visit  \n",
       "20  gym's revenue contribution:    total revenue f...  \n",
       "21  The amount of visits that person's gym receive...  \n",
       "22                    if the person's age is below 40  "
      ]
     },
     "execution_count": 15,
     "metadata": {},
     "output_type": "execute_result"
    }
   ],
   "source": [
    "# import description file\n",
    "pd.read_csv(os.path.join(path,'data/processed/membership_clean_description.csv'))"
   ]
  },
  {
   "cell_type": "code",
   "execution_count": 5,
   "metadata": {},
   "outputs": [
    {
     "name": "stdout",
     "output_type": "stream",
     "text": [
      "797656 members have left the gym. 52377 members are active.\n"
     ]
    }
   ],
   "source": [
    "# training database\n",
    "ceased_db = membership_db[membership_db['is_active'] == 0]\n",
    "active_db = membership_db[membership_db['is_active'] == 1]\n",
    "print(f'{len(ceased_db)} members have left the gym. {len(active_db)} members are active.')"
   ]
  },
  {
   "cell_type": "markdown",
   "metadata": {},
   "source": [
    "#### Normalise variables"
   ]
  },
  {
   "cell_type": "code",
   "execution_count": 36,
   "metadata": {},
   "outputs": [
    {
     "name": "stderr",
     "output_type": "stream",
     "text": [
      "C:\\Users\\Isabella\\Anaconda3\\lib\\site-packages\\ipykernel_launcher.py:1: SettingWithCopyWarning: \n",
      "A value is trying to be set on a copy of a slice from a DataFrame.\n",
      "Try using .loc[row_indexer,col_indexer] = value instead\n",
      "\n",
      "See the caveats in the documentation: http://pandas.pydata.org/pandas-docs/stable/indexing.html#indexing-view-versus-copy\n",
      "  \"\"\"Entry point for launching an IPython kernel.\n",
      "C:\\Users\\Isabella\\Anaconda3\\lib\\site-packages\\ipykernel_launcher.py:2: SettingWithCopyWarning: \n",
      "A value is trying to be set on a copy of a slice from a DataFrame.\n",
      "Try using .loc[row_indexer,col_indexer] = value instead\n",
      "\n",
      "See the caveats in the documentation: http://pandas.pydata.org/pandas-docs/stable/indexing.html#indexing-view-versus-copy\n",
      "  \n"
     ]
    }
   ],
   "source": [
    "ceased_db['club_profit_pct_unif'] = (ceased_db['rev_%'] - np.min(ceased_db['rev_%'])) / (np.max(ceased_db['rev_%']) - np.min(ceased_db['rev_%']))\n",
    "ceased_db['club_visitor_unif'] = (ceased_db['gym_mthly_visit'] - np.min(ceased_db['gym_mthly_visit'])) / (np.max(ceased_db['gym_mthly_visit']) - np.min(ceased_db['gym_mthly_visit']))"
   ]
  },
  {
   "cell_type": "markdown",
   "metadata": {},
   "source": [
    "### In general, three modeling methods, namely OLS, Decision Tree and Random Forest will be used in the prediction."
   ]
  },
  {
   "cell_type": "markdown",
   "metadata": {},
   "source": [
    "(1) Independent variables/ X-variables: \n",
    "\n",
    "- 'is_male': whether the customer is male(1) or female(0)\n",
    "- 'join_age': the age of the customer at the joining date\n",
    "- 's_class_rank':percentage of population that is ranked below the customer's affluence\n",
    "- 'is_std': whether the subscription type is standard(1) or flexible(0)\n",
    "- 'is_left_Dec15' : whether the customer left the gym in December 2015(yes:1, no:0)\n",
    "- 'pct_gym_usage': the total number of days the customer visits the gym/ the total number of days the customer remaining as a member\n",
    "- 'pct_peak': total peak times when the customer visits the gym/ total times the customer visits the gym\n",
    "- 'club_profit_pct_unif':the normalised profitability contribution by club\n",
    "- 'club_visitor_unif': the normalised amount of visits the customer's gym receives per month on average\n",
    "\n",
    "(2) Dependent variables / Y-variables: \n",
    "- 'mths_active': For active membership, the months they remain as a member up till today; for ceased membership, the months they were a member in the gym."
   ]
  },
  {
   "cell_type": "code",
   "execution_count": 37,
   "metadata": {},
   "outputs": [],
   "source": [
    "# Assign the x and y variables\n",
    "x = ceased_db[['is_male', 'join_age', 's_class_rank', 'is_std', 'is_left_Dec15', 'pct_gym_usage', 'pct_peak',\n",
    "               'club_profit_pct_unif','club_visitor_unif']]\n",
    "y = ceased_db['mth_active']"
   ]
  },
  {
   "cell_type": "code",
   "execution_count": 38,
   "metadata": {},
   "outputs": [
    {
     "data": {
      "text/html": [
       "<div>\n",
       "<style scoped>\n",
       "    .dataframe tbody tr th:only-of-type {\n",
       "        vertical-align: middle;\n",
       "    }\n",
       "\n",
       "    .dataframe tbody tr th {\n",
       "        vertical-align: top;\n",
       "    }\n",
       "\n",
       "    .dataframe thead th {\n",
       "        text-align: right;\n",
       "    }\n",
       "</style>\n",
       "<table border=\"1\" class=\"dataframe\">\n",
       "  <thead>\n",
       "    <tr style=\"text-align: right;\">\n",
       "      <th></th>\n",
       "      <th>is_male</th>\n",
       "      <th>join_age</th>\n",
       "      <th>s_class_rank</th>\n",
       "      <th>is_std</th>\n",
       "      <th>is_left_Dec15</th>\n",
       "      <th>pct_gym_usage</th>\n",
       "      <th>pct_peak</th>\n",
       "      <th>club_profit_pct_unif</th>\n",
       "      <th>club_visitor_unif</th>\n",
       "    </tr>\n",
       "  </thead>\n",
       "  <tbody>\n",
       "    <tr>\n",
       "      <th>0</th>\n",
       "      <td>1</td>\n",
       "      <td>20</td>\n",
       "      <td>0.45</td>\n",
       "      <td>1</td>\n",
       "      <td>0</td>\n",
       "      <td>0.645161</td>\n",
       "      <td>0.450000</td>\n",
       "      <td>0.691850</td>\n",
       "      <td>0.163276</td>\n",
       "    </tr>\n",
       "    <tr>\n",
       "      <th>2</th>\n",
       "      <td>0</td>\n",
       "      <td>33</td>\n",
       "      <td>0.73</td>\n",
       "      <td>1</td>\n",
       "      <td>0</td>\n",
       "      <td>0.673469</td>\n",
       "      <td>0.666667</td>\n",
       "      <td>0.789494</td>\n",
       "      <td>0.609349</td>\n",
       "    </tr>\n",
       "    <tr>\n",
       "      <th>3</th>\n",
       "      <td>0</td>\n",
       "      <td>44</td>\n",
       "      <td>0.45</td>\n",
       "      <td>1</td>\n",
       "      <td>1</td>\n",
       "      <td>0.565217</td>\n",
       "      <td>0.615385</td>\n",
       "      <td>1.000000</td>\n",
       "      <td>0.626217</td>\n",
       "    </tr>\n",
       "    <tr>\n",
       "      <th>4</th>\n",
       "      <td>1</td>\n",
       "      <td>33</td>\n",
       "      <td>0.25</td>\n",
       "      <td>1</td>\n",
       "      <td>1</td>\n",
       "      <td>0.379592</td>\n",
       "      <td>0.677419</td>\n",
       "      <td>0.770175</td>\n",
       "      <td>0.518896</td>\n",
       "    </tr>\n",
       "    <tr>\n",
       "      <th>5</th>\n",
       "      <td>1</td>\n",
       "      <td>35</td>\n",
       "      <td>0.45</td>\n",
       "      <td>1</td>\n",
       "      <td>0</td>\n",
       "      <td>0.423913</td>\n",
       "      <td>0.256410</td>\n",
       "      <td>0.836952</td>\n",
       "      <td>0.715015</td>\n",
       "    </tr>\n",
       "  </tbody>\n",
       "</table>\n",
       "</div>"
      ],
      "text/plain": [
       "   is_male  join_age  s_class_rank  is_std  is_left_Dec15  pct_gym_usage  \\\n",
       "0        1        20          0.45       1              0       0.645161   \n",
       "2        0        33          0.73       1              0       0.673469   \n",
       "3        0        44          0.45       1              1       0.565217   \n",
       "4        1        33          0.25       1              1       0.379592   \n",
       "5        1        35          0.45       1              0       0.423913   \n",
       "\n",
       "   pct_peak  club_profit_pct_unif  club_visitor_unif  \n",
       "0  0.450000              0.691850           0.163276  \n",
       "2  0.666667              0.789494           0.609349  \n",
       "3  0.615385              1.000000           0.626217  \n",
       "4  0.677419              0.770175           0.518896  \n",
       "5  0.256410              0.836952           0.715015  "
      ]
     },
     "execution_count": 38,
     "metadata": {},
     "output_type": "execute_result"
    }
   ],
   "source": [
    "# Visualise the x variables in a table\n",
    "x.head()"
   ]
  },
  {
   "cell_type": "markdown",
   "metadata": {},
   "source": [
    "### 2. Modelling"
   ]
  },
  {
   "cell_type": "markdown",
   "metadata": {},
   "source": [
    "#### 2.1 Run OLS regression model "
   ]
  },
  {
   "cell_type": "code",
   "execution_count": 39,
   "metadata": {},
   "outputs": [],
   "source": [
    "import statsmodels.api as sm"
   ]
  },
  {
   "cell_type": "code",
   "execution_count": 40,
   "metadata": {},
   "outputs": [
    {
     "data": {
      "text/html": [
       "<table class=\"simpletable\">\n",
       "<caption>OLS Regression Results</caption>\n",
       "<tr>\n",
       "  <th>Dep. Variable:</th>       <td>mth_active</td>    <th>  R-squared:         </th>  <td>   0.763</td>  \n",
       "</tr>\n",
       "<tr>\n",
       "  <th>Model:</th>                   <td>OLS</td>       <th>  Adj. R-squared:    </th>  <td>   0.763</td>  \n",
       "</tr>\n",
       "<tr>\n",
       "  <th>Method:</th>             <td>Least Squares</td>  <th>  F-statistic:       </th>  <td>2.850e+05</td> \n",
       "</tr>\n",
       "<tr>\n",
       "  <th>Date:</th>             <td>Mon, 05 Aug 2019</td> <th>  Prob (F-statistic):</th>   <td>  0.00</td>   \n",
       "</tr>\n",
       "<tr>\n",
       "  <th>Time:</th>                 <td>14:38:12</td>     <th>  Log-Likelihood:    </th> <td>-1.9762e+06</td>\n",
       "</tr>\n",
       "<tr>\n",
       "  <th>No. Observations:</th>      <td>797656</td>      <th>  AIC:               </th>  <td>3.952e+06</td> \n",
       "</tr>\n",
       "<tr>\n",
       "  <th>Df Residuals:</th>          <td>797647</td>      <th>  BIC:               </th>  <td>3.953e+06</td> \n",
       "</tr>\n",
       "<tr>\n",
       "  <th>Df Model:</th>              <td>     9</td>      <th>                     </th>      <td> </td>     \n",
       "</tr>\n",
       "<tr>\n",
       "  <th>Covariance Type:</th>      <td>nonrobust</td>    <th>                     </th>      <td> </td>     \n",
       "</tr>\n",
       "</table>\n",
       "<table class=\"simpletable\">\n",
       "<tr>\n",
       "            <td></td>              <th>coef</th>     <th>std err</th>      <th>t</th>      <th>P>|t|</th>  <th>[0.025</th>    <th>0.975]</th>  \n",
       "</tr>\n",
       "<tr>\n",
       "  <th>is_male</th>              <td>    0.2160</td> <td>    0.006</td> <td>   33.717</td> <td> 0.000</td> <td>    0.203</td> <td>    0.229</td>\n",
       "</tr>\n",
       "<tr>\n",
       "  <th>join_age</th>             <td>    0.0397</td> <td>    0.000</td> <td>  110.042</td> <td> 0.000</td> <td>    0.039</td> <td>    0.040</td>\n",
       "</tr>\n",
       "<tr>\n",
       "  <th>s_class_rank</th>         <td>    0.5186</td> <td>    0.013</td> <td>   39.490</td> <td> 0.000</td> <td>    0.493</td> <td>    0.544</td>\n",
       "</tr>\n",
       "<tr>\n",
       "  <th>is_std</th>               <td>    1.9375</td> <td>    0.008</td> <td>  242.544</td> <td> 0.000</td> <td>    1.922</td> <td>    1.953</td>\n",
       "</tr>\n",
       "<tr>\n",
       "  <th>is_left_Dec15</th>        <td>   -0.3211</td> <td>    0.021</td> <td>  -15.045</td> <td> 0.000</td> <td>   -0.363</td> <td>   -0.279</td>\n",
       "</tr>\n",
       "<tr>\n",
       "  <th>pct_gym_usage</th>        <td>    3.5964</td> <td>    0.016</td> <td>  222.448</td> <td> 0.000</td> <td>    3.565</td> <td>    3.628</td>\n",
       "</tr>\n",
       "<tr>\n",
       "  <th>pct_peak</th>             <td>   -1.1755</td> <td>    0.021</td> <td>  -55.724</td> <td> 0.000</td> <td>   -1.217</td> <td>   -1.134</td>\n",
       "</tr>\n",
       "<tr>\n",
       "  <th>club_profit_pct_unif</th> <td>    0.4123</td> <td>    0.014</td> <td>   30.259</td> <td> 0.000</td> <td>    0.386</td> <td>    0.439</td>\n",
       "</tr>\n",
       "<tr>\n",
       "  <th>club_visitor_unif</th>    <td>    0.6964</td> <td>    0.016</td> <td>   44.351</td> <td> 0.000</td> <td>    0.666</td> <td>    0.727</td>\n",
       "</tr>\n",
       "</table>\n",
       "<table class=\"simpletable\">\n",
       "<tr>\n",
       "  <th>Omnibus:</th>       <td>355879.007</td> <th>  Durbin-Watson:     </th>  <td>   2.000</td>  \n",
       "</tr>\n",
       "<tr>\n",
       "  <th>Prob(Omnibus):</th>   <td> 0.000</td>   <th>  Jarque-Bera (JB):  </th> <td>2409886.320</td>\n",
       "</tr>\n",
       "<tr>\n",
       "  <th>Skew:</th>            <td> 2.036</td>   <th>  Prob(JB):          </th>  <td>    0.00</td>  \n",
       "</tr>\n",
       "<tr>\n",
       "  <th>Kurtosis:</th>        <td>10.478</td>   <th>  Cond. No.          </th>  <td>    223.</td>  \n",
       "</tr>\n",
       "</table><br/><br/>Warnings:<br/>[1] Standard Errors assume that the covariance matrix of the errors is correctly specified."
      ],
      "text/plain": [
       "<class 'statsmodels.iolib.summary.Summary'>\n",
       "\"\"\"\n",
       "                            OLS Regression Results                            \n",
       "==============================================================================\n",
       "Dep. Variable:             mth_active   R-squared:                       0.763\n",
       "Model:                            OLS   Adj. R-squared:                  0.763\n",
       "Method:                 Least Squares   F-statistic:                 2.850e+05\n",
       "Date:                Mon, 05 Aug 2019   Prob (F-statistic):               0.00\n",
       "Time:                        14:38:12   Log-Likelihood:            -1.9762e+06\n",
       "No. Observations:              797656   AIC:                         3.952e+06\n",
       "Df Residuals:                  797647   BIC:                         3.953e+06\n",
       "Df Model:                           9                                         \n",
       "Covariance Type:            nonrobust                                         \n",
       "========================================================================================\n",
       "                           coef    std err          t      P>|t|      [0.025      0.975]\n",
       "----------------------------------------------------------------------------------------\n",
       "is_male                  0.2160      0.006     33.717      0.000       0.203       0.229\n",
       "join_age                 0.0397      0.000    110.042      0.000       0.039       0.040\n",
       "s_class_rank             0.5186      0.013     39.490      0.000       0.493       0.544\n",
       "is_std                   1.9375      0.008    242.544      0.000       1.922       1.953\n",
       "is_left_Dec15           -0.3211      0.021    -15.045      0.000      -0.363      -0.279\n",
       "pct_gym_usage            3.5964      0.016    222.448      0.000       3.565       3.628\n",
       "pct_peak                -1.1755      0.021    -55.724      0.000      -1.217      -1.134\n",
       "club_profit_pct_unif     0.4123      0.014     30.259      0.000       0.386       0.439\n",
       "club_visitor_unif        0.6964      0.016     44.351      0.000       0.666       0.727\n",
       "==============================================================================\n",
       "Omnibus:                   355879.007   Durbin-Watson:                   2.000\n",
       "Prob(Omnibus):                  0.000   Jarque-Bera (JB):          2409886.320\n",
       "Skew:                           2.036   Prob(JB):                         0.00\n",
       "Kurtosis:                      10.478   Cond. No.                         223.\n",
       "==============================================================================\n",
       "\n",
       "Warnings:\n",
       "[1] Standard Errors assume that the covariance matrix of the errors is correctly specified.\n",
       "\"\"\""
      ]
     },
     "execution_count": 40,
     "metadata": {},
     "output_type": "execute_result"
    }
   ],
   "source": [
    "model = sm.OLS(y, x).fit()\n",
    "predictions = model.predict(x)\n",
    "model.summary()"
   ]
  },
  {
   "cell_type": "markdown",
   "metadata": {},
   "source": [
    "#### From the chart above, we can see that R-squared is 76.3%， meaning that only 76.3% of the variation in the number of months a customer remains as a member in the gym can be explained by the model. The attributes 'is_male', 'join_age', 's_class_rank', 'is_std', 'pct_gym_usage', 'club_profit_pct_unif' and 'club_visitor_unif' have positive effect on the duration of membership while attributes 'is_left_Dec15' and 'pct_peak' show negative effect on the same. We decide not to use this model as we do not think it can provide accurate prediction. "
   ]
  },
  {
   "cell_type": "markdown",
   "metadata": {},
   "source": [
    "### 2.2 Run the decision tree model"
   ]
  },
  {
   "cell_type": "code",
   "execution_count": 20,
   "metadata": {},
   "outputs": [],
   "source": [
    "from sklearn.tree import export_graphviz\n",
    "from sklearn.externals.six import StringIO\n",
    "from IPython.display import Image\n",
    "import pydotplus\n",
    "\n",
    "from sklearn.metrics import accuracy_score\n",
    "from sklearn.model_selection import train_test_split\n",
    "from sklearn.metrics import confusion_matrix\n",
    "from sklearn.tree import DecisionTreeRegressor"
   ]
  },
  {
   "cell_type": "code",
   "execution_count": 41,
   "metadata": {},
   "outputs": [
    {
     "name": "stdout",
     "output_type": "stream",
     "text": [
      " Training: 678007 | Validation: 119648\n"
     ]
    }
   ],
   "source": [
    "# Splitting up the dataset into two datesets: Training 85%, Validation 15%\n",
    "train_x, valid_x, train_y, valid_y = train_test_split(x, y, train_size=int(len(x)*0.85), test_size=int(len(x)*0.15))\n",
    "print(f\" Training: {len(train_x)} | Validation: {len(valid_x)}\")"
   ]
  },
  {
   "cell_type": "code",
   "execution_count": 42,
   "metadata": {},
   "outputs": [
    {
     "data": {
      "image/png": "[encoded data removed]",
      "text/plain": [
       "<Figure size 648x432 with 1 Axes>"
      ]
     },
     "metadata": {
      "needs_background": "light"
     },
     "output_type": "display_data"
    }
   ],
   "source": [
    "# find the optimal max depth for the decision tree\n",
    "score = []\n",
    "\n",
    "for i in range(1, 30):\n",
    "    reg = DecisionTreeRegressor(max_depth = i)\n",
    "    reg.fit(train_x, train_y)\n",
    "    \n",
    "    t_score = reg.score(train_x, train_y)\n",
    "    v_score = reg.score(valid_x, valid_y)\n",
    "    score.append([i, t_score, v_score])\n",
    "\n",
    "score = np.asarray(score)\n",
    "\n",
    "# Plot the graph for the accuracy of regressor by max depth\n",
    "\n",
    "plt.figure(figsize=(9,6))\n",
    "plt.plot(score[:,0],score[:,1:]) \n",
    "\n",
    "plt.legend(['training set', 'validation set']);\n",
    "plt.title('Accuracy of Regressor by Max_depth')\n",
    "plt.xticks(range(1,30,1))\n",
    "plt.xlabel('Max_depth')\n",
    "plt.ylabel('Accuracy')\n",
    "plt.show()"
   ]
  },
  {
   "cell_type": "markdown",
   "metadata": {},
   "source": [
    "#### By observation from the graph above, the accuracy rates for the validation dataset do not reach 40% across the different max_depths and therefore, we decide not to adopt this model."
   ]
  },
  {
   "cell_type": "markdown",
   "metadata": {},
   "source": [
    "### 2.3 Run the Random Forest model"
   ]
  },
  {
   "cell_type": "code",
   "execution_count": 24,
   "metadata": {},
   "outputs": [],
   "source": [
    "from sklearn.ensemble import RandomForestRegressor\n",
    "from sklearn.metrics import accuracy_score\n",
    "from sklearn.metrics import f1_score\n",
    "from sklearn.metrics import confusion_matrix"
   ]
  },
  {
   "cell_type": "markdown",
   "metadata": {},
   "source": [
    "#### 2.3.1 Training the Random Forest Model on the training and validation dataset   \n",
    "\n",
    "Result from Grid Search suggests that max_depth should be 30 or more, however n_estiamtor can be reduced for the random forest model"
   ]
  },
  {
   "cell_type": "code",
   "execution_count": 43,
   "metadata": {},
   "outputs": [
    {
     "name": "stdout",
     "output_type": "stream",
     "text": [
      " The accuracy rate for training dataset: 92.04%.\n"
     ]
    }
   ],
   "source": [
    "#  Training the random forest model on the training dataset\n",
    "rgr = RandomForestRegressor(n_estimators=15, max_depth=50, random_state=0)\n",
    "rgr.fit(train_x, train_y)\n",
    " \n",
    "# Showing the accuracy rates for the model on training dataset \n",
    "t_score = rgr.score(train_x, train_y)\n",
    "\n",
    "print(f\" The accuracy rate for training dataset: {t_score :.2%}.\")"
   ]
  },
  {
   "cell_type": "code",
   "execution_count": 44,
   "metadata": {},
   "outputs": [
    {
     "name": "stdout",
     "output_type": "stream",
     "text": [
      " The accuracy of the random forest model on the validation set is 52.85%.\n"
     ]
    }
   ],
   "source": [
    "alid_y_pred = rgr.predict(valid_x)\n",
    "valid_score = rgr.score(valid_x, valid_y)\n",
    "print(f\" The accuracy of the random forest model on the validation set is {valid_score :.2%}.\")"
   ]
  },
  {
   "cell_type": "markdown",
   "metadata": {},
   "source": [
    "#### 2.3.2 Re-train using all ceased member "
   ]
  },
  {
   "cell_type": "code",
   "execution_count": 45,
   "metadata": {},
   "outputs": [
    {
     "data": {
      "text/plain": [
       "RandomForestRegressor(bootstrap=True, criterion='mse', max_depth=50,\n",
       "           max_features='auto', max_leaf_nodes=None,\n",
       "           min_impurity_decrease=0.0, min_impurity_split=None,\n",
       "           min_samples_leaf=1, min_samples_split=2,\n",
       "           min_weight_fraction_leaf=0.0, n_estimators=15, n_jobs=None,\n",
       "           oob_score=False, random_state=0, verbose=0, warm_start=False)"
      ]
     },
     "execution_count": 45,
     "metadata": {},
     "output_type": "execute_result"
    }
   ],
   "source": [
    "rgr.fit(x, y)"
   ]
  },
  {
   "cell_type": "markdown",
   "metadata": {},
   "source": [
    "#### 2.3.3 Prediction on membership life of existing members based on the re-trained model"
   ]
  },
  {
   "cell_type": "code",
   "execution_count": 46,
   "metadata": {},
   "outputs": [
    {
     "name": "stderr",
     "output_type": "stream",
     "text": [
      "C:\\Users\\Isabella\\Anaconda3\\lib\\site-packages\\ipykernel_launcher.py:1: SettingWithCopyWarning: \n",
      "A value is trying to be set on a copy of a slice from a DataFrame.\n",
      "Try using .loc[row_indexer,col_indexer] = value instead\n",
      "\n",
      "See the caveats in the documentation: http://pandas.pydata.org/pandas-docs/stable/indexing.html#indexing-view-versus-copy\n",
      "  \"\"\"Entry point for launching an IPython kernel.\n",
      "C:\\Users\\Isabella\\Anaconda3\\lib\\site-packages\\ipykernel_launcher.py:2: SettingWithCopyWarning: \n",
      "A value is trying to be set on a copy of a slice from a DataFrame.\n",
      "Try using .loc[row_indexer,col_indexer] = value instead\n",
      "\n",
      "See the caveats in the documentation: http://pandas.pydata.org/pandas-docs/stable/indexing.html#indexing-view-versus-copy\n",
      "  \n"
     ]
    }
   ],
   "source": [
    "active_db['club_profit_pct_unif'] = (active_db['rev_%'] - np.min(active_db['rev_%'])) / (np.max(active_db['rev_%']) - np.min(active_db['rev_%']))\n",
    "active_db['club_visitor_unif'] = (active_db['gym_mthly_visit'] - np.min(active_db['gym_mthly_visit'])) / (np.max(active_db['gym_mthly_visit']) - np.min(ceased_db['rev_%']))\n",
    "\n",
    "test_x = active_db[['is_male', 'join_age', 's_class_rank', 'is_std', 'is_left_Dec15', 'pct_gym_usage', 'pct_peak',\n",
    "               'club_profit_pct_unif','club_visitor_unif']]\n",
    "test_y = active_db['mth_active']\n",
    "\n",
    "test_y_pred = rgr.predict(test_x)"
   ]
  },
  {
   "cell_type": "markdown",
   "metadata": {},
   "source": [
    "#### 2.3.4 Examine fitted features of the re-trained model"
   ]
  },
  {
   "cell_type": "code",
   "execution_count": 47,
   "metadata": {},
   "outputs": [
    {
     "data": {
      "text/html": [
       "<div>\n",
       "<style scoped>\n",
       "    .dataframe tbody tr th:only-of-type {\n",
       "        vertical-align: middle;\n",
       "    }\n",
       "\n",
       "    .dataframe tbody tr th {\n",
       "        vertical-align: top;\n",
       "    }\n",
       "\n",
       "    .dataframe thead th {\n",
       "        text-align: right;\n",
       "    }\n",
       "</style>\n",
       "<table border=\"1\" class=\"dataframe\">\n",
       "  <thead>\n",
       "    <tr style=\"text-align: right;\">\n",
       "      <th></th>\n",
       "      <th>importance</th>\n",
       "    </tr>\n",
       "  </thead>\n",
       "  <tbody>\n",
       "    <tr>\n",
       "      <th>pct_gym_usage</th>\n",
       "      <td>0.468222</td>\n",
       "    </tr>\n",
       "    <tr>\n",
       "      <th>pct_peak</th>\n",
       "      <td>0.253516</td>\n",
       "    </tr>\n",
       "    <tr>\n",
       "      <th>is_std</th>\n",
       "      <td>0.082345</td>\n",
       "    </tr>\n",
       "    <tr>\n",
       "      <th>join_age</th>\n",
       "      <td>0.067832</td>\n",
       "    </tr>\n",
       "    <tr>\n",
       "      <th>club_visitor_unif</th>\n",
       "      <td>0.043097</td>\n",
       "    </tr>\n",
       "    <tr>\n",
       "      <th>club_profit_pct_unif</th>\n",
       "      <td>0.041143</td>\n",
       "    </tr>\n",
       "    <tr>\n",
       "      <th>s_class_rank</th>\n",
       "      <td>0.027847</td>\n",
       "    </tr>\n",
       "    <tr>\n",
       "      <th>is_male</th>\n",
       "      <td>0.010551</td>\n",
       "    </tr>\n",
       "    <tr>\n",
       "      <th>is_left_Dec15</th>\n",
       "      <td>0.005448</td>\n",
       "    </tr>\n",
       "  </tbody>\n",
       "</table>\n",
       "</div>"
      ],
      "text/plain": [
       "                      importance\n",
       "pct_gym_usage           0.468222\n",
       "pct_peak                0.253516\n",
       "is_std                  0.082345\n",
       "join_age                0.067832\n",
       "club_visitor_unif       0.043097\n",
       "club_profit_pct_unif    0.041143\n",
       "s_class_rank            0.027847\n",
       "is_male                 0.010551\n",
       "is_left_Dec15           0.005448"
      ]
     },
     "execution_count": 47,
     "metadata": {},
     "output_type": "execute_result"
    }
   ],
   "source": [
    "feature_importances = pd.DataFrame(rgr.feature_importances_, index = test_x.columns, \n",
    "                                   columns=['importance']).sort_values('importance', ascending=False)\n",
    "feature_importances"
   ]
  },
  {
   "cell_type": "markdown",
   "metadata": {},
   "source": [
    "#### we can see from the above that almost 50% of the importance comes from pct_gym_usage, ranking the first, followed by pct_peak, contributing approximately 25% of the importance, and next comes the is_std with approximately 8% of importance."
   ]
  },
  {
   "cell_type": "markdown",
   "metadata": {},
   "source": [
    "#### 2.3.5 Create an expected remaining membership life column for each active member based on the random forest model above and we denote it \"mth_till_churn\" for simplicity purpose."
   ]
  },
  {
   "cell_type": "code",
   "execution_count": 48,
   "metadata": {},
   "outputs": [
    {
     "name": "stderr",
     "output_type": "stream",
     "text": [
      "C:\\Users\\Isabella\\Anaconda3\\lib\\site-packages\\ipykernel_launcher.py:1: SettingWithCopyWarning: \n",
      "A value is trying to be set on a copy of a slice from a DataFrame.\n",
      "Try using .loc[row_indexer,col_indexer] = value instead\n",
      "\n",
      "See the caveats in the documentation: http://pandas.pydata.org/pandas-docs/stable/indexing.html#indexing-view-versus-copy\n",
      "  \"\"\"Entry point for launching an IPython kernel.\n",
      "C:\\Users\\Isabella\\Anaconda3\\lib\\site-packages\\ipykernel_launcher.py:2: SettingWithCopyWarning: \n",
      "A value is trying to be set on a copy of a slice from a DataFrame.\n",
      "Try using .loc[row_indexer,col_indexer] = value instead\n",
      "\n",
      "See the caveats in the documentation: http://pandas.pydata.org/pandas-docs/stable/indexing.html#indexing-view-versus-copy\n",
      "  \n",
      "C:\\Users\\Isabella\\Anaconda3\\lib\\site-packages\\ipykernel_launcher.py:3: SettingWithCopyWarning: \n",
      "A value is trying to be set on a copy of a slice from a DataFrame\n",
      "\n",
      "See the caveats in the documentation: http://pandas.pydata.org/pandas-docs/stable/indexing.html#indexing-view-versus-copy\n",
      "  This is separate from the ipykernel package so we can avoid doing imports until\n",
      "C:\\Users\\Isabella\\Anaconda3\\lib\\site-packages\\pandas\\core\\generic.py:8682: SettingWithCopyWarning: \n",
      "A value is trying to be set on a copy of a slice from a DataFrame\n",
      "\n",
      "See the caveats in the documentation: http://pandas.pydata.org/pandas-docs/stable/indexing.html#indexing-view-versus-copy\n",
      "  self._update_inplace(new_data)\n",
      "C:\\Users\\Isabella\\Anaconda3\\lib\\site-packages\\IPython\\core\\interactiveshell.py:3296: SettingWithCopyWarning: \n",
      "A value is trying to be set on a copy of a slice from a DataFrame\n",
      "\n",
      "See the caveats in the documentation: http://pandas.pydata.org/pandas-docs/stable/indexing.html#indexing-view-versus-copy\n",
      "  exec(code_obj, self.user_global_ns, self.user_ns)\n"
     ]
    },
    {
     "data": {
      "text/html": [
       "<div>\n",
       "<style scoped>\n",
       "    .dataframe tbody tr th:only-of-type {\n",
       "        vertical-align: middle;\n",
       "    }\n",
       "\n",
       "    .dataframe tbody tr th {\n",
       "        vertical-align: top;\n",
       "    }\n",
       "\n",
       "    .dataframe thead th {\n",
       "        text-align: right;\n",
       "    }\n",
       "</style>\n",
       "<table border=\"1\" class=\"dataframe\">\n",
       "  <thead>\n",
       "    <tr style=\"text-align: right;\">\n",
       "      <th></th>\n",
       "      <th>id</th>\n",
       "      <th>is_male</th>\n",
       "      <th>club</th>\n",
       "      <th>join_age</th>\n",
       "      <th>s_class_rank</th>\n",
       "      <th>is_std</th>\n",
       "      <th>pct_gym_usage</th>\n",
       "      <th>pct_peak</th>\n",
       "      <th>mth_active</th>\n",
       "      <th>pred_mth_active</th>\n",
       "      <th>mth_til_churn</th>\n",
       "    </tr>\n",
       "  </thead>\n",
       "  <tbody>\n",
       "    <tr>\n",
       "      <th>1</th>\n",
       "      <td>2</td>\n",
       "      <td>0</td>\n",
       "      <td>Greenwich</td>\n",
       "      <td>46</td>\n",
       "      <td>0.96</td>\n",
       "      <td>1</td>\n",
       "      <td>0.302041</td>\n",
       "      <td>0.554054</td>\n",
       "      <td>8</td>\n",
       "      <td>10.000000</td>\n",
       "      <td>2.000000</td>\n",
       "    </tr>\n",
       "    <tr>\n",
       "      <th>13</th>\n",
       "      <td>14</td>\n",
       "      <td>0</td>\n",
       "      <td>Ealing</td>\n",
       "      <td>37</td>\n",
       "      <td>0.96</td>\n",
       "      <td>1</td>\n",
       "      <td>0.467391</td>\n",
       "      <td>0.593023</td>\n",
       "      <td>6</td>\n",
       "      <td>7.800000</td>\n",
       "      <td>1.800000</td>\n",
       "    </tr>\n",
       "    <tr>\n",
       "      <th>37</th>\n",
       "      <td>38</td>\n",
       "      <td>1</td>\n",
       "      <td>Hammersmith</td>\n",
       "      <td>35</td>\n",
       "      <td>0.73</td>\n",
       "      <td>0</td>\n",
       "      <td>0.200000</td>\n",
       "      <td>0.302326</td>\n",
       "      <td>7</td>\n",
       "      <td>6.000000</td>\n",
       "      <td>0.000000</td>\n",
       "    </tr>\n",
       "    <tr>\n",
       "      <th>48</th>\n",
       "      <td>49</td>\n",
       "      <td>1</td>\n",
       "      <td>Kingston upon Thames</td>\n",
       "      <td>28</td>\n",
       "      <td>0.73</td>\n",
       "      <td>1</td>\n",
       "      <td>0.569106</td>\n",
       "      <td>0.642857</td>\n",
       "      <td>4</td>\n",
       "      <td>4.066667</td>\n",
       "      <td>0.066667</td>\n",
       "    </tr>\n",
       "    <tr>\n",
       "      <th>94</th>\n",
       "      <td>95</td>\n",
       "      <td>1</td>\n",
       "      <td>Merton</td>\n",
       "      <td>18</td>\n",
       "      <td>0.73</td>\n",
       "      <td>1</td>\n",
       "      <td>0.728261</td>\n",
       "      <td>0.427861</td>\n",
       "      <td>9</td>\n",
       "      <td>9.400000</td>\n",
       "      <td>0.400000</td>\n",
       "    </tr>\n",
       "  </tbody>\n",
       "</table>\n",
       "</div>"
      ],
      "text/plain": [
       "    id  is_male                  club  join_age  s_class_rank  is_std  \\\n",
       "1    2        0             Greenwich        46          0.96       1   \n",
       "13  14        0                Ealing        37          0.96       1   \n",
       "37  38        1           Hammersmith        35          0.73       0   \n",
       "48  49        1  Kingston upon Thames        28          0.73       1   \n",
       "94  95        1                Merton        18          0.73       1   \n",
       "\n",
       "    pct_gym_usage  pct_peak  mth_active  pred_mth_active  mth_til_churn  \n",
       "1        0.302041  0.554054           8        10.000000       2.000000  \n",
       "13       0.467391  0.593023           6         7.800000       1.800000  \n",
       "37       0.200000  0.302326           7         6.000000       0.000000  \n",
       "48       0.569106  0.642857           4         4.066667       0.066667  \n",
       "94       0.728261  0.427861           9         9.400000       0.400000  "
      ]
     },
     "execution_count": 48,
     "metadata": {},
     "output_type": "execute_result"
    }
   ],
   "source": [
    "active_db['pred_mth_active'] = test_y_pred\n",
    "active_db['mth_til_churn'] = active_db['pred_mth_active'] - active_db['mth_active']\n",
    "active_db['mth_til_churn'][active_db['mth_til_churn']  <= 0] = 0\n",
    "\n",
    "predictions = active_db[['id', 'is_male','club', 'join_age', 's_class_rank', 'is_std','pct_gym_usage','pct_peak',\n",
    "               'mth_active','pred_mth_active', 'mth_til_churn']]\n",
    "\n",
    "predictions.head()"
   ]
  },
  {
   "cell_type": "markdown",
   "metadata": {},
   "source": [
    "### 2.3.6 Prediction on the number of people that will churn within the next one month by club"
   ]
  },
  {
   "cell_type": "code",
   "execution_count": 49,
   "metadata": {},
   "outputs": [
    {
     "name": "stdout",
     "output_type": "stream",
     "text": [
      "34706 people are predicted to churn within one month.\n"
     ]
    },
    {
     "data": {
      "text/plain": [
       "club\n",
       "Havering                  1390\n",
       "Hammersmith               1383\n",
       "Kensington and Chelsea    1379\n",
       "Barking                   1306\n",
       "Lewisham                  1280\n",
       "Wandsworth                1254\n",
       "Southwark                 1251\n",
       "Bromley                   1237\n",
       "Croydon                   1203\n",
       "Newham                    1197\n",
       "Kingston upon Thames      1192\n",
       "Hackney                   1184\n",
       "Tower Hamlets             1148\n",
       "Waltham Forest            1141\n",
       "Islington                 1140\n",
       "Harrow                    1118\n",
       "Merton                    1075\n",
       "Brent                     1072\n",
       "Barnet                    1029\n",
       "Hillingdon                1029\n",
       "Westminster                985\n",
       "Greenwich                  978\n",
       "Camden                     961\n",
       "Hounslow                   948\n",
       "Redbridge                  913\n",
       "Lambeth                    908\n",
       "Bexley                     901\n",
       "Richmond upon Thames       888\n",
       "Ealing                     887\n",
       "Sutton                     795\n",
       "Haringey                   791\n",
       "Enfield                    743\n",
       "Name: id, dtype: int64"
      ]
     },
     "execution_count": 49,
     "metadata": {},
     "output_type": "execute_result"
    }
   ],
   "source": [
    "# the prediction on the total number of people that will churn within the next one month\n",
    "leaving_1m = predictions[predictions['mth_til_churn']<=1]\n",
    "print(f'{len(leaving_1m)} people are predicted to churn within one month.')\n",
    "\n",
    "# the prediction on the number of people that will churn within the next one month by clubs\n",
    "leaving_1m.groupby(['club'])['id'].count().sort_values(ascending = False)"
   ]
  },
  {
   "cell_type": "markdown",
   "metadata": {},
   "source": [
    "### 2.3.7 Prediction on the number of people that will churn within the next three months by club"
   ]
  },
  {
   "cell_type": "code",
   "execution_count": 50,
   "metadata": {},
   "outputs": [
    {
     "name": "stdout",
     "output_type": "stream",
     "text": [
      "46989 people are predicted to churn within 3 month.\n"
     ]
    },
    {
     "data": {
      "text/plain": [
       "club\n",
       "Kensington and Chelsea    1961\n",
       "Hammersmith               1873\n",
       "Havering                  1857\n",
       "Barking                   1758\n",
       "Bromley                   1727\n",
       "Lewisham                  1695\n",
       "Kingston upon Thames      1631\n",
       "Southwark                 1613\n",
       "Hackney                   1594\n",
       "Newham                    1589\n",
       "Wandsworth                1588\n",
       "Croydon                   1569\n",
       "Waltham Forest            1519\n",
       "Tower Hamlets             1511\n",
       "Harrow                    1501\n",
       "Hillingdon                1483\n",
       "Islington                 1482\n",
       "Merton                    1482\n",
       "Brent                     1478\n",
       "Greenwich                 1386\n",
       "Barnet                    1371\n",
       "Redbridge                 1314\n",
       "Camden                    1304\n",
       "Bexley                    1282\n",
       "Lambeth                   1272\n",
       "Ealing                    1253\n",
       "Westminster               1247\n",
       "Hounslow                  1239\n",
       "Richmond upon Thames      1194\n",
       "Haringey                  1107\n",
       "Sutton                    1097\n",
       "Enfield                   1012\n",
       "Name: id, dtype: int64"
      ]
     },
     "execution_count": 50,
     "metadata": {},
     "output_type": "execute_result"
    }
   ],
   "source": [
    "# Prediction on the total number of people that will churn within the next three months\n",
    "leaving_3m = predictions[(predictions['mth_til_churn']<=3)]\n",
    "print(f'{len(leaving_3m)} people are predicted to churn within 3 month.')\n",
    "\n",
    "# Prediction on the number of people that will churn within the next three months by clubs\n",
    "leaving_3m.groupby(['club'])['id'].count().sort_values(ascending = False)"
   ]
  },
  {
   "cell_type": "markdown",
   "metadata": {},
   "source": [
    "#### Findings\n"
   ]
  },
  {
   "cell_type": "markdown",
   "metadata": {},
   "source": [
    "We find that the fitness of the three models are: (i)the OLS regression model, R-Squared is 76%; (ii) the decision tree, the accuracy rate for the validation dataset is lower than 40% and (iii) the random forest model, the accuracy rate for the validation dataset is approximately 53%.\n",
    "\n",
    "The random forest model is chosen for the prediction purpose for the following reasons: (i) it has a higher accuracy rate than the single decision tree; (ii) it prevents the overfitting problem and has less variance compared with the single decision tree; (iii) it can provide insight of the importance of the features; (iv) R-Squared for the OLS regression model is relatively low.\n",
    "\n",
    "The outcomes of our predictions based on the random forest model are:\n",
    "\n",
    "(i) approximately 34706 customers are predicted to churn within the next one month;\n",
    "(ii) approximately 46989 customers are predicted to churn within the next three months;\n",
    "(iii) within the next one month or three months, Kensington and Chelsea is expected to have the most customers churn , with Hammersmith being the second while Enfield is reported to have the lowest number of customers churn;\n",
    "(iv) attributes 'pct_gym_usage' and 'pct_peak' have the biggest explanatory power in the prediction"
   ]
  },
  {
   "cell_type": "markdown",
   "metadata": {},
   "source": [
    "#### Suggestions/ Limitations:\n",
    "\n",
    "Potentially we can predict the customer churn rate based on 'pct_gym_usage' and 'pct_peak', being the frequency of customers using the gym and whether they go at peak times or not.\n",
    "\n",
    "However, there exist certain limitations in the random forest model: (i）it is more complex than the OLS regression model and the single decision tree model and therefore is more time and computational resources consuming; (ii) the result is less intuitive; (iii) the optimal max_depth we derive from grid search for the random forest model is large compared to the number of attributes, which may indicate overfitting problem and (iv) the accuracy rate of the random forest model is not high.\n"
   ]
  },
  {
   "cell_type": "markdown",
   "metadata": {},
   "source": [
    "### Discussion"
   ]
  },
  {
   "cell_type": "markdown",
   "metadata": {},
   "source": [
    "Looking back at our first hypothesis we suggested that 5 different attributes would be related to churn rate. After exploring these we found that churn was related to 4 of these and based on these 4 we were able to suggest actionable insights to business. Looking back at the second hypothesis, we were able to find some seasonal effects with revenue dropping each year in February and were able to see a significant drop in revenue and increase in churn when the pricing strategy was implemented. However the revenue and churn rates soon returned to its prior levels. \n",
    "\n",
    "Based on research from these 2 hypothesis we were able to make several suggestions to the business. \n",
    "1. We suggest making two changes to the gym’s pricing strategy.  Firstly, to encourage members to stay longer, offer a 1 year subscription at a slightly lower cost. Secondly, to remove the joining fee of 6 pounds, to encourage gym members to take on the standard membership which generally has a lower churn rate.\n",
    "2. There are several groups of customers within your business that are more likely to churn than others. (to be finished off)\n",
    "3. Finally when expanding the business further, find suburbs whith a high number of people with affluence level ‘A’ as this correlates with higher revenue. \n",
    "\n",
    "The above suggestions aim to both maximise the revenue of the business and minimise the churn rate. However it is not reasonable to expect the business to see the same growth that they did when they first started out and rapidly expanded\n",
    "\n",
    "A key limitation of our  analysis is that we did not look at the combined effect of factors. For example we explored gender and age brackets separately, but not females within a certain age bracket. A lot of our analysis focused on revenue, but we were not provided information about costs/profitability. Data regarding costs may significantly change our findings and business suggestions. A deeper insight and better suggestions could be provided with the following data.\n",
    "- Data relating to the gym industry beyond London to see if we can target those areas\n",
    "- Data relating to surveys of customer experience at the gym\n",
    "- Data regarding quality of coaches/trainers at the gym\n",
    "- Data regarding size/capacity of gym and availability of gym equipment\n",
    "- Competitor data to compare the performance of the two businesses\n",
    "\n",
    "Finally, we used the random forest model to get the prediction that approximately 34706 and 46989 customers are predicted to churn within the next one month and three months respectively with club Kensington and Chelsea predicted to have the most customers churn rate. However, the prediction may be subject to the limitation that the random forest model may not the optimal model for prediction in this case."
   ]
  },
  {
   "cell_type": "markdown",
   "metadata": {},
   "source": [
    "### References"
   ]
  },
  {
   "cell_type": "markdown",
   "metadata": {},
   "source": [
    "[to insert any source used]"
   ]
  }
 ],
 "metadata": {
  "kernelspec": {
   "display_name": "Python 3",
   "language": "python",
   "name": "python3"
  },
  "language_info": {
   "codemirror_mode": {
    "name": "ipython",
    "version": 3
   },
   "file_extension": ".py",
   "mimetype": "text/x-python",
   "name": "python",
   "nbconvert_exporter": "python",
   "pygments_lexer": "ipython3",
   "version": "3.7.3"
  }
 },
 "nbformat": 4,
 "nbformat_minor": 2
}
