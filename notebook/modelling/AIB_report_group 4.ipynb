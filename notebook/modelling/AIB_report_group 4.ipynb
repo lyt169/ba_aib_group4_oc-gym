{
 "cells": [
  {
   "cell_type": "markdown",
   "metadata": {},
   "source": [
    "## Customer Churn Rate Analysis and Prediction for OC&Gym Gym Clubs Using Data from 2009 to 2019\n"
   ]
  },
  {
   "cell_type": "markdown",
   "metadata": {},
   "source": [
    "#### Group four members:\n",
    "- Yitong Liu | 01625757\n",
    "- Faiz Fablillah | 01525542\n",
    "- Mingming Zhu | 01548939\n",
    "- Mukund Premkumar | 01605996\n",
    "- Isabella Li | 01547310"
   ]
  },
  {
   "cell_type": "markdown",
   "metadata": {},
   "source": [
    "### Summary\n"
   ]
  },
  {
   "cell_type": "markdown",
   "metadata": {},
   "source": [
    "[to insert summary]"
   ]
  },
  {
   "cell_type": "markdown",
   "metadata": {},
   "source": [
    "### Introduction"
   ]
  },
  {
   "cell_type": "markdown",
   "metadata": {},
   "source": [
    "This report analyses churn rates of a large London based gym franchise known as OC&Gym gym. The gym has been expanding significantly over the last 10 years but recently slowed expansion and to boost revenue the gym has increased prices. We have analysed visitation and customer data from 2009 to 2019 to find insights in order to minimise customer churn.At the start of the process we made some hypotheses about the data.The analysis process began with making two hypotheses about customer behaviour and churn."
   ]
  },
  {
   "cell_type": "markdown",
   "metadata": {},
   "source": [
    "1.The first hypothesis was that the following attributes would be related to the customer churn rate;\n",
    "\n",
    "a. Gender;\n",
    "\n",
    "b. Age of customer;\n",
    "\n",
    "c. Social class of customer;\n",
    "\n",
    "d. Subscription Type of customer;\n",
    "\n",
    "e. How regularly a customer attended the gym;\n",
    "\n",
    "f. At what times a customer attended the gym;\n",
    "\n",
    "g. The number of members attending a gym.\n"
   ]
  },
  {
   "cell_type": "markdown",
   "metadata": {},
   "source": [
    "2.The second hypothesis was that there would be a strong seasonal effect to the revenue  and we would see significant changes around the time the pricing strategy was implemented."
   ]
  },
  {
   "cell_type": "markdown",
   "metadata": {},
   "source": [
    "We then performed data cleaning and took various cuts of the data based on which we prepared graphs and performed statistical analysis to find actionable insights. In addition to this we attempted to prepare a machine learning model which would try and predict the duration a customer would join the gym for, this would enable the the gym to find customers who are likely to leave and target them with deals/discounts to prevent them leaving. In the end we would come up with range of improvements to the gyms operations and pricing strategy."
   ]
  },
  {
   "cell_type": "markdown",
   "metadata": {},
   "source": [
    "### Technologies and techniques"
   ]
  },
  {
   "cell_type": "markdown",
   "metadata": {},
   "source": [
    "#### I. Time-series\n",
    "The area of exploration performed under time-series analysis was finding the churn of customers for each month of each year, initially for the entire data set but later after splitting the data based on different characteristics to see if different customer groups responded to the price change differently in terms of both revenue and churn rate. \n",
    "\n",
    "Churn rate was defined as (number of customers who left during the month)/(number of customers at the start of the month). If a customer was to join and leave in the same month then we also increase the numerator and denominator by 1 ie. they count as a churned customer.\n",
    "\n",
    "A key challenge that we faced was that the business was constantly expanding the number of clubs.  It would not be fair to compare the revenue of the gym when it only had one club open as opposed to when it had 5 clubs. Therefore we standardised the revenue by dividing the total revenue by the total number of stores that were open and the number of stores in each month of each year.\n",
    "\n",
    "In order to perform this analysis we first calculated the number of clubs in each month of each year.\n",
    "\n",
    "Then we built a function which takes in the subscriptions data as a list of lists and a list containing each month of each year, we want to analyse in the format Month-Year eg. “Jan-11”. \n"
   ]
  },
  {
   "cell_type": "markdown",
   "metadata": {},
   "source": [
    "We also built another function that returns the revenue for each month of each year by taking in as input.\n",
    "- A dataframe containing cleaned visit data\n",
    "- A dataframe containing the number of stores in each month of each year\n",
    "- A list containing each month of each year, we want to analyse. \n",
    "- A list of lists containing the subscription information of customers we want to analyse.\n",
    "\n",
    "Finally we just input all the data as well as cuts of the data such as all male or all female into the function and plotted the outputs to see relevant trends.\n"
   ]
  },
  {
   "cell_type": "markdown",
   "metadata": {},
   "source": [
    "#### Ii. Statistical Techniques.\n",
    "We started with defining the attributes that can be either found in dataset or new attributes that were derived from formula, for instance simple calculation that gave us percentage or average of some attributes created during the cleaning phase. The basis of the formula and calculation was referring to our hypothesis that we have defined in the earlier stage. We then perform data mining using statistical techniques of linear regression where we performed estimation of our defined variables’ value and also provide a description of the relationship between our independent and dependant variables. From regression models, we find patterns for all values of the variables by testing them out. \n",
    "We extended our analysis by performing a directed data mining technique of decision trees. This step recursively split data into smaller and smaller cells \n"
   ]
  },
  {
   "cell_type": "markdown",
   "metadata": {},
   "source": [
    "### Results"
   ]
  },
  {
   "cell_type": "markdown",
   "metadata": {},
   "source": [
    "### Results hypothesis 1"
   ]
  },
  {
   "cell_type": "markdown",
   "metadata": {},
   "source": [
    "Our first hypothesis assumed that several attributes would be related to churn. The below section explores what we found for each attribute."
   ]
  },
  {
   "cell_type": "markdown",
   "metadata": {},
   "source": [
    "### Gender"
   ]
  },
  {
   "cell_type": "markdown",
   "metadata": {},
   "source": [
    "#### Hypothesis"
   ]
  },
  {
   "cell_type": "markdown",
   "metadata": {},
   "source": [
    "#### Analysis"
   ]
  },
  {
   "cell_type": "markdown",
   "metadata": {},
   "source": [
    "[to insert graph/table]"
   ]
  },
  {
   "cell_type": "markdown",
   "metadata": {},
   "source": [
    "#### Findings"
   ]
  },
  {
   "cell_type": "markdown",
   "metadata": {},
   "source": [
    "The above graph compares the revenue and churn rates between male and female. We can see that both genders follow a few similar pattern but females have consistently had a higher churn rate and have contributed less towards revenue. The reason for the higher churn rate amongst women could be that personal trainers/dietitians at the gym are predominantly male and offer male specific advice/tips. "
   ]
  },
  {
   "cell_type": "markdown",
   "metadata": {},
   "source": [
    "#### Suggestions/Limitations"
   ]
  },
  {
   "cell_type": "markdown",
   "metadata": {},
   "source": [
    "The gym could offer a free diet/training plan advice as a group session for all women once a month where they get advice specific to female body types. This could help them make more progress and hence gain motivation and not drop their gym subscription."
   ]
  },
  {
   "cell_type": "markdown",
   "metadata": {},
   "source": [
    "### Social Class"
   ]
  },
  {
   "cell_type": "markdown",
   "metadata": {},
   "source": [
    "#### Hypothesis"
   ]
  },
  {
   "cell_type": "markdown",
   "metadata": {},
   "source": [
    "[to insert hypothesis]"
   ]
  },
  {
   "cell_type": "markdown",
   "metadata": {},
   "source": [
    "#### Analysis"
   ]
  },
  {
   "cell_type": "markdown",
   "metadata": {},
   "source": [
    "[to insert graph/table]"
   ]
  },
  {
   "cell_type": "markdown",
   "metadata": {},
   "source": [
    "#### Findings"
   ]
  },
  {
   "cell_type": "markdown",
   "metadata": {},
   "source": [
    "From the above graph we can see that contribution to revenue has been greater from the standard gym package as opposed to the flexible package. Standardised revenue from the standard package took a more significant drop after the price hike but has since consistent grown and is now higher than before the price change. Additionally, the churn rate from the standard customers is significantly lower.\n"
   ]
  },
  {
   "cell_type": "markdown",
   "metadata": {},
   "source": [
    "#### Suggestions/Limitations"
   ]
  },
  {
   "cell_type": "markdown",
   "metadata": {},
   "source": [
    "Overall the business needs to try and sell more standard packages, a strategy for this could be to alter the pricing stregy to waive the 6 pound joining fee for standard customers when they join. offer a free gym induction session to teach them how to use equipment and provide them a training plan."
   ]
  },
  {
   "cell_type": "markdown",
   "metadata": {},
   "source": [
    "### Gym usage"
   ]
  },
  {
   "cell_type": "markdown",
   "metadata": {},
   "source": [
    "#### Hypothesis\n",
    "[to insert hypothesis]"
   ]
  },
  {
   "cell_type": "markdown",
   "metadata": {},
   "source": [
    "#### Analysis"
   ]
  },
  {
   "cell_type": "markdown",
   "metadata": {},
   "source": [
    "[to insert graph/table]"
   ]
  },
  {
   "cell_type": "markdown",
   "metadata": {},
   "source": [
    "#### Findings\n",
    "[to insert findings]"
   ]
  },
  {
   "cell_type": "markdown",
   "metadata": {},
   "source": [
    "#### Suggestions/Limitations\n",
    "[to insert suggestions and limitations]"
   ]
  },
  {
   "cell_type": "markdown",
   "metadata": {},
   "source": [
    "### Gym usage at peak hours"
   ]
  },
  {
   "cell_type": "markdown",
   "metadata": {},
   "source": [
    "#### Hypothesis\n",
    "[to insert hypothesis]"
   ]
  },
  {
   "cell_type": "markdown",
   "metadata": {},
   "source": [
    "#### Analysis"
   ]
  },
  {
   "cell_type": "markdown",
   "metadata": {},
   "source": [
    "[to insert graph/table]"
   ]
  },
  {
   "cell_type": "markdown",
   "metadata": {},
   "source": [
    "#### Findings\n",
    "[to insert findings]"
   ]
  },
  {
   "cell_type": "markdown",
   "metadata": {},
   "source": [
    "#### Suggestions/Limitations\n",
    "[to insert suggestions and limitations]"
   ]
  },
  {
   "cell_type": "markdown",
   "metadata": {},
   "source": [
    "### Revenue by clubs"
   ]
  },
  {
   "cell_type": "markdown",
   "metadata": {},
   "source": [
    "#### Hypothesis\n",
    "[to insert hypothesis]"
   ]
  },
  {
   "cell_type": "markdown",
   "metadata": {},
   "source": [
    "#### Analysis\n",
    "[to insert graph/table]"
   ]
  },
  {
   "cell_type": "markdown",
   "metadata": {},
   "source": [
    "#### Findings\n",
    "[to insert findings]"
   ]
  },
  {
   "cell_type": "markdown",
   "metadata": {},
   "source": [
    "#### Suggestions/Limitations\n",
    "[to insert suggestions and limitations]"
   ]
  },
  {
   "cell_type": "markdown",
   "metadata": {},
   "source": [
    "### Number of people by clubs"
   ]
  },
  {
   "cell_type": "markdown",
   "metadata": {},
   "source": [
    "#### Hypothesis\n",
    "[to insert hypothesis]"
   ]
  },
  {
   "cell_type": "markdown",
   "metadata": {},
   "source": [
    "#### Analysis\n",
    "[to insert graph/table]"
   ]
  },
  {
   "cell_type": "markdown",
   "metadata": {},
   "source": [
    "#### Findings\n",
    "[to insert findings]"
   ]
  },
  {
   "cell_type": "markdown",
   "metadata": {},
   "source": [
    "#### Suggestions/Limitations\n",
    "[to insert suggestions and limitations]"
   ]
  },
  {
   "cell_type": "markdown",
   "metadata": {},
   "source": [
    "### Results hypothesis 2 "
   ]
  },
  {
   "cell_type": "markdown",
   "metadata": {},
   "source": [
    "Our second hypothesis was that that there would be a strong seasonal effect to the revenue and churn rate. Additionally revenue and churn rate would be negatively impacted by the price increase in 2016."
   ]
  },
  {
   "cell_type": "markdown",
   "metadata": {},
   "source": [
    "## Seasonal effect on revenue"
   ]
  },
  {
   "cell_type": "markdown",
   "metadata": {},
   "source": [
    "#### Analysis\n",
    "[to insert graph/table]"
   ]
  },
  {
   "cell_type": "markdown",
   "metadata": {},
   "source": [
    "#### Findings\n"
   ]
  },
  {
   "cell_type": "markdown",
   "metadata": {},
   "source": [
    "The above graph shows the change in revenue and churn rate over time for all customers. We can see that the first part of the hypothesis is correct, there is a huge upword spike in churn rate right before Jan 2016, which is because many customers wanted to leave before the new pricing. In addition to this we can see a significant drop in standardised revenue right after the spike. However the revenue does increase again to the amount it was before the price change. In addition to this the churn rate also restores to a similar level. So overall the price change has not had a long term negative impact on the business, therefore our hypothesis was only partially correct, although the price hike impacted both churn and revenue neither of them were impacted long term.\n",
    "Now looking at the seasonal impacts of the data, we can see that from about 2014 onwards, there is a significant decrease in revenue each year during Febuary. This is likely because people often take on new year resolutions or get given gym memberships as christmas gifts but often give up soon.\n"
   ]
  },
  {
   "cell_type": "markdown",
   "metadata": {},
   "source": [
    "#### Suggestions/Limitations\n"
   ]
  },
  {
   "cell_type": "markdown",
   "metadata": {},
   "source": [
    "We suggest offering free diet/training information sessions during January in order to educate people so they see results from their training and choose to continue  exercising. However, the limitation is that growth has not been at the same level as when the Gym first started. In addition to this the number of customers who were leaving."
   ]
  },
  {
   "cell_type": "markdown",
   "metadata": {},
   "source": [
    "### Prediction on individual churn"
   ]
  },
  {
   "cell_type": "code",
   "execution_count": 1,
   "metadata": {},
   "outputs": [],
   "source": [
    "import pandas as pd\n",
    "import numpy as np\n",
    "import matplotlib.pyplot as plt\n",
    "import os\n",
    "import datetime as dt\n",
    "import csv"
   ]
  },
  {
   "cell_type": "markdown",
   "metadata": {},
   "source": [
    "### Analysis"
   ]
  },
  {
   "cell_type": "markdown",
   "metadata": {},
   "source": [
    "### 1. Choose the independent variables and the dependent variables for modelling  "
   ]
  },
  {
   "cell_type": "code",
   "execution_count": 2,
   "metadata": {},
   "outputs": [
    {
     "data": {
      "text/html": [
       "<div>\n",
       "<style scoped>\n",
       "    .dataframe tbody tr th:only-of-type {\n",
       "        vertical-align: middle;\n",
       "    }\n",
       "\n",
       "    .dataframe tbody tr th {\n",
       "        vertical-align: top;\n",
       "    }\n",
       "\n",
       "    .dataframe thead th {\n",
       "        text-align: right;\n",
       "    }\n",
       "</style>\n",
       "<table border=\"1\" class=\"dataframe\">\n",
       "  <thead>\n",
       "    <tr style=\"text-align: right;\">\n",
       "      <th></th>\n",
       "      <th>id</th>\n",
       "      <th>is_male</th>\n",
       "      <th>join_age</th>\n",
       "      <th>s_class_rank</th>\n",
       "      <th>club</th>\n",
       "      <th>join_mth</th>\n",
       "      <th>end_mth</th>\n",
       "      <th>is_std</th>\n",
       "      <th>mth_active</th>\n",
       "      <th>is_left_Dec15</th>\n",
       "      <th>...</th>\n",
       "      <th>rev_to_date</th>\n",
       "      <th>first_visit</th>\n",
       "      <th>last_visit</th>\n",
       "      <th>total_visit</th>\n",
       "      <th>total_peak</th>\n",
       "      <th>pct_gym_usage</th>\n",
       "      <th>pct_peak</th>\n",
       "      <th>rev_%</th>\n",
       "      <th>gym_mthly_visit</th>\n",
       "      <th>is_age_below_40</th>\n",
       "    </tr>\n",
       "  </thead>\n",
       "  <tbody>\n",
       "    <tr>\n",
       "      <th>0</th>\n",
       "      <td>1</td>\n",
       "      <td>1</td>\n",
       "      <td>20</td>\n",
       "      <td>0.45</td>\n",
       "      <td>Enfield</td>\n",
       "      <td>2011-12-01</td>\n",
       "      <td>2011-12-01</td>\n",
       "      <td>1</td>\n",
       "      <td>1</td>\n",
       "      <td>0</td>\n",
       "      <td>...</td>\n",
       "      <td>20.99</td>\n",
       "      <td>2011-12-01 08:00:00</td>\n",
       "      <td>2011-12-27 18:45:00</td>\n",
       "      <td>20</td>\n",
       "      <td>9</td>\n",
       "      <td>0.645161</td>\n",
       "      <td>0.450000</td>\n",
       "      <td>0.040164</td>\n",
       "      <td>27020.523364</td>\n",
       "      <td>1</td>\n",
       "    </tr>\n",
       "    <tr>\n",
       "      <th>1</th>\n",
       "      <td>2</td>\n",
       "      <td>0</td>\n",
       "      <td>46</td>\n",
       "      <td>0.96</td>\n",
       "      <td>Greenwich</td>\n",
       "      <td>2018-06-01</td>\n",
       "      <td>NaN</td>\n",
       "      <td>1</td>\n",
       "      <td>8</td>\n",
       "      <td>0</td>\n",
       "      <td>...</td>\n",
       "      <td>215.92</td>\n",
       "      <td>2018-06-01 17:30:00</td>\n",
       "      <td>2019-01-08 18:30:00</td>\n",
       "      <td>74</td>\n",
       "      <td>41</td>\n",
       "      <td>0.302041</td>\n",
       "      <td>0.554054</td>\n",
       "      <td>0.053427</td>\n",
       "      <td>33372.886957</td>\n",
       "      <td>0</td>\n",
       "    </tr>\n",
       "    <tr>\n",
       "      <th>2</th>\n",
       "      <td>3</td>\n",
       "      <td>0</td>\n",
       "      <td>33</td>\n",
       "      <td>0.73</td>\n",
       "      <td>Islington</td>\n",
       "      <td>2018-03-01</td>\n",
       "      <td>2018-10-01</td>\n",
       "      <td>1</td>\n",
       "      <td>8</td>\n",
       "      <td>0</td>\n",
       "      <td>...</td>\n",
       "      <td>215.92</td>\n",
       "      <td>2018-03-03 19:00:00</td>\n",
       "      <td>2018-10-26 07:45:00</td>\n",
       "      <td>165</td>\n",
       "      <td>110</td>\n",
       "      <td>0.673469</td>\n",
       "      <td>0.666667</td>\n",
       "      <td>0.045245</td>\n",
       "      <td>34594.000000</td>\n",
       "      <td>1</td>\n",
       "    </tr>\n",
       "    <tr>\n",
       "      <th>3</th>\n",
       "      <td>4</td>\n",
       "      <td>0</td>\n",
       "      <td>44</td>\n",
       "      <td>0.45</td>\n",
       "      <td>Hounslow</td>\n",
       "      <td>2015-10-01</td>\n",
       "      <td>2015-12-01</td>\n",
       "      <td>1</td>\n",
       "      <td>3</td>\n",
       "      <td>1</td>\n",
       "      <td>...</td>\n",
       "      <td>62.97</td>\n",
       "      <td>2015-10-02 09:00:00</td>\n",
       "      <td>2015-12-28 19:30:00</td>\n",
       "      <td>52</td>\n",
       "      <td>32</td>\n",
       "      <td>0.565217</td>\n",
       "      <td>0.615385</td>\n",
       "      <td>0.056200</td>\n",
       "      <td>34880.376068</td>\n",
       "      <td>0</td>\n",
       "    </tr>\n",
       "    <tr>\n",
       "      <th>4</th>\n",
       "      <td>5</td>\n",
       "      <td>1</td>\n",
       "      <td>33</td>\n",
       "      <td>0.25</td>\n",
       "      <td>Barnet</td>\n",
       "      <td>2015-05-01</td>\n",
       "      <td>2015-12-01</td>\n",
       "      <td>1</td>\n",
       "      <td>8</td>\n",
       "      <td>1</td>\n",
       "      <td>...</td>\n",
       "      <td>167.92</td>\n",
       "      <td>2015-05-03 19:15:00</td>\n",
       "      <td>2015-12-27 17:15:00</td>\n",
       "      <td>93</td>\n",
       "      <td>63</td>\n",
       "      <td>0.379592</td>\n",
       "      <td>0.677419</td>\n",
       "      <td>0.044240</td>\n",
       "      <td>33058.270833</td>\n",
       "      <td>1</td>\n",
       "    </tr>\n",
       "  </tbody>\n",
       "</table>\n",
       "<p>5 rows × 23 columns</p>\n",
       "</div>"
      ],
      "text/plain": [
       "   id  is_male  join_age  s_class_rank       club    join_mth     end_mth  \\\n",
       "0   1        1        20          0.45    Enfield  2011-12-01  2011-12-01   \n",
       "1   2        0        46          0.96  Greenwich  2018-06-01         NaN   \n",
       "2   3        0        33          0.73  Islington  2018-03-01  2018-10-01   \n",
       "3   4        0        44          0.45   Hounslow  2015-10-01  2015-12-01   \n",
       "4   5        1        33          0.25     Barnet  2015-05-01  2015-12-01   \n",
       "\n",
       "   is_std  mth_active  is_left_Dec15  ...  rev_to_date          first_visit  \\\n",
       "0       1           1              0  ...        20.99  2011-12-01 08:00:00   \n",
       "1       1           8              0  ...       215.92  2018-06-01 17:30:00   \n",
       "2       1           8              0  ...       215.92  2018-03-03 19:00:00   \n",
       "3       1           3              1  ...        62.97  2015-10-02 09:00:00   \n",
       "4       1           8              1  ...       167.92  2015-05-03 19:15:00   \n",
       "\n",
       "            last_visit  total_visit total_peak pct_gym_usage  pct_peak  \\\n",
       "0  2011-12-27 18:45:00           20          9      0.645161  0.450000   \n",
       "1  2019-01-08 18:30:00           74         41      0.302041  0.554054   \n",
       "2  2018-10-26 07:45:00          165        110      0.673469  0.666667   \n",
       "3  2015-12-28 19:30:00           52         32      0.565217  0.615385   \n",
       "4  2015-12-27 17:15:00           93         63      0.379592  0.677419   \n",
       "\n",
       "      rev_%  gym_mthly_visit  is_age_below_40  \n",
       "0  0.040164     27020.523364                1  \n",
       "1  0.053427     33372.886957                0  \n",
       "2  0.045245     34594.000000                1  \n",
       "3  0.056200     34880.376068                0  \n",
       "4  0.044240     33058.270833                1  \n",
       "\n",
       "[5 rows x 23 columns]"
      ]
     },
     "execution_count": 2,
     "metadata": {},
     "output_type": "execute_result"
    }
   ],
   "source": [
    "# import cleaned membership data\n",
    "path = os.path.abspath(os.getcwd() + \"/../../\")\n",
    "membership_db = pd.read_csv(os.path.join(path,'data/processed/membership_clean.csv'))\n",
    "membership_db.head()"
   ]
  },
  {
   "cell_type": "markdown",
   "metadata": {},
   "source": [
    "### The following table explains the definition of each attribute that may be used in the following analysis"
   ]
  },
  {
   "cell_type": "code",
   "execution_count": 15,
   "metadata": {},
   "outputs": [
    {
     "data": {
      "text/html": [
       "<div>\n",
       "<style scoped>\n",
       "    .dataframe tbody tr th:only-of-type {\n",
       "        vertical-align: middle;\n",
       "    }\n",
       "\n",
       "    .dataframe tbody tr th {\n",
       "        vertical-align: top;\n",
       "    }\n",
       "\n",
       "    .dataframe thead th {\n",
       "        text-align: right;\n",
       "    }\n",
       "</style>\n",
       "<table border=\"1\" class=\"dataframe\">\n",
       "  <thead>\n",
       "    <tr style=\"text-align: right;\">\n",
       "      <th></th>\n",
       "      <th>Unnamed: 0</th>\n",
       "      <th>row 1</th>\n",
       "      <th>row 2</th>\n",
       "      <th>dtype</th>\n",
       "      <th>definition</th>\n",
       "    </tr>\n",
       "  </thead>\n",
       "  <tbody>\n",
       "    <tr>\n",
       "      <th>0</th>\n",
       "      <td>id</td>\n",
       "      <td>1</td>\n",
       "      <td>2</td>\n",
       "      <td>int</td>\n",
       "      <td>customer id</td>\n",
       "    </tr>\n",
       "    <tr>\n",
       "      <th>1</th>\n",
       "      <td>is_male</td>\n",
       "      <td>1</td>\n",
       "      <td>0</td>\n",
       "      <td>bin</td>\n",
       "      <td>1 = male, 0 = female</td>\n",
       "    </tr>\n",
       "    <tr>\n",
       "      <th>2</th>\n",
       "      <td>join_age</td>\n",
       "      <td>20</td>\n",
       "      <td>46</td>\n",
       "      <td>int</td>\n",
       "      <td>age at joining time</td>\n",
       "    </tr>\n",
       "    <tr>\n",
       "      <th>3</th>\n",
       "      <td>s_class_rank</td>\n",
       "      <td>0.45</td>\n",
       "      <td>0.96</td>\n",
       "      <td>float</td>\n",
       "      <td>% of population ranked below this member's soc...</td>\n",
       "    </tr>\n",
       "    <tr>\n",
       "      <th>4</th>\n",
       "      <td>club</td>\n",
       "      <td>Enfield</td>\n",
       "      <td>Greenwich</td>\n",
       "      <td>str</td>\n",
       "      <td>gym location</td>\n",
       "    </tr>\n",
       "    <tr>\n",
       "      <th>5</th>\n",
       "      <td>join_mth</td>\n",
       "      <td>1/12/2011</td>\n",
       "      <td>1/06/2018</td>\n",
       "      <td>datetime</td>\n",
       "      <td>join month-year (day uncertain)</td>\n",
       "    </tr>\n",
       "    <tr>\n",
       "      <th>6</th>\n",
       "      <td>end_mth</td>\n",
       "      <td>1/12/2011</td>\n",
       "      <td>NaT</td>\n",
       "      <td>datetime</td>\n",
       "      <td>end month-year (day uncertain)</td>\n",
       "    </tr>\n",
       "    <tr>\n",
       "      <th>7</th>\n",
       "      <td>is_std</td>\n",
       "      <td>1</td>\n",
       "      <td>1</td>\n",
       "      <td>int</td>\n",
       "      <td>1 for standard, 0 for flexible</td>\n",
       "    </tr>\n",
       "    <tr>\n",
       "      <th>8</th>\n",
       "      <td>mth_active</td>\n",
       "      <td>1</td>\n",
       "      <td>8</td>\n",
       "      <td>bin</td>\n",
       "      <td>For active membership, duration = as_of_date -...</td>\n",
       "    </tr>\n",
       "    <tr>\n",
       "      <th>9</th>\n",
       "      <td>is_left_Dec15</td>\n",
       "      <td>0</td>\n",
       "      <td>NaN</td>\n",
       "      <td>bin</td>\n",
       "      <td>1 for member left in Dec 2015, before the pric...</td>\n",
       "    </tr>\n",
       "    <tr>\n",
       "      <th>10</th>\n",
       "      <td>is_active</td>\n",
       "      <td>1</td>\n",
       "      <td>0</td>\n",
       "      <td>bin</td>\n",
       "      <td>1 for active membership, 0 for ceased</td>\n",
       "    </tr>\n",
       "    <tr>\n",
       "      <th>11</th>\n",
       "      <td>rev_to_15</td>\n",
       "      <td>20.99</td>\n",
       "      <td>0</td>\n",
       "      <td>float</td>\n",
       "      <td>monthly fee paid by member up to end of 2015</td>\n",
       "    </tr>\n",
       "    <tr>\n",
       "      <th>12</th>\n",
       "      <td>rev_fr_16</td>\n",
       "      <td>0</td>\n",
       "      <td>215.92</td>\n",
       "      <td>float</td>\n",
       "      <td>monthly fee paid by member from begining of 2016</td>\n",
       "    </tr>\n",
       "    <tr>\n",
       "      <th>13</th>\n",
       "      <td>rev_to_date</td>\n",
       "      <td>20.99</td>\n",
       "      <td>215.92</td>\n",
       "      <td>float</td>\n",
       "      <td>total monthly fees paid by member to date</td>\n",
       "    </tr>\n",
       "    <tr>\n",
       "      <th>14</th>\n",
       "      <td>first_visit</td>\n",
       "      <td>1/12/2011 8:00</td>\n",
       "      <td>1/06/2018 17:30</td>\n",
       "      <td>datetime</td>\n",
       "      <td>timestamp for first visit</td>\n",
       "    </tr>\n",
       "    <tr>\n",
       "      <th>15</th>\n",
       "      <td>last_visit</td>\n",
       "      <td>27/12/2011 18:45</td>\n",
       "      <td>8/01/2019 18:30</td>\n",
       "      <td>datetime</td>\n",
       "      <td>timestamp for last visit</td>\n",
       "    </tr>\n",
       "    <tr>\n",
       "      <th>16</th>\n",
       "      <td>total_visit</td>\n",
       "      <td>20</td>\n",
       "      <td>74</td>\n",
       "      <td>int</td>\n",
       "      <td>number of days visited</td>\n",
       "    </tr>\n",
       "    <tr>\n",
       "      <th>17</th>\n",
       "      <td>total_peak</td>\n",
       "      <td>9</td>\n",
       "      <td>41</td>\n",
       "      <td>int</td>\n",
       "      <td>number of days visited during peak hour</td>\n",
       "    </tr>\n",
       "    <tr>\n",
       "      <th>18</th>\n",
       "      <td>pct_gym_usage</td>\n",
       "      <td>0.645161</td>\n",
       "      <td>0.302041</td>\n",
       "      <td>float</td>\n",
       "      <td>total_visit / number of days as gym member</td>\n",
       "    </tr>\n",
       "    <tr>\n",
       "      <th>19</th>\n",
       "      <td>pct_peak</td>\n",
       "      <td>0.45</td>\n",
       "      <td>0.554054</td>\n",
       "      <td>float</td>\n",
       "      <td>total_peak / total_visit</td>\n",
       "    </tr>\n",
       "    <tr>\n",
       "      <th>20</th>\n",
       "      <td>rev_%</td>\n",
       "      <td>0.040164</td>\n",
       "      <td>0.053427</td>\n",
       "      <td>float</td>\n",
       "      <td>gym's revenue contribution:    total revenue f...</td>\n",
       "    </tr>\n",
       "    <tr>\n",
       "      <th>21</th>\n",
       "      <td>gym_mthly_visit</td>\n",
       "      <td>27020.52336</td>\n",
       "      <td>33372.88696</td>\n",
       "      <td>NaN</td>\n",
       "      <td>The amount of visits that person's gym receive...</td>\n",
       "    </tr>\n",
       "    <tr>\n",
       "      <th>22</th>\n",
       "      <td>is_age_below_40</td>\n",
       "      <td>1</td>\n",
       "      <td>0</td>\n",
       "      <td>NaN</td>\n",
       "      <td>if the person's age is below 40</td>\n",
       "    </tr>\n",
       "  </tbody>\n",
       "</table>\n",
       "</div>"
      ],
      "text/plain": [
       "         Unnamed: 0             row 1            row 2     dtype  \\\n",
       "0                id                 1                2       int   \n",
       "1           is_male                 1                0       bin   \n",
       "2          join_age                20               46       int   \n",
       "3      s_class_rank              0.45             0.96     float   \n",
       "4              club           Enfield        Greenwich       str   \n",
       "5          join_mth         1/12/2011        1/06/2018  datetime   \n",
       "6           end_mth         1/12/2011              NaT  datetime   \n",
       "7            is_std                 1                1       int   \n",
       "8        mth_active                 1                8       bin   \n",
       "9     is_left_Dec15                 0              NaN       bin   \n",
       "10        is_active                 1                0       bin   \n",
       "11        rev_to_15             20.99                0     float   \n",
       "12        rev_fr_16                 0           215.92     float   \n",
       "13      rev_to_date             20.99           215.92     float   \n",
       "14      first_visit    1/12/2011 8:00  1/06/2018 17:30  datetime   \n",
       "15       last_visit  27/12/2011 18:45  8/01/2019 18:30  datetime   \n",
       "16      total_visit                20               74       int   \n",
       "17       total_peak                 9               41       int   \n",
       "18    pct_gym_usage          0.645161         0.302041     float   \n",
       "19         pct_peak              0.45         0.554054     float   \n",
       "20            rev_%          0.040164         0.053427     float   \n",
       "21  gym_mthly_visit       27020.52336      33372.88696       NaN   \n",
       "22  is_age_below_40                 1                0       NaN   \n",
       "\n",
       "                                           definition  \n",
       "0                                         customer id  \n",
       "1                                1 = male, 0 = female  \n",
       "2                                 age at joining time  \n",
       "3   % of population ranked below this member's soc...  \n",
       "4                                        gym location  \n",
       "5                     join month-year (day uncertain)  \n",
       "6                      end month-year (day uncertain)  \n",
       "7                      1 for standard, 0 for flexible  \n",
       "8   For active membership, duration = as_of_date -...  \n",
       "9   1 for member left in Dec 2015, before the pric...  \n",
       "10              1 for active membership, 0 for ceased  \n",
       "11       monthly fee paid by member up to end of 2015  \n",
       "12   monthly fee paid by member from begining of 2016  \n",
       "13          total monthly fees paid by member to date  \n",
       "14                          timestamp for first visit  \n",
       "15                           timestamp for last visit  \n",
       "16                             number of days visited  \n",
       "17            number of days visited during peak hour  \n",
       "18         total_visit / number of days as gym member  \n",
       "19                           total_peak / total_visit  \n",
       "20  gym's revenue contribution:    total revenue f...  \n",
       "21  The amount of visits that person's gym receive...  \n",
       "22                    if the person's age is below 40  "
      ]
     },
     "execution_count": 15,
     "metadata": {},
     "output_type": "execute_result"
    }
   ],
   "source": [
    "# import description file\n",
    "pd.read_csv(os.path.join(path,'data/processed/membership_clean_description.csv'))"
   ]
  },
  {
   "cell_type": "code",
   "execution_count": 5,
   "metadata": {},
   "outputs": [
    {
     "name": "stdout",
     "output_type": "stream",
     "text": [
      "797656 members have left the gym. 52377 members are active.\n"
     ]
    }
   ],
   "source": [
    "# training database\n",
    "ceased_db = membership_db[membership_db['is_active'] == 0]\n",
    "active_db = membership_db[membership_db['is_active'] == 1]\n",
    "print(f'{len(ceased_db)} members have left the gym. {len(active_db)} members are active.')"
   ]
  },
  {
   "cell_type": "markdown",
   "metadata": {},
   "source": [
    "#### Normalise variables"
   ]
  },
  {
   "cell_type": "code",
   "execution_count": 36,
   "metadata": {},
   "outputs": [
    {
     "name": "stderr",
     "output_type": "stream",
     "text": [
      "C:\\Users\\Isabella\\Anaconda3\\lib\\site-packages\\ipykernel_launcher.py:1: SettingWithCopyWarning: \n",
      "A value is trying to be set on a copy of a slice from a DataFrame.\n",
      "Try using .loc[row_indexer,col_indexer] = value instead\n",
      "\n",
      "See the caveats in the documentation: http://pandas.pydata.org/pandas-docs/stable/indexing.html#indexing-view-versus-copy\n",
      "  \"\"\"Entry point for launching an IPython kernel.\n",
      "C:\\Users\\Isabella\\Anaconda3\\lib\\site-packages\\ipykernel_launcher.py:2: SettingWithCopyWarning: \n",
      "A value is trying to be set on a copy of a slice from a DataFrame.\n",
      "Try using .loc[row_indexer,col_indexer] = value instead\n",
      "\n",
      "See the caveats in the documentation: http://pandas.pydata.org/pandas-docs/stable/indexing.html#indexing-view-versus-copy\n",
      "  \n"
     ]
    }
   ],
   "source": [
    "ceased_db['club_profit_pct_unif'] = (ceased_db['rev_%'] - np.min(ceased_db['rev_%'])) / (np.max(ceased_db['rev_%']) - np.min(ceased_db['rev_%']))\n",
    "ceased_db['club_visitor_unif'] = (ceased_db['gym_mthly_visit'] - np.min(ceased_db['gym_mthly_visit'])) / (np.max(ceased_db['gym_mthly_visit']) - np.min(ceased_db['gym_mthly_visit']))"
   ]
  },
  {
   "cell_type": "markdown",
   "metadata": {},
   "source": [
    "### In general, three modeling methods, namely OLS, Decision Tree and Random Forest will be used in the prediction."
   ]
  },
  {
   "cell_type": "markdown",
   "metadata": {},
   "source": [
    "(1) Independent variables/ X-variables: \n",
    "\n",
    "- 'is_male': whether the customer is male(1) or female(0)\n",
    "- 'join_age': the age of the customer at the joining date\n",
    "- 's_class_rank':percentage of population that is ranked below the customer's affluence\n",
    "- 'is_std': whether the subscription type is standard(1) or flexible(0)\n",
    "- 'is_left_Dec15' : whether the customer left the gym in December 2015(yes:1, no:0)\n",
    "- 'pct_gym_usage': the total number of days the customer visits the gym/ the total number of days the customer remaining as a member\n",
    "- 'pct_peak': total peak times when the customer visits the gym/ total times the customer visits the gym\n",
    "- 'club_profit_pct_unif':the normalised profitability contribution by club\n",
    "- 'club_visitor_unif': the normalised amount of visits the customer's gym receives per month on average\n",
    "\n",
    "(2) Dependent variables / Y-variables: \n",
    "- 'mths_active': For active membership, the months they remain as a member up till today; for ceased membership, the months they were a member in the gym."
   ]
  },
  {
   "cell_type": "code",
   "execution_count": 17,
   "metadata": {},
   "outputs": [],
   "source": [
    "# Assign the x and y variables\n",
    "x = ceased_db[['is_male', 'join_age', 's_class_rank', 'is_std', 'is_left_Dec15', 'pct_gym_usage', 'pct_peak',\n",
    "               'club_profit_pct_unif','club_visitor_unif']]\n",
    "y = ceased_db['mth_active']"
   ]
  },
  {
   "cell_type": "code",
   "execution_count": 18,
   "metadata": {},
   "outputs": [
    {
     "data": {
      "text/html": [
       "<div>\n",
       "<style scoped>\n",
       "    .dataframe tbody tr th:only-of-type {\n",
       "        vertical-align: middle;\n",
       "    }\n",
       "\n",
       "    .dataframe tbody tr th {\n",
       "        vertical-align: top;\n",
       "    }\n",
       "\n",
       "    .dataframe thead th {\n",
       "        text-align: right;\n",
       "    }\n",
       "</style>\n",
       "<table border=\"1\" class=\"dataframe\">\n",
       "  <thead>\n",
       "    <tr style=\"text-align: right;\">\n",
       "      <th></th>\n",
       "      <th>is_male</th>\n",
       "      <th>join_age</th>\n",
       "      <th>s_class_rank</th>\n",
       "      <th>is_std</th>\n",
       "      <th>is_left_Dec15</th>\n",
       "      <th>pct_gym_usage</th>\n",
       "      <th>pct_peak</th>\n",
       "      <th>club_profit_pct_unif</th>\n",
       "      <th>club_visitor_unif</th>\n",
       "    </tr>\n",
       "  </thead>\n",
       "  <tbody>\n",
       "    <tr>\n",
       "      <th>0</th>\n",
       "      <td>1</td>\n",
       "      <td>20</td>\n",
       "      <td>0.45</td>\n",
       "      <td>1</td>\n",
       "      <td>0</td>\n",
       "      <td>0.645161</td>\n",
       "      <td>0.450000</td>\n",
       "      <td>0.691850</td>\n",
       "      <td>0.067241</td>\n",
       "    </tr>\n",
       "    <tr>\n",
       "      <th>2</th>\n",
       "      <td>0</td>\n",
       "      <td>33</td>\n",
       "      <td>0.73</td>\n",
       "      <td>1</td>\n",
       "      <td>0</td>\n",
       "      <td>0.673469</td>\n",
       "      <td>0.666667</td>\n",
       "      <td>0.789494</td>\n",
       "      <td>0.250945</td>\n",
       "    </tr>\n",
       "    <tr>\n",
       "      <th>3</th>\n",
       "      <td>0</td>\n",
       "      <td>44</td>\n",
       "      <td>0.45</td>\n",
       "      <td>1</td>\n",
       "      <td>1</td>\n",
       "      <td>0.565217</td>\n",
       "      <td>0.615385</td>\n",
       "      <td>1.000000</td>\n",
       "      <td>0.257892</td>\n",
       "    </tr>\n",
       "    <tr>\n",
       "      <th>4</th>\n",
       "      <td>1</td>\n",
       "      <td>33</td>\n",
       "      <td>0.25</td>\n",
       "      <td>1</td>\n",
       "      <td>1</td>\n",
       "      <td>0.379592</td>\n",
       "      <td>0.677419</td>\n",
       "      <td>0.770175</td>\n",
       "      <td>0.213694</td>\n",
       "    </tr>\n",
       "    <tr>\n",
       "      <th>5</th>\n",
       "      <td>1</td>\n",
       "      <td>35</td>\n",
       "      <td>0.45</td>\n",
       "      <td>1</td>\n",
       "      <td>0</td>\n",
       "      <td>0.423913</td>\n",
       "      <td>0.256410</td>\n",
       "      <td>0.836952</td>\n",
       "      <td>0.294461</td>\n",
       "    </tr>\n",
       "  </tbody>\n",
       "</table>\n",
       "</div>"
      ],
      "text/plain": [
       "   is_male  join_age  s_class_rank  is_std  is_left_Dec15  pct_gym_usage  \\\n",
       "0        1        20          0.45       1              0       0.645161   \n",
       "2        0        33          0.73       1              0       0.673469   \n",
       "3        0        44          0.45       1              1       0.565217   \n",
       "4        1        33          0.25       1              1       0.379592   \n",
       "5        1        35          0.45       1              0       0.423913   \n",
       "\n",
       "   pct_peak  club_profit_pct_unif  club_visitor_unif  \n",
       "0  0.450000              0.691850           0.067241  \n",
       "2  0.666667              0.789494           0.250945  \n",
       "3  0.615385              1.000000           0.257892  \n",
       "4  0.677419              0.770175           0.213694  \n",
       "5  0.256410              0.836952           0.294461  "
      ]
     },
     "execution_count": 18,
     "metadata": {},
     "output_type": "execute_result"
    }
   ],
   "source": [
    "# Visualise the x variables in a table\n",
    "x.head()"
   ]
  },
  {
   "cell_type": "markdown",
   "metadata": {},
   "source": [
    "### 2. Modelling"
   ]
  },
  {
   "cell_type": "markdown",
   "metadata": {},
   "source": [
    "#### 2.1 Run OLS model "
   ]
  },
  {
   "cell_type": "code",
   "execution_count": 14,
   "metadata": {},
   "outputs": [],
   "source": [
    "import statsmodels.api as sm"
   ]
  },
  {
   "cell_type": "code",
   "execution_count": 19,
   "metadata": {},
   "outputs": [
    {
     "data": {
      "text/html": [
       "<table class=\"simpletable\">\n",
       "<caption>OLS Regression Results</caption>\n",
       "<tr>\n",
       "  <th>Dep. Variable:</th>       <td>mth_active</td>    <th>  R-squared:         </th>  <td>   0.763</td>  \n",
       "</tr>\n",
       "<tr>\n",
       "  <th>Model:</th>                   <td>OLS</td>       <th>  Adj. R-squared:    </th>  <td>   0.763</td>  \n",
       "</tr>\n",
       "<tr>\n",
       "  <th>Method:</th>             <td>Least Squares</td>  <th>  F-statistic:       </th>  <td>2.850e+05</td> \n",
       "</tr>\n",
       "<tr>\n",
       "  <th>Date:</th>             <td>Mon, 05 Aug 2019</td> <th>  Prob (F-statistic):</th>   <td>  0.00</td>   \n",
       "</tr>\n",
       "<tr>\n",
       "  <th>Time:</th>                 <td>11:58:27</td>     <th>  Log-Likelihood:    </th> <td>-1.9762e+06</td>\n",
       "</tr>\n",
       "<tr>\n",
       "  <th>No. Observations:</th>      <td>797656</td>      <th>  AIC:               </th>  <td>3.952e+06</td> \n",
       "</tr>\n",
       "<tr>\n",
       "  <th>Df Residuals:</th>          <td>797647</td>      <th>  BIC:               </th>  <td>3.953e+06</td> \n",
       "</tr>\n",
       "<tr>\n",
       "  <th>Df Model:</th>              <td>     9</td>      <th>                     </th>      <td> </td>     \n",
       "</tr>\n",
       "<tr>\n",
       "  <th>Covariance Type:</th>      <td>nonrobust</td>    <th>                     </th>      <td> </td>     \n",
       "</tr>\n",
       "</table>\n",
       "<table class=\"simpletable\">\n",
       "<tr>\n",
       "            <td></td>              <th>coef</th>     <th>std err</th>      <th>t</th>      <th>P>|t|</th>  <th>[0.025</th>    <th>0.975]</th>  \n",
       "</tr>\n",
       "<tr>\n",
       "  <th>is_male</th>              <td>    0.2160</td> <td>    0.006</td> <td>   33.717</td> <td> 0.000</td> <td>    0.203</td> <td>    0.229</td>\n",
       "</tr>\n",
       "<tr>\n",
       "  <th>join_age</th>             <td>    0.0397</td> <td>    0.000</td> <td>  110.042</td> <td> 0.000</td> <td>    0.039</td> <td>    0.040</td>\n",
       "</tr>\n",
       "<tr>\n",
       "  <th>s_class_rank</th>         <td>    0.5186</td> <td>    0.013</td> <td>   39.490</td> <td> 0.000</td> <td>    0.493</td> <td>    0.544</td>\n",
       "</tr>\n",
       "<tr>\n",
       "  <th>is_std</th>               <td>    1.9375</td> <td>    0.008</td> <td>  242.544</td> <td> 0.000</td> <td>    1.922</td> <td>    1.953</td>\n",
       "</tr>\n",
       "<tr>\n",
       "  <th>is_left_Dec15</th>        <td>   -0.3211</td> <td>    0.021</td> <td>  -15.045</td> <td> 0.000</td> <td>   -0.363</td> <td>   -0.279</td>\n",
       "</tr>\n",
       "<tr>\n",
       "  <th>pct_gym_usage</th>        <td>    3.5964</td> <td>    0.016</td> <td>  222.448</td> <td> 0.000</td> <td>    3.565</td> <td>    3.628</td>\n",
       "</tr>\n",
       "<tr>\n",
       "  <th>pct_peak</th>             <td>   -1.1755</td> <td>    0.021</td> <td>  -55.724</td> <td> 0.000</td> <td>   -1.217</td> <td>   -1.134</td>\n",
       "</tr>\n",
       "<tr>\n",
       "  <th>club_profit_pct_unif</th> <td>    0.4123</td> <td>    0.014</td> <td>   30.259</td> <td> 0.000</td> <td>    0.386</td> <td>    0.439</td>\n",
       "</tr>\n",
       "<tr>\n",
       "  <th>club_visitor_unif</th>    <td>    1.6910</td> <td>    0.038</td> <td>   44.351</td> <td> 0.000</td> <td>    1.616</td> <td>    1.766</td>\n",
       "</tr>\n",
       "</table>\n",
       "<table class=\"simpletable\">\n",
       "<tr>\n",
       "  <th>Omnibus:</th>       <td>355879.007</td> <th>  Durbin-Watson:     </th>  <td>   2.000</td>  \n",
       "</tr>\n",
       "<tr>\n",
       "  <th>Prob(Omnibus):</th>   <td> 0.000</td>   <th>  Jarque-Bera (JB):  </th> <td>2409886.320</td>\n",
       "</tr>\n",
       "<tr>\n",
       "  <th>Skew:</th>            <td> 2.036</td>   <th>  Prob(JB):          </th>  <td>    0.00</td>  \n",
       "</tr>\n",
       "<tr>\n",
       "  <th>Kurtosis:</th>        <td>10.478</td>   <th>  Cond. No.          </th>  <td>    391.</td>  \n",
       "</tr>\n",
       "</table><br/><br/>Warnings:<br/>[1] Standard Errors assume that the covariance matrix of the errors is correctly specified."
      ],
      "text/plain": [
       "<class 'statsmodels.iolib.summary.Summary'>\n",
       "\"\"\"\n",
       "                            OLS Regression Results                            \n",
       "==============================================================================\n",
       "Dep. Variable:             mth_active   R-squared:                       0.763\n",
       "Model:                            OLS   Adj. R-squared:                  0.763\n",
       "Method:                 Least Squares   F-statistic:                 2.850e+05\n",
       "Date:                Mon, 05 Aug 2019   Prob (F-statistic):               0.00\n",
       "Time:                        11:58:27   Log-Likelihood:            -1.9762e+06\n",
       "No. Observations:              797656   AIC:                         3.952e+06\n",
       "Df Residuals:                  797647   BIC:                         3.953e+06\n",
       "Df Model:                           9                                         \n",
       "Covariance Type:            nonrobust                                         \n",
       "========================================================================================\n",
       "                           coef    std err          t      P>|t|      [0.025      0.975]\n",
       "----------------------------------------------------------------------------------------\n",
       "is_male                  0.2160      0.006     33.717      0.000       0.203       0.229\n",
       "join_age                 0.0397      0.000    110.042      0.000       0.039       0.040\n",
       "s_class_rank             0.5186      0.013     39.490      0.000       0.493       0.544\n",
       "is_std                   1.9375      0.008    242.544      0.000       1.922       1.953\n",
       "is_left_Dec15           -0.3211      0.021    -15.045      0.000      -0.363      -0.279\n",
       "pct_gym_usage            3.5964      0.016    222.448      0.000       3.565       3.628\n",
       "pct_peak                -1.1755      0.021    -55.724      0.000      -1.217      -1.134\n",
       "club_profit_pct_unif     0.4123      0.014     30.259      0.000       0.386       0.439\n",
       "club_visitor_unif        1.6910      0.038     44.351      0.000       1.616       1.766\n",
       "==============================================================================\n",
       "Omnibus:                   355879.007   Durbin-Watson:                   2.000\n",
       "Prob(Omnibus):                  0.000   Jarque-Bera (JB):          2409886.320\n",
       "Skew:                           2.036   Prob(JB):                         0.00\n",
       "Kurtosis:                      10.478   Cond. No.                         391.\n",
       "==============================================================================\n",
       "\n",
       "Warnings:\n",
       "[1] Standard Errors assume that the covariance matrix of the errors is correctly specified.\n",
       "\"\"\""
      ]
     },
     "execution_count": 19,
     "metadata": {},
     "output_type": "execute_result"
    }
   ],
   "source": [
    "model = sm.OLS(y, x).fit()\n",
    "predictions = model.predict(x)\n",
    "model.summary()"
   ]
  },
  {
   "cell_type": "markdown",
   "metadata": {},
   "source": [
    "#### From the chart above, we can see that R-squared is 76.3%， meaning that 76.3% of the variation in the number of months a customer remains as a member in the gym can be explained by the model. The attributes 'is_male', 'join_age', 's_class_rank', 'is_std', 'pct_gym_usage', 'club_profit_pct_unif' and 'club_visitor_unif' have positive effect on the duration of membership while attributes 'is_left_Dec15' and 'pct_peak' show negative effect on the same. "
   ]
  },
  {
   "cell_type": "markdown",
   "metadata": {},
   "source": [
    "### 2.2 Run the decision tree model"
   ]
  },
  {
   "cell_type": "code",
   "execution_count": 20,
   "metadata": {},
   "outputs": [],
   "source": [
    "from sklearn.tree import export_graphviz\n",
    "from sklearn.externals.six import StringIO\n",
    "from IPython.display import Image\n",
    "import pydotplus\n",
    "\n",
    "from sklearn.metrics import accuracy_score\n",
    "from sklearn.model_selection import train_test_split\n",
    "from sklearn.metrics import confusion_matrix\n",
    "from sklearn.tree import DecisionTreeRegressor"
   ]
  },
  {
   "cell_type": "code",
   "execution_count": 21,
   "metadata": {},
   "outputs": [
    {
     "name": "stdout",
     "output_type": "stream",
     "text": [
      " Training: 678007 | Validation: 119648\n"
     ]
    }
   ],
   "source": [
    "# Splitting up the dataset into two datesets: Training 85%, Validation 15%\n",
    "train_x, valid_x, train_y, valid_y = train_test_split(x, y, train_size=int(len(x)*0.85), test_size=int(len(x)*0.15))\n",
    "print(f\" Training: {len(train_x)} | Validation: {len(valid_x)}\")"
   ]
  },
  {
   "cell_type": "code",
   "execution_count": 23,
   "metadata": {},
   "outputs": [
    {
     "data": {
      "image/png": "[encoded data removed]",
      "text/plain": [
       "<Figure size 648x432 with 1 Axes>"
      ]
     },
     "metadata": {
      "needs_background": "light"
     },
     "output_type": "display_data"
    }
   ],
   "source": [
    "# find the optimal max depth for the decision tree\n",
    "score = []\n",
    "\n",
    "for i in range(1, 30):\n",
    "    reg = DecisionTreeRegressor(max_depth = i)\n",
    "    reg.fit(train_x, train_y)\n",
    "    \n",
    "    t_score = reg.score(train_x, train_y)\n",
    "    v_score = reg.score(valid_x, valid_y)\n",
    "    score.append([i, t_score, v_score])\n",
    "\n",
    "score = np.asarray(score)\n",
    "\n",
    "# Plot the graph for the accuracy of regressor by max depth\n",
    "\n",
    "plt.figure(figsize=(9,6))\n",
    "plt.plot(score[:,0],score[:,1:]) \n",
    "\n",
    "plt.legend(['training set', 'validation set']);\n",
    "plt.title('Accuracy of Regressor by Max_depth')\n",
    "plt.xticks(range(1,30,1))\n",
    "plt.xlabel('Max_depth')\n",
    "plt.ylabel('Accuracy')\n",
    "plt.show()"
   ]
  },
  {
   "cell_type": "markdown",
   "metadata": {},
   "source": [
    "#### By observation from the graph above, the accuracy rates for the validation dataset do not reach 40% across the different max_depths."
   ]
  },
  {
   "cell_type": "markdown",
   "metadata": {},
   "source": [
    "### 2.3 Run the Random Forest model"
   ]
  },
  {
   "cell_type": "code",
   "execution_count": 24,
   "metadata": {},
   "outputs": [],
   "source": [
    "from sklearn.ensemble import RandomForestRegressor\n",
    "from sklearn.metrics import accuracy_score\n",
    "from sklearn.metrics import f1_score\n",
    "from sklearn.metrics import confusion_matrix"
   ]
  },
  {
   "cell_type": "markdown",
   "metadata": {},
   "source": [
    "#### 2.3.1 Training the Random Forest Model on the training and validation dataset   \n",
    "\n",
    "Result from Grid Search suggests that max_depth should be 30 or more, however n_estiamtor can be reduced for the random forest model"
   ]
  },
  {
   "cell_type": "code",
   "execution_count": 29,
   "metadata": {},
   "outputs": [
    {
     "name": "stdout",
     "output_type": "stream",
     "text": [
      " The accuracy rate for training dataset: 92.03%.\n"
     ]
    }
   ],
   "source": [
    "#  Training the random forest model on the training dataset\n",
    "rgr = RandomForestRegressor(n_estimators=15, max_depth=50, random_state=0)\n",
    "rgr.fit(train_x, train_y)\n",
    " \n",
    "# Showing the accuracy rates for the model on training dataset \n",
    "t_score = rgr.score(train_x, train_y)\n",
    "\n",
    "print(f\" The accuracy rate for training dataset: {t_score :.2%}.\")"
   ]
  },
  {
   "cell_type": "code",
   "execution_count": 28,
   "metadata": {},
   "outputs": [
    {
     "name": "stdout",
     "output_type": "stream",
     "text": [
      " The accuracy of the random forest model on the validation set is 52.93%.\n"
     ]
    }
   ],
   "source": [
    "alid_y_pred = rgr.predict(valid_x)\n",
    "valid_score = rgr.score(valid_x, valid_y)\n",
    "print(f\" The accuracy of the random forest model on the validation set is {valid_score :.2%}.\")"
   ]
  },
  {
   "cell_type": "markdown",
   "metadata": {},
   "source": [
    "#### 2.3.2 Re-train using all ceased member "
   ]
  },
  {
   "cell_type": "code",
   "execution_count": 30,
   "metadata": {},
   "outputs": [
    {
     "data": {
      "text/plain": [
       "RandomForestRegressor(bootstrap=True, criterion='mse', max_depth=50,\n",
       "           max_features='auto', max_leaf_nodes=None,\n",
       "           min_impurity_decrease=0.0, min_impurity_split=None,\n",
       "           min_samples_leaf=1, min_samples_split=2,\n",
       "           min_weight_fraction_leaf=0.0, n_estimators=15, n_jobs=None,\n",
       "           oob_score=False, random_state=0, verbose=0, warm_start=False)"
      ]
     },
     "execution_count": 30,
     "metadata": {},
     "output_type": "execute_result"
    }
   ],
   "source": [
    "rgr.fit(x, y)"
   ]
  },
  {
   "cell_type": "markdown",
   "metadata": {},
   "source": [
    "#### 2.3.3 Prediction on membership life of existing members based on the re-trained model"
   ]
  },
  {
   "cell_type": "code",
   "execution_count": 31,
   "metadata": {},
   "outputs": [
    {
     "name": "stderr",
     "output_type": "stream",
     "text": [
      "C:\\Users\\Isabella\\Anaconda3\\lib\\site-packages\\ipykernel_launcher.py:1: SettingWithCopyWarning: \n",
      "A value is trying to be set on a copy of a slice from a DataFrame.\n",
      "Try using .loc[row_indexer,col_indexer] = value instead\n",
      "\n",
      "See the caveats in the documentation: http://pandas.pydata.org/pandas-docs/stable/indexing.html#indexing-view-versus-copy\n",
      "  \"\"\"Entry point for launching an IPython kernel.\n",
      "C:\\Users\\Isabella\\Anaconda3\\lib\\site-packages\\ipykernel_launcher.py:2: SettingWithCopyWarning: \n",
      "A value is trying to be set on a copy of a slice from a DataFrame.\n",
      "Try using .loc[row_indexer,col_indexer] = value instead\n",
      "\n",
      "See the caveats in the documentation: http://pandas.pydata.org/pandas-docs/stable/indexing.html#indexing-view-versus-copy\n",
      "  \n"
     ]
    }
   ],
   "source": [
    "active_db['club_profit_pct_unif'] = (active_db['rev_%'] - np.min(active_db['rev_%'])) / (np.max(active_db['rev_%']) - np.min(active_db['rev_%']))\n",
    "active_db['club_visitor_unif'] = (active_db['gym_mthly_visit'] - np.min(active_db['gym_mthly_visit'])) / (np.max(active_db['gym_mthly_visit']) - np.min(ceased_db['rev_%']))\n",
    "\n",
    "test_x = active_db[['is_male', 'join_age', 's_class_rank', 'is_std', 'is_left_Dec15', 'pct_gym_usage', 'pct_peak',\n",
    "               'club_profit_pct_unif','club_visitor_unif']]\n",
    "test_y = active_db['mth_active']\n",
    "\n",
    "test_y_pred = rgr.predict(test_x)"
   ]
  },
  {
   "cell_type": "markdown",
   "metadata": {},
   "source": [
    "#### 2.3.4 Examine fitted features of the re-trained model"
   ]
  },
  {
   "cell_type": "code",
   "execution_count": 32,
   "metadata": {},
   "outputs": [
    {
     "data": {
      "text/html": [
       "<div>\n",
       "<style scoped>\n",
       "    .dataframe tbody tr th:only-of-type {\n",
       "        vertical-align: middle;\n",
       "    }\n",
       "\n",
       "    .dataframe tbody tr th {\n",
       "        vertical-align: top;\n",
       "    }\n",
       "\n",
       "    .dataframe thead th {\n",
       "        text-align: right;\n",
       "    }\n",
       "</style>\n",
       "<table border=\"1\" class=\"dataframe\">\n",
       "  <thead>\n",
       "    <tr style=\"text-align: right;\">\n",
       "      <th></th>\n",
       "      <th>importance</th>\n",
       "    </tr>\n",
       "  </thead>\n",
       "  <tbody>\n",
       "    <tr>\n",
       "      <th>pct_gym_usage</th>\n",
       "      <td>0.468222</td>\n",
       "    </tr>\n",
       "    <tr>\n",
       "      <th>pct_peak</th>\n",
       "      <td>0.253516</td>\n",
       "    </tr>\n",
       "    <tr>\n",
       "      <th>is_std</th>\n",
       "      <td>0.082345</td>\n",
       "    </tr>\n",
       "    <tr>\n",
       "      <th>join_age</th>\n",
       "      <td>0.067832</td>\n",
       "    </tr>\n",
       "    <tr>\n",
       "      <th>club_visitor_unif</th>\n",
       "      <td>0.043097</td>\n",
       "    </tr>\n",
       "    <tr>\n",
       "      <th>club_profit_pct_unif</th>\n",
       "      <td>0.041143</td>\n",
       "    </tr>\n",
       "    <tr>\n",
       "      <th>s_class_rank</th>\n",
       "      <td>0.027847</td>\n",
       "    </tr>\n",
       "    <tr>\n",
       "      <th>is_male</th>\n",
       "      <td>0.010551</td>\n",
       "    </tr>\n",
       "    <tr>\n",
       "      <th>is_left_Dec15</th>\n",
       "      <td>0.005448</td>\n",
       "    </tr>\n",
       "  </tbody>\n",
       "</table>\n",
       "</div>"
      ],
      "text/plain": [
       "                      importance\n",
       "pct_gym_usage           0.468222\n",
       "pct_peak                0.253516\n",
       "is_std                  0.082345\n",
       "join_age                0.067832\n",
       "club_visitor_unif       0.043097\n",
       "club_profit_pct_unif    0.041143\n",
       "s_class_rank            0.027847\n",
       "is_male                 0.010551\n",
       "is_left_Dec15           0.005448"
      ]
     },
     "execution_count": 32,
     "metadata": {},
     "output_type": "execute_result"
    }
   ],
   "source": [
    "feature_importances = pd.DataFrame(rgr.feature_importances_, index = test_x.columns, \n",
    "                                   columns=['importance']).sort_values('importance', ascending=False)\n",
    "feature_importances"
   ]
  },
  {
   "cell_type": "markdown",
   "metadata": {},
   "source": [
    "#### we can see from the above that almost 50% of the importance comes from pct_gym_usage, ranking the first, followed by pct_peak, contributing approximately 25% of the importance, and next comes the is_std with approximately 8% of importance."
   ]
  },
  {
   "cell_type": "markdown",
   "metadata": {},
   "source": [
    "#### 2.3.5 Create an expected remaining membership life column for each active member based on the random forest model above and we denote it \"mth_till_churn\" for simplicity purpose."
   ]
  },
  {
   "cell_type": "code",
   "execution_count": 33,
   "metadata": {},
   "outputs": [
    {
     "name": "stderr",
     "output_type": "stream",
     "text": [
      "C:\\Users\\Isabella\\Anaconda3\\lib\\site-packages\\ipykernel_launcher.py:1: SettingWithCopyWarning: \n",
      "A value is trying to be set on a copy of a slice from a DataFrame.\n",
      "Try using .loc[row_indexer,col_indexer] = value instead\n",
      "\n",
      "See the caveats in the documentation: http://pandas.pydata.org/pandas-docs/stable/indexing.html#indexing-view-versus-copy\n",
      "  \"\"\"Entry point for launching an IPython kernel.\n",
      "C:\\Users\\Isabella\\Anaconda3\\lib\\site-packages\\ipykernel_launcher.py:2: SettingWithCopyWarning: \n",
      "A value is trying to be set on a copy of a slice from a DataFrame.\n",
      "Try using .loc[row_indexer,col_indexer] = value instead\n",
      "\n",
      "See the caveats in the documentation: http://pandas.pydata.org/pandas-docs/stable/indexing.html#indexing-view-versus-copy\n",
      "  \n",
      "C:\\Users\\Isabella\\Anaconda3\\lib\\site-packages\\ipykernel_launcher.py:3: SettingWithCopyWarning: \n",
      "A value is trying to be set on a copy of a slice from a DataFrame\n",
      "\n",
      "See the caveats in the documentation: http://pandas.pydata.org/pandas-docs/stable/indexing.html#indexing-view-versus-copy\n",
      "  This is separate from the ipykernel package so we can avoid doing imports until\n",
      "C:\\Users\\Isabella\\Anaconda3\\lib\\site-packages\\pandas\\core\\generic.py:8682: SettingWithCopyWarning: \n",
      "A value is trying to be set on a copy of a slice from a DataFrame\n",
      "\n",
      "See the caveats in the documentation: http://pandas.pydata.org/pandas-docs/stable/indexing.html#indexing-view-versus-copy\n",
      "  self._update_inplace(new_data)\n",
      "C:\\Users\\Isabella\\Anaconda3\\lib\\site-packages\\IPython\\core\\interactiveshell.py:3296: SettingWithCopyWarning: \n",
      "A value is trying to be set on a copy of a slice from a DataFrame\n",
      "\n",
      "See the caveats in the documentation: http://pandas.pydata.org/pandas-docs/stable/indexing.html#indexing-view-versus-copy\n",
      "  exec(code_obj, self.user_global_ns, self.user_ns)\n"
     ]
    },
    {
     "data": {
      "text/html": [
       "<div>\n",
       "<style scoped>\n",
       "    .dataframe tbody tr th:only-of-type {\n",
       "        vertical-align: middle;\n",
       "    }\n",
       "\n",
       "    .dataframe tbody tr th {\n",
       "        vertical-align: top;\n",
       "    }\n",
       "\n",
       "    .dataframe thead th {\n",
       "        text-align: right;\n",
       "    }\n",
       "</style>\n",
       "<table border=\"1\" class=\"dataframe\">\n",
       "  <thead>\n",
       "    <tr style=\"text-align: right;\">\n",
       "      <th></th>\n",
       "      <th>id</th>\n",
       "      <th>is_male</th>\n",
       "      <th>club</th>\n",
       "      <th>join_age</th>\n",
       "      <th>s_class_rank</th>\n",
       "      <th>is_std</th>\n",
       "      <th>pct_gym_usage</th>\n",
       "      <th>pct_peak</th>\n",
       "      <th>mth_active</th>\n",
       "      <th>pred_mth_active</th>\n",
       "      <th>mth_til_churn</th>\n",
       "    </tr>\n",
       "  </thead>\n",
       "  <tbody>\n",
       "    <tr>\n",
       "      <th>1</th>\n",
       "      <td>2</td>\n",
       "      <td>0</td>\n",
       "      <td>Greenwich</td>\n",
       "      <td>46</td>\n",
       "      <td>0.96</td>\n",
       "      <td>1</td>\n",
       "      <td>0.302041</td>\n",
       "      <td>0.554054</td>\n",
       "      <td>8</td>\n",
       "      <td>9.800000</td>\n",
       "      <td>1.800000</td>\n",
       "    </tr>\n",
       "    <tr>\n",
       "      <th>13</th>\n",
       "      <td>14</td>\n",
       "      <td>0</td>\n",
       "      <td>Ealing</td>\n",
       "      <td>37</td>\n",
       "      <td>0.96</td>\n",
       "      <td>1</td>\n",
       "      <td>0.467391</td>\n",
       "      <td>0.593023</td>\n",
       "      <td>6</td>\n",
       "      <td>7.800000</td>\n",
       "      <td>1.800000</td>\n",
       "    </tr>\n",
       "    <tr>\n",
       "      <th>37</th>\n",
       "      <td>38</td>\n",
       "      <td>1</td>\n",
       "      <td>Hammersmith</td>\n",
       "      <td>35</td>\n",
       "      <td>0.73</td>\n",
       "      <td>0</td>\n",
       "      <td>0.200000</td>\n",
       "      <td>0.302326</td>\n",
       "      <td>7</td>\n",
       "      <td>5.933333</td>\n",
       "      <td>0.000000</td>\n",
       "    </tr>\n",
       "    <tr>\n",
       "      <th>48</th>\n",
       "      <td>49</td>\n",
       "      <td>1</td>\n",
       "      <td>Kingston upon Thames</td>\n",
       "      <td>28</td>\n",
       "      <td>0.73</td>\n",
       "      <td>1</td>\n",
       "      <td>0.569106</td>\n",
       "      <td>0.642857</td>\n",
       "      <td>4</td>\n",
       "      <td>4.133333</td>\n",
       "      <td>0.133333</td>\n",
       "    </tr>\n",
       "    <tr>\n",
       "      <th>94</th>\n",
       "      <td>95</td>\n",
       "      <td>1</td>\n",
       "      <td>Merton</td>\n",
       "      <td>18</td>\n",
       "      <td>0.73</td>\n",
       "      <td>1</td>\n",
       "      <td>0.728261</td>\n",
       "      <td>0.427861</td>\n",
       "      <td>9</td>\n",
       "      <td>9.400000</td>\n",
       "      <td>0.400000</td>\n",
       "    </tr>\n",
       "  </tbody>\n",
       "</table>\n",
       "</div>"
      ],
      "text/plain": [
       "    id  is_male                  club  join_age  s_class_rank  is_std  \\\n",
       "1    2        0             Greenwich        46          0.96       1   \n",
       "13  14        0                Ealing        37          0.96       1   \n",
       "37  38        1           Hammersmith        35          0.73       0   \n",
       "48  49        1  Kingston upon Thames        28          0.73       1   \n",
       "94  95        1                Merton        18          0.73       1   \n",
       "\n",
       "    pct_gym_usage  pct_peak  mth_active  pred_mth_active  mth_til_churn  \n",
       "1        0.302041  0.554054           8         9.800000       1.800000  \n",
       "13       0.467391  0.593023           6         7.800000       1.800000  \n",
       "37       0.200000  0.302326           7         5.933333       0.000000  \n",
       "48       0.569106  0.642857           4         4.133333       0.133333  \n",
       "94       0.728261  0.427861           9         9.400000       0.400000  "
      ]
     },
     "execution_count": 33,
     "metadata": {},
     "output_type": "execute_result"
    }
   ],
   "source": [
    "active_db['pred_mth_active'] = test_y_pred\n",
    "active_db['mth_til_churn'] = active_db['pred_mth_active'] - active_db['mth_active']\n",
    "active_db['mth_til_churn'][active_db['mth_til_churn']  <= 0] = 0\n",
    "\n",
    "predictions = active_db[['id', 'is_male','club', 'join_age', 's_class_rank', 'is_std','pct_gym_usage','pct_peak',\n",
    "               'mth_active','pred_mth_active', 'mth_til_churn']]\n",
    "\n",
    "predictions.head()"
   ]
  },
  {
   "cell_type": "markdown",
   "metadata": {},
   "source": [
    "### 2.3.6 Prediction on the number of people that will churn within the next one month by club"
   ]
  },
  {
   "cell_type": "code",
   "execution_count": 34,
   "metadata": {},
   "outputs": [
    {
     "name": "stdout",
     "output_type": "stream",
     "text": [
      "33983 people are predicted to churn within one month.\n"
     ]
    },
    {
     "data": {
      "text/plain": [
       "club\n",
       "Kensington and Chelsea    1323\n",
       "Hammersmith               1289\n",
       "Barking                   1254\n",
       "Bromley                   1234\n",
       "Havering                  1234\n",
       "Lewisham                  1228\n",
       "Kingston upon Thames      1209\n",
       "Hackney                   1190\n",
       "Croydon                   1161\n",
       "Newham                    1136\n",
       "Islington                 1133\n",
       "Wandsworth                1132\n",
       "Southwark                 1127\n",
       "Waltham Forest            1103\n",
       "Tower Hamlets             1087\n",
       "Merton                    1081\n",
       "Brent                     1076\n",
       "Harrow                    1040\n",
       "Hillingdon                1039\n",
       "Barnet                    1019\n",
       "Greenwich                 1018\n",
       "Camden                    1008\n",
       "Lambeth                    978\n",
       "Bexley                     940\n",
       "Hounslow                   932\n",
       "Ealing                     920\n",
       "Redbridge                  913\n",
       "Richmond upon Thames       906\n",
       "Westminster                869\n",
       "Haringey                   833\n",
       "Sutton                     828\n",
       "Enfield                    743\n",
       "Name: id, dtype: int64"
      ]
     },
     "execution_count": 34,
     "metadata": {},
     "output_type": "execute_result"
    }
   ],
   "source": [
    "# the prediction on the total number of people that will churn within the next one month\n",
    "leaving_1m = predictions[predictions['mth_til_churn']<=1]\n",
    "print(f'{len(leaving_1m)} people are predicted to churn within one month.')\n",
    "\n",
    "# the prediction on the number of people that will churn within the next one month by clubs\n",
    "leaving_1m.groupby(['club'])['id'].count().sort_values(ascending = False)"
   ]
  },
  {
   "cell_type": "markdown",
   "metadata": {},
   "source": [
    "### 2.3.7 Prediction on the number of people that will churn within the next three months by club"
   ]
  },
  {
   "cell_type": "code",
   "execution_count": 35,
   "metadata": {},
   "outputs": [
    {
     "name": "stdout",
     "output_type": "stream",
     "text": [
      "46448 people are predicted to churn within 3 month.\n"
     ]
    },
    {
     "data": {
      "text/plain": [
       "club\n",
       "Kensington and Chelsea    1922\n",
       "Hammersmith               1830\n",
       "Havering                  1773\n",
       "Barking                   1732\n",
       "Bromley                   1685\n",
       "Lewisham                  1667\n",
       "Kingston upon Thames      1620\n",
       "Hackney                   1577\n",
       "Newham                    1559\n",
       "Croydon                   1557\n",
       "Wandsworth                1554\n",
       "Southwark                 1550\n",
       "Waltham Forest            1493\n",
       "Brent                     1490\n",
       "Merton                    1482\n",
       "Tower Hamlets             1481\n",
       "Hillingdon                1472\n",
       "Islington                 1458\n",
       "Harrow                    1456\n",
       "Greenwich                 1393\n",
       "Barnet                    1378\n",
       "Camden                    1315\n",
       "Redbridge                 1314\n",
       "Bexley                    1309\n",
       "Lambeth                   1300\n",
       "Ealing                    1255\n",
       "Hounslow                  1228\n",
       "Richmond upon Thames      1184\n",
       "Westminster               1175\n",
       "Haringey                  1125\n",
       "Sutton                    1102\n",
       "Enfield                   1012\n",
       "Name: id, dtype: int64"
      ]
     },
     "execution_count": 35,
     "metadata": {},
     "output_type": "execute_result"
    }
   ],
   "source": [
    "# Prediction on the total number of people that will churn within the next three months\n",
    "leaving_3m = predictions[(predictions['mth_til_churn']<=3)]\n",
    "print(f'{len(leaving_3m)} people are predicted to churn within 3 month.')\n",
    "\n",
    "# Prediction on the number of people that will churn within the next three months by clubs\n",
    "leaving_3m.groupby(['club'])['id'].count().sort_values(ascending = False)"
   ]
  },
  {
   "cell_type": "markdown",
   "metadata": {},
   "source": [
    "#### Findings\n"
   ]
  },
  {
   "cell_type": "markdown",
   "metadata": {},
   "source": [
    "We find that the fitness of the three models are: (i)the OLS regression model, R-Squared is 76.3%; (ii) the decision tree, the accuracy rate for the validation dataset is lower than 40% and (iii) the random forest model, the accuracy rate for the validation dataset is 52.9%.\n",
    "As such, the random forest model is chosen for the prediction purpose.\n",
    "\n",
    "Our prediction outcome are:\n",
    "\n",
    "(i) "
   ]
  },
  {
   "cell_type": "markdown",
   "metadata": {},
   "source": [
    "#### Suggestions/Limitations\n",
    "[to insert suggestions and limitations]"
   ]
  },
  {
   "cell_type": "markdown",
   "metadata": {},
   "source": [
    "### Discussion"
   ]
  },
  {
   "cell_type": "markdown",
   "metadata": {},
   "source": [
    "[ To insert\n",
    "A short paragraph summarising the overall trend of the findings\n",
    "\n",
    "A clear statement of whether your hypothesis is correct (include caveats where\n",
    "necessary)\n",
    "\n",
    "An explanation of any errors\n",
    "\n",
    "A discussion of the strengths and limitations of the analysis.]\n"
   ]
  },
  {
   "cell_type": "markdown",
   "metadata": {},
   "source": [
    "### References"
   ]
  },
  {
   "cell_type": "markdown",
   "metadata": {},
   "source": [
    "[to insert any source used]"
   ]
  }
 ],
 "metadata": {
  "kernelspec": {
   "display_name": "Python 3",
   "language": "python",
   "name": "python3"
  },
  "language_info": {
   "codemirror_mode": {
    "name": "ipython",
    "version": 3
   },
   "file_extension": ".py",
   "mimetype": "text/x-python",
   "name": "python",
   "nbconvert_exporter": "python",
   "pygments_lexer": "ipython3",
   "version": "3.7.3"
  }
 },
 "nbformat": 4,
 "nbformat_minor": 2
}
